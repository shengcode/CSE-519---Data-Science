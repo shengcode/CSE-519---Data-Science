{
 "cells": [
  {
   "cell_type": "code",
   "execution_count": 127,
   "metadata": {},
   "outputs": [],
   "source": [
    "import pandas as pd\n",
    "import datetime\n",
    "import numpy as np"
   ]
  },
  {
   "cell_type": "code",
   "execution_count": 179,
   "metadata": {},
   "outputs": [],
   "source": [
    "ALL_SONG_PATH=\"D:/CSE519/Project/billboard_w_new_features_v7.csv\"\n",
    "MERGE_CSV_PATH=\"D:/CSE519/Project/billboard_w_song_facts_v2.csv\"\n",
    "MAX_CONTINUE_WEEKPATH=\"D:/CSE519/Project/billboard_with_song_facts_v3.csv\""
   ]
  },
  {
   "cell_type": "code",
   "execution_count": 157,
   "metadata": {},
   "outputs": [
    {
     "data": {
      "text/plain": [
       "(22406, 51)"
      ]
     },
     "execution_count": 157,
     "metadata": {},
     "output_type": "execute_result"
    }
   ],
   "source": [
    "allSong= pd.read_csv(ALL_SONG_PATH, encoding='latin-1')\n",
    "allSong_feature=pd.read_csv(MERGE_CSV_PATH,sep='\\t')\n",
    "allSong_feature.shape"
   ]
  },
  {
   "cell_type": "code",
   "execution_count": 130,
   "metadata": {},
   "outputs": [],
   "source": [
    "allSong['dateTime']=pd.DatetimeIndex(allSong['weekid'])\n",
    "datetime=pd.DatetimeIndex(allSong['dateTime'])"
   ]
  },
  {
   "cell_type": "code",
   "execution_count": 133,
   "metadata": {},
   "outputs": [],
   "source": [
    "def good_max_week(df):\n",
    "    song_group=df.groupby(['songid'])\n",
    "    song_info=[]\n",
    "    for index,group in song_group:\n",
    "        group.sort_values(by=['dateTime'],ascending=True)\n",
    "        songid=group['songid'].tolist()\n",
    "        songtime=group['dateTime'].tolist()\n",
    "        seg_array=[]\n",
    "        start_index=0\n",
    "        end_index=0\n",
    "        i=1\n",
    "        while (i<len(songtime)):   \n",
    "            if ((songtime[i]-songtime[i-1]).days/7!=1):\n",
    "                end_index=i        \n",
    "                seg_array.append(songtime[start_index: end_index])\n",
    "                start_index=end_index\n",
    "            i+=1\n",
    "        if ((start_index==end_index) & end_index<len(songtime)):\n",
    "            seg_array.append(songtime[end_index:len(songtime)])\n",
    "        \n",
    "        max_length=0\n",
    "        for element in seg_array:\n",
    "            if (len(element)>max_length):\n",
    "                max_length=len(element)\n",
    "        song_info.append((songid[0],max_length))        \n",
    "    song_df = pd.DataFrame(song_info, columns=['songid', 'continue_week'])\n",
    "    return song_df"
   ]
  },
  {
   "cell_type": "code",
   "execution_count": 134,
   "metadata": {},
   "outputs": [],
   "source": [
    "df=good_max_week(allSong)"
   ]
  },
  {
   "cell_type": "code",
   "execution_count": 163,
   "metadata": {},
   "outputs": [
    {
     "data": {
      "text/html": [
       "<div>\n",
       "<style scoped>\n",
       "    .dataframe tbody tr th:only-of-type {\n",
       "        vertical-align: middle;\n",
       "    }\n",
       "\n",
       "    .dataframe tbody tr th {\n",
       "        vertical-align: top;\n",
       "    }\n",
       "\n",
       "    .dataframe thead th {\n",
       "        text-align: right;\n",
       "    }\n",
       "</style>\n",
       "<table border=\"1\" class=\"dataframe\">\n",
       "  <thead>\n",
       "    <tr style=\"text-align: right;\">\n",
       "      <th></th>\n",
       "      <th>songid</th>\n",
       "      <th>continue_week</th>\n",
       "    </tr>\n",
       "  </thead>\n",
       "  <tbody>\n",
       "    <tr>\n",
       "      <th>0</th>\n",
       "      <td>\"B\" GirlsYoung And Restless</td>\n",
       "      <td>15</td>\n",
       "    </tr>\n",
       "    <tr>\n",
       "      <th>1</th>\n",
       "      <td>\"Cherry Cherry\" from Hot August NightNeil Diamond</td>\n",
       "      <td>10</td>\n",
       "    </tr>\n",
       "    <tr>\n",
       "      <th>2</th>\n",
       "      <td>\"Having A Party\" MedleyThe Ovations (Featuring...</td>\n",
       "      <td>9</td>\n",
       "    </tr>\n",
       "    <tr>\n",
       "      <th>3</th>\n",
       "      <td>\"Joy\" Pt. IIsaac Hayes</td>\n",
       "      <td>9</td>\n",
       "    </tr>\n",
       "    <tr>\n",
       "      <th>4</th>\n",
       "      <td>\"Roots\" MedleyQuincy Jones</td>\n",
       "      <td>7</td>\n",
       "    </tr>\n",
       "  </tbody>\n",
       "</table>\n",
       "</div>"
      ],
      "text/plain": [
       "                                              songid  continue_week\n",
       "0                        \"B\" GirlsYoung And Restless             15\n",
       "1  \"Cherry Cherry\" from Hot August NightNeil Diamond             10\n",
       "2  \"Having A Party\" MedleyThe Ovations (Featuring...              9\n",
       "3                             \"Joy\" Pt. IIsaac Hayes              9\n",
       "4                         \"Roots\" MedleyQuincy Jones              7"
      ]
     },
     "execution_count": 163,
     "metadata": {},
     "output_type": "execute_result"
    }
   ],
   "source": [
    "df.head()"
   ]
  },
  {
   "cell_type": "markdown",
   "metadata": {},
   "source": [
    "# Now merge the two dataFrame"
   ]
  },
  {
   "cell_type": "code",
   "execution_count": 164,
   "metadata": {},
   "outputs": [],
   "source": [
    "merged_frame=allSong_feature.merge(df, how='left')"
   ]
  },
  {
   "cell_type": "code",
   "execution_count": 178,
   "metadata": {},
   "outputs": [
    {
     "name": "stdout",
     "output_type": "stream",
     "text": [
      "(22406, 51)\n",
      "(22406, 52)\n"
     ]
    }
   ],
   "source": [
    "print(allSong_feature.shape)\n",
    "print(merged_frame.shape)\n"
   ]
  },
  {
   "cell_type": "code",
   "execution_count": 177,
   "metadata": {},
   "outputs": [
    {
     "data": {
      "text/html": [
       "<div>\n",
       "<style scoped>\n",
       "    .dataframe tbody tr th:only-of-type {\n",
       "        vertical-align: middle;\n",
       "    }\n",
       "\n",
       "    .dataframe tbody tr th {\n",
       "        vertical-align: top;\n",
       "    }\n",
       "\n",
       "    .dataframe thead th {\n",
       "        text-align: right;\n",
       "    }\n",
       "</style>\n",
       "<table border=\"1\" class=\"dataframe\">\n",
       "  <thead>\n",
       "    <tr style=\"text-align: right;\">\n",
       "      <th></th>\n",
       "      <th>url</th>\n",
       "      <th>weekid</th>\n",
       "      <th>week_position</th>\n",
       "      <th>song</th>\n",
       "      <th>performer</th>\n",
       "      <th>songid</th>\n",
       "      <th>instance</th>\n",
       "      <th>previous_week_position</th>\n",
       "      <th>rank</th>\n",
       "      <th>weeks_on_chart</th>\n",
       "      <th>...</th>\n",
       "      <th>wordcup</th>\n",
       "      <th>popularity</th>\n",
       "      <th>diff_year</th>\n",
       "      <th>adjusted_diff_year</th>\n",
       "      <th>log_rank</th>\n",
       "      <th>log_reverse_rank</th>\n",
       "      <th>log_weeks_on_chart</th>\n",
       "      <th>log_jump_time</th>\n",
       "      <th>log_max_duration</th>\n",
       "      <th>continue_week</th>\n",
       "    </tr>\n",
       "  </thead>\n",
       "  <tbody>\n",
       "  </tbody>\n",
       "</table>\n",
       "<p>0 rows × 52 columns</p>\n",
       "</div>"
      ],
      "text/plain": [
       "Empty DataFrame\n",
       "Columns: [url, weekid, week_position, song, performer, songid, instance, previous_week_position, rank, weeks_on_chart, year, week, jump_time, max_jump_duration, strict_rule, lenient_rule, all_time_greatest_artist, artist_died, christmas, church, classical, in_commercials, concerts, easter, fourth_of_july, funerals, graduations, grammys, halloween, in_movie_clueless, in_movies, in_plays, in_tv_shows, karaoke, lullabies, mtv_awards, phone_call, politicians, sporting_events, tv_show_theme, weddings, won_oscars, wordcup, popularity, diff_year, adjusted_diff_year, log_rank, log_reverse_rank, log_weeks_on_chart, log_jump_time, log_max_duration, continue_week]\n",
       "Index: []\n",
       "\n",
       "[0 rows x 52 columns]"
      ]
     },
     "execution_count": 177,
     "metadata": {},
     "output_type": "execute_result"
    }
   ],
   "source": [
    "nan_rows = merged_frame[merged_frame['songid'].isnull()]\n",
    "nan_rows"
   ]
  },
  {
   "cell_type": "markdown",
   "metadata": {},
   "source": [
    "# write the merged data frame to CSV file "
   ]
  },
  {
   "cell_type": "code",
   "execution_count": 180,
   "metadata": {},
   "outputs": [],
   "source": [
    "merged_frame.to_csv(MAX_CONTINUE_WEEKPATH, index=False)"
   ]
  },
  {
   "cell_type": "code",
   "execution_count": 181,
   "metadata": {},
   "outputs": [
    {
     "data": {
      "text/html": [
       "<div>\n",
       "<style scoped>\n",
       "    .dataframe tbody tr th:only-of-type {\n",
       "        vertical-align: middle;\n",
       "    }\n",
       "\n",
       "    .dataframe tbody tr th {\n",
       "        vertical-align: top;\n",
       "    }\n",
       "\n",
       "    .dataframe thead th {\n",
       "        text-align: right;\n",
       "    }\n",
       "</style>\n",
       "<table border=\"1\" class=\"dataframe\">\n",
       "  <thead>\n",
       "    <tr style=\"text-align: right;\">\n",
       "      <th></th>\n",
       "      <th>url</th>\n",
       "      <th>weekid</th>\n",
       "      <th>week_position</th>\n",
       "      <th>song</th>\n",
       "      <th>performer</th>\n",
       "      <th>songid</th>\n",
       "      <th>instance</th>\n",
       "      <th>previous_week_position</th>\n",
       "      <th>rank</th>\n",
       "      <th>weeks_on_chart</th>\n",
       "      <th>...</th>\n",
       "      <th>wordcup</th>\n",
       "      <th>popularity</th>\n",
       "      <th>diff_year</th>\n",
       "      <th>adjusted_diff_year</th>\n",
       "      <th>log_rank</th>\n",
       "      <th>log_reverse_rank</th>\n",
       "      <th>log_weeks_on_chart</th>\n",
       "      <th>log_jump_time</th>\n",
       "      <th>log_max_duration</th>\n",
       "      <th>continue_week</th>\n",
       "    </tr>\n",
       "  </thead>\n",
       "  <tbody>\n",
       "    <tr>\n",
       "      <th>0</th>\n",
       "      <td>http://www.billboard.com/charts/hot-100/1958-0...</td>\n",
       "      <td>1958-08-02</td>\n",
       "      <td>66</td>\n",
       "      <td>Delicious!</td>\n",
       "      <td>Jim Backus &amp; Friend</td>\n",
       "      <td>Delicious!Jim Backus &amp; Friend</td>\n",
       "      <td>1</td>\n",
       "      <td>NaN</td>\n",
       "      <td>66</td>\n",
       "      <td>2</td>\n",
       "      <td>...</td>\n",
       "      <td>0</td>\n",
       "      <td>28</td>\n",
       "      <td>60</td>\n",
       "      <td>59.5</td>\n",
       "      <td>4.189655</td>\n",
       "      <td>3.555348</td>\n",
       "      <td>0.693147</td>\n",
       "      <td>0.0</td>\n",
       "      <td>2.639057</td>\n",
       "      <td>1</td>\n",
       "    </tr>\n",
       "    <tr>\n",
       "      <th>1</th>\n",
       "      <td>http://www.billboard.com/charts/hot-100/1958-0...</td>\n",
       "      <td>1958-08-02</td>\n",
       "      <td>82</td>\n",
       "      <td>Blip Blop</td>\n",
       "      <td>Bill Doggett</td>\n",
       "      <td>Blip BlopBill Doggett</td>\n",
       "      <td>1</td>\n",
       "      <td>NaN</td>\n",
       "      <td>82</td>\n",
       "      <td>2</td>\n",
       "      <td>...</td>\n",
       "      <td>0</td>\n",
       "      <td>12</td>\n",
       "      <td>60</td>\n",
       "      <td>59.5</td>\n",
       "      <td>4.406719</td>\n",
       "      <td>2.944439</td>\n",
       "      <td>0.693147</td>\n",
       "      <td>0.0</td>\n",
       "      <td>2.639057</td>\n",
       "      <td>1</td>\n",
       "    </tr>\n",
       "    <tr>\n",
       "      <th>2</th>\n",
       "      <td>http://www.billboard.com/charts/hot-100/1958-0...</td>\n",
       "      <td>1958-08-02</td>\n",
       "      <td>95</td>\n",
       "      <td>Little Mary</td>\n",
       "      <td>Fats Domino</td>\n",
       "      <td>Little MaryFats Domino</td>\n",
       "      <td>1</td>\n",
       "      <td>NaN</td>\n",
       "      <td>72</td>\n",
       "      <td>2</td>\n",
       "      <td>...</td>\n",
       "      <td>0</td>\n",
       "      <td>9</td>\n",
       "      <td>60</td>\n",
       "      <td>59.5</td>\n",
       "      <td>4.276666</td>\n",
       "      <td>3.367296</td>\n",
       "      <td>0.693147</td>\n",
       "      <td>0.0</td>\n",
       "      <td>0.000000</td>\n",
       "      <td>2</td>\n",
       "    </tr>\n",
       "    <tr>\n",
       "      <th>3</th>\n",
       "      <td>http://www.billboard.com/charts/hot-100/1958-0...</td>\n",
       "      <td>1958-08-02</td>\n",
       "      <td>52</td>\n",
       "      <td>Early In The Morning</td>\n",
       "      <td>The Rinky-Dinks</td>\n",
       "      <td>Early In The MorningThe Rinky-Dinks</td>\n",
       "      <td>1</td>\n",
       "      <td>NaN</td>\n",
       "      <td>24</td>\n",
       "      <td>9</td>\n",
       "      <td>...</td>\n",
       "      <td>0</td>\n",
       "      <td>23</td>\n",
       "      <td>60</td>\n",
       "      <td>59.5</td>\n",
       "      <td>3.178054</td>\n",
       "      <td>4.343805</td>\n",
       "      <td>2.197225</td>\n",
       "      <td>0.0</td>\n",
       "      <td>0.000000</td>\n",
       "      <td>9</td>\n",
       "    </tr>\n",
       "    <tr>\n",
       "      <th>4</th>\n",
       "      <td>http://www.billboard.com/charts/hot-100/1958-0...</td>\n",
       "      <td>1958-08-02</td>\n",
       "      <td>83</td>\n",
       "      <td>Try The Impossible</td>\n",
       "      <td>Lee Andrews And The Hearts</td>\n",
       "      <td>Try The ImpossibleLee Andrews And The Hearts</td>\n",
       "      <td>1</td>\n",
       "      <td>NaN</td>\n",
       "      <td>70</td>\n",
       "      <td>2</td>\n",
       "      <td>...</td>\n",
       "      <td>0</td>\n",
       "      <td>9</td>\n",
       "      <td>60</td>\n",
       "      <td>59.5</td>\n",
       "      <td>4.248495</td>\n",
       "      <td>3.433987</td>\n",
       "      <td>0.693147</td>\n",
       "      <td>0.0</td>\n",
       "      <td>0.000000</td>\n",
       "      <td>2</td>\n",
       "    </tr>\n",
       "  </tbody>\n",
       "</table>\n",
       "<p>5 rows × 52 columns</p>\n",
       "</div>"
      ],
      "text/plain": [
       "                                                 url      weekid  \\\n",
       "0  http://www.billboard.com/charts/hot-100/1958-0...  1958-08-02   \n",
       "1  http://www.billboard.com/charts/hot-100/1958-0...  1958-08-02   \n",
       "2  http://www.billboard.com/charts/hot-100/1958-0...  1958-08-02   \n",
       "3  http://www.billboard.com/charts/hot-100/1958-0...  1958-08-02   \n",
       "4  http://www.billboard.com/charts/hot-100/1958-0...  1958-08-02   \n",
       "\n",
       "   week_position                  song                   performer  \\\n",
       "0             66            Delicious!         Jim Backus & Friend   \n",
       "1             82             Blip Blop                Bill Doggett   \n",
       "2             95           Little Mary                 Fats Domino   \n",
       "3             52  Early In The Morning             The Rinky-Dinks   \n",
       "4             83    Try The Impossible  Lee Andrews And The Hearts   \n",
       "\n",
       "                                         songid  instance  \\\n",
       "0                 Delicious!Jim Backus & Friend         1   \n",
       "1                         Blip BlopBill Doggett         1   \n",
       "2                        Little MaryFats Domino         1   \n",
       "3           Early In The MorningThe Rinky-Dinks         1   \n",
       "4  Try The ImpossibleLee Andrews And The Hearts         1   \n",
       "\n",
       "   previous_week_position  rank  weeks_on_chart      ...        wordcup  \\\n",
       "0                     NaN    66               2      ...              0   \n",
       "1                     NaN    82               2      ...              0   \n",
       "2                     NaN    72               2      ...              0   \n",
       "3                     NaN    24               9      ...              0   \n",
       "4                     NaN    70               2      ...              0   \n",
       "\n",
       "   popularity  diff_year  adjusted_diff_year  log_rank  log_reverse_rank  \\\n",
       "0          28         60                59.5  4.189655          3.555348   \n",
       "1          12         60                59.5  4.406719          2.944439   \n",
       "2           9         60                59.5  4.276666          3.367296   \n",
       "3          23         60                59.5  3.178054          4.343805   \n",
       "4           9         60                59.5  4.248495          3.433987   \n",
       "\n",
       "   log_weeks_on_chart  log_jump_time  log_max_duration  continue_week  \n",
       "0            0.693147            0.0          2.639057              1  \n",
       "1            0.693147            0.0          2.639057              1  \n",
       "2            0.693147            0.0          0.000000              2  \n",
       "3            2.197225            0.0          0.000000              9  \n",
       "4            0.693147            0.0          0.000000              2  \n",
       "\n",
       "[5 rows x 52 columns]"
      ]
     },
     "execution_count": 181,
     "metadata": {},
     "output_type": "execute_result"
    }
   ],
   "source": [
    "test_read=pd.read_csv(MAX_CONTINUE_WEEKPATH)\n",
    "test_read.head()"
   ]
  }
 ],
 "metadata": {
  "kernelspec": {
   "display_name": "Python 3",
   "language": "python",
   "name": "python3"
  },
  "language_info": {
   "codemirror_mode": {
    "name": "ipython",
    "version": 3
   },
   "file_extension": ".py",
   "mimetype": "text/x-python",
   "name": "python",
   "nbconvert_exporter": "python",
   "pygments_lexer": "ipython3",
   "version": "3.6.6"
  }
 },
 "nbformat": 4,
 "nbformat_minor": 2
}
