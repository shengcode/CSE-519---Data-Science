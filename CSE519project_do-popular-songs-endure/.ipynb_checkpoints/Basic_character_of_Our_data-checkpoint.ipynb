{
 "cells": [
  {
   "cell_type": "code",
   "execution_count": 1,
   "metadata": {},
   "outputs": [],
   "source": [
    "import pandas as pd\n",
    "import numpy as np"
   ]
  },
  {
   "cell_type": "code",
   "execution_count": 2,
   "metadata": {},
   "outputs": [],
   "source": [
    "ALL_SONG_PATH=\"D:/CSE519/Project/billboard_w_new_features_v7.csv\""
   ]
  },
  {
   "cell_type": "code",
   "execution_count": 3,
   "metadata": {},
   "outputs": [],
   "source": [
    "allSong= pd.read_csv(ALL_SONG_PATH, encoding='latin-1')"
   ]
  },
  {
   "cell_type": "code",
   "execution_count": 4,
   "metadata": {},
   "outputs": [
    {
     "data": {
      "text/plain": [
       "(309195, 17)"
      ]
     },
     "execution_count": 4,
     "metadata": {},
     "output_type": "execute_result"
    }
   ],
   "source": [
    "allSong.shape"
   ]
  },
  {
   "cell_type": "code",
   "execution_count": 5,
   "metadata": {},
   "outputs": [
    {
     "data": {
      "text/html": [
       "<div>\n",
       "<style scoped>\n",
       "    .dataframe tbody tr th:only-of-type {\n",
       "        vertical-align: middle;\n",
       "    }\n",
       "\n",
       "    .dataframe tbody tr th {\n",
       "        vertical-align: top;\n",
       "    }\n",
       "\n",
       "    .dataframe thead th {\n",
       "        text-align: right;\n",
       "    }\n",
       "</style>\n",
       "<table border=\"1\" class=\"dataframe\">\n",
       "  <thead>\n",
       "    <tr style=\"text-align: right;\">\n",
       "      <th></th>\n",
       "      <th>url</th>\n",
       "      <th>weekid</th>\n",
       "      <th>week_position</th>\n",
       "      <th>song</th>\n",
       "      <th>performer</th>\n",
       "      <th>songid</th>\n",
       "      <th>instance</th>\n",
       "      <th>previous_week_position</th>\n",
       "      <th>peak_position</th>\n",
       "      <th>weeks_on_chart</th>\n",
       "      <th>year</th>\n",
       "      <th>week</th>\n",
       "      <th>jump_time</th>\n",
       "      <th>max_jump_duration</th>\n",
       "      <th>strict_rule</th>\n",
       "      <th>lenient_rule</th>\n",
       "      <th>all_time_greatest_artist</th>\n",
       "    </tr>\n",
       "  </thead>\n",
       "  <tbody>\n",
       "    <tr>\n",
       "      <th>0</th>\n",
       "      <td>http://www.billboard.com/charts/hot-100/1990-0...</td>\n",
       "      <td>1990-05-05</td>\n",
       "      <td>84</td>\n",
       "      <td>\"B\" Girls</td>\n",
       "      <td>Young And Restless</td>\n",
       "      <td>\"B\" GirlsYoung And Restless</td>\n",
       "      <td>1</td>\n",
       "      <td>NaN</td>\n",
       "      <td>54</td>\n",
       "      <td>15</td>\n",
       "      <td>1990</td>\n",
       "      <td>18</td>\n",
       "      <td>0</td>\n",
       "      <td>0</td>\n",
       "      <td>10</td>\n",
       "      <td>0</td>\n",
       "      <td>0</td>\n",
       "    </tr>\n",
       "    <tr>\n",
       "      <th>1</th>\n",
       "      <td>http://www.billboard.com/charts/hot-100/1990-0...</td>\n",
       "      <td>1990-05-12</td>\n",
       "      <td>78</td>\n",
       "      <td>\"B\" Girls</td>\n",
       "      <td>Young And Restless</td>\n",
       "      <td>\"B\" GirlsYoung And Restless</td>\n",
       "      <td>1</td>\n",
       "      <td>84.0</td>\n",
       "      <td>54</td>\n",
       "      <td>15</td>\n",
       "      <td>1990</td>\n",
       "      <td>19</td>\n",
       "      <td>0</td>\n",
       "      <td>0</td>\n",
       "      <td>10</td>\n",
       "      <td>0</td>\n",
       "      <td>0</td>\n",
       "    </tr>\n",
       "    <tr>\n",
       "      <th>2</th>\n",
       "      <td>http://www.billboard.com/charts/hot-100/1990-0...</td>\n",
       "      <td>1990-05-19</td>\n",
       "      <td>68</td>\n",
       "      <td>\"B\" Girls</td>\n",
       "      <td>Young And Restless</td>\n",
       "      <td>\"B\" GirlsYoung And Restless</td>\n",
       "      <td>1</td>\n",
       "      <td>78.0</td>\n",
       "      <td>54</td>\n",
       "      <td>15</td>\n",
       "      <td>1990</td>\n",
       "      <td>20</td>\n",
       "      <td>0</td>\n",
       "      <td>0</td>\n",
       "      <td>10</td>\n",
       "      <td>0</td>\n",
       "      <td>0</td>\n",
       "    </tr>\n",
       "    <tr>\n",
       "      <th>3</th>\n",
       "      <td>http://www.billboard.com/charts/hot-100/1990-0...</td>\n",
       "      <td>1990-05-26</td>\n",
       "      <td>60</td>\n",
       "      <td>\"B\" Girls</td>\n",
       "      <td>Young And Restless</td>\n",
       "      <td>\"B\" GirlsYoung And Restless</td>\n",
       "      <td>1</td>\n",
       "      <td>68.0</td>\n",
       "      <td>54</td>\n",
       "      <td>15</td>\n",
       "      <td>1990</td>\n",
       "      <td>21</td>\n",
       "      <td>0</td>\n",
       "      <td>0</td>\n",
       "      <td>10</td>\n",
       "      <td>0</td>\n",
       "      <td>0</td>\n",
       "    </tr>\n",
       "    <tr>\n",
       "      <th>4</th>\n",
       "      <td>http://www.billboard.com/charts/hot-100/1990-0...</td>\n",
       "      <td>1990-06-02</td>\n",
       "      <td>58</td>\n",
       "      <td>\"B\" Girls</td>\n",
       "      <td>Young And Restless</td>\n",
       "      <td>\"B\" GirlsYoung And Restless</td>\n",
       "      <td>1</td>\n",
       "      <td>60.0</td>\n",
       "      <td>54</td>\n",
       "      <td>15</td>\n",
       "      <td>1990</td>\n",
       "      <td>22</td>\n",
       "      <td>0</td>\n",
       "      <td>0</td>\n",
       "      <td>10</td>\n",
       "      <td>0</td>\n",
       "      <td>0</td>\n",
       "    </tr>\n",
       "  </tbody>\n",
       "</table>\n",
       "</div>"
      ],
      "text/plain": [
       "                                                 url      weekid  \\\n",
       "0  http://www.billboard.com/charts/hot-100/1990-0...  1990-05-05   \n",
       "1  http://www.billboard.com/charts/hot-100/1990-0...  1990-05-12   \n",
       "2  http://www.billboard.com/charts/hot-100/1990-0...  1990-05-19   \n",
       "3  http://www.billboard.com/charts/hot-100/1990-0...  1990-05-26   \n",
       "4  http://www.billboard.com/charts/hot-100/1990-0...  1990-06-02   \n",
       "\n",
       "   week_position       song           performer                       songid  \\\n",
       "0             84  \"B\" Girls  Young And Restless  \"B\" GirlsYoung And Restless   \n",
       "1             78  \"B\" Girls  Young And Restless  \"B\" GirlsYoung And Restless   \n",
       "2             68  \"B\" Girls  Young And Restless  \"B\" GirlsYoung And Restless   \n",
       "3             60  \"B\" Girls  Young And Restless  \"B\" GirlsYoung And Restless   \n",
       "4             58  \"B\" Girls  Young And Restless  \"B\" GirlsYoung And Restless   \n",
       "\n",
       "   instance  previous_week_position  peak_position  weeks_on_chart  year  \\\n",
       "0         1                     NaN             54              15  1990   \n",
       "1         1                    84.0             54              15  1990   \n",
       "2         1                    78.0             54              15  1990   \n",
       "3         1                    68.0             54              15  1990   \n",
       "4         1                    60.0             54              15  1990   \n",
       "\n",
       "   week  jump_time  max_jump_duration  strict_rule  lenient_rule  \\\n",
       "0    18          0                  0           10             0   \n",
       "1    19          0                  0           10             0   \n",
       "2    20          0                  0           10             0   \n",
       "3    21          0                  0           10             0   \n",
       "4    22          0                  0           10             0   \n",
       "\n",
       "   all_time_greatest_artist  \n",
       "0                         0  \n",
       "1                         0  \n",
       "2                         0  \n",
       "3                         0  \n",
       "4                         0  "
      ]
     },
     "execution_count": 5,
     "metadata": {},
     "output_type": "execute_result"
    }
   ],
   "source": [
    "allSong.head()"
   ]
  },
  {
   "cell_type": "code",
   "execution_count": 7,
   "metadata": {},
   "outputs": [
    {
     "name": "stdout",
     "output_type": "stream",
     "text": [
      "1958\n",
      "2017\n"
     ]
    }
   ],
   "source": [
    "min_year=allSong['year'].min()\n",
    "print(min_year)\n",
    "max_year=allSong['year'].max()\n",
    "print(max_year)"
   ]
  },
  {
   "cell_type": "code",
   "execution_count": 8,
   "metadata": {},
   "outputs": [
    {
     "name": "stdout",
     "output_type": "stream",
     "text": [
      "27278\n"
     ]
    }
   ],
   "source": [
    "songs_number= allSong['songid'].nunique()\n",
    "print(songs_number)"
   ]
  },
  {
   "cell_type": "code",
   "execution_count": 9,
   "metadata": {},
   "outputs": [
    {
     "name": "stdout",
     "output_type": "stream",
     "text": [
      "9126\n"
     ]
    }
   ],
   "source": [
    "artist_number= allSong['performer'].nunique()\n",
    "print(artist_number)"
   ]
  },
  {
   "cell_type": "code",
   "execution_count": null,
   "metadata": {},
   "outputs": [],
   "source": []
  },
  {
   "cell_type": "code",
   "execution_count": null,
   "metadata": {},
   "outputs": [],
   "source": []
  }
 ],
 "metadata": {
  "kernelspec": {
   "display_name": "Python 3",
   "language": "python",
   "name": "python3"
  },
  "language_info": {
   "codemirror_mode": {
    "name": "ipython",
    "version": 3
   },
   "file_extension": ".py",
   "mimetype": "text/x-python",
   "name": "python",
   "nbconvert_exporter": "python",
   "pygments_lexer": "ipython3",
   "version": "3.6.6"
  }
 },
 "nbformat": 4,
 "nbformat_minor": 2
}
