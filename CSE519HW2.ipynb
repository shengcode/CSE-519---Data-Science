{
 "cells": [
  {
   "cell_type": "code",
   "execution_count": 150,
   "metadata": {},
   "outputs": [],
   "source": [
    "import pandas as pd\n",
    "import random\n",
    "from datetime import datetime\n",
    "import geopandas\n",
    "from pytz import timezone\n",
    "import pytz\n",
    "import geopy\n",
    "from geopy import distance\n",
    "import numpy as np\n",
    "from geopy.geocoders import Nominatim\n",
    "import matplotlib.pyplot as plt"
   ]
  },
  {
   "cell_type": "markdown",
   "metadata": {},
   "source": [
    "#\n",
    "\n",
    "CSE 519 -- Data Science (Fall 2018)\n",
    "Prof. Steven Skiena\n",
    "Homework 2: Exploratory Data Analysis in iPython\n",
    "Due: Tuesday, September 25, 2018 (8:30 AM)\n",
    " \n",
    "This homework will investigate doing exploratory data analysis in iPython. The goal is to get you fluent in working with the standard tools and techniques of exploratory data analysis, by working with a data set where you have some basic sense of familiarity.\n",
    " \n",
    "This homework is based New York Taxi Fare Prediction on Kaggle, revolving around predicting the fare of a taxi ride given a pickup and a drop off location. More than just data exploration, you must also join the challenge and submit your model before the deadline, to get a score feedbacked from Kaggle. You are to explore the data and uncover interesting observations about the New York Taxi operations. You will need to submit all your results in a single google form and your code files in three different format (.ipynb, .pdf and .py). Make sure to have your code documented with proper comments and the exact sequence of operations you needed to produce the resulting tables and figures. The submission steps have been discussed below.\n",
    "\n",
    "Data downloading\n",
    "First of all, you need to join the challenge and download the data here. The description of the data can also be found at this page.\n",
    "\n",
    "Python Installation \n",
    "Instead of installing python and other tools manually, we suggest to install Anaconda, which is a Python distribution with package and environment manager. It simplifies a lot of common problems when installing tools for data science. More introduction can be found at here. Installing instruction can be found here. A useful instruction about Anaconda in Youtube can be found here.\n",
    "\n",
    "If you are an expert of Python and data science, what you need to do is install some packages relevant to data science. Some packages I believe you will definitely use for this homework are as following:\n",
    "pandas\n",
    "scikit-learn\n",
    "numpy\n",
    "matplotlib\n",
    "seaborn \n",
    "\n",
    "\n",
    "\n",
    "\n",
    "\n",
    "Tasks (100 pts)\n",
    " \n",
    "Take a look at the training data. There may be anomalies in the data that you may need to factor in before you start on the other tasks. Clean the data first to handle these issues. Explain what you did to clean the data (in bulleted form). (10 pt)\n",
    "Compute the Pearson correlation between the following: (9 pt)\n",
    "Euclidean distance of the ride and the taxi fare\n",
    "time of day and distance traveled\n",
    "time of day and the taxi fare\n",
    "\tWhich has the highest correlation?\n",
    "For each subtask of (2), create a plot visualizing the relation between the variables. Comment on whether you see non-linear or any other interesting relations. (9 pt)\n",
    "Create an exciting plot of your own using the dataset that you think reveals something very interesting.   Explain what it is, and anything else you learned. (15 pt)\n",
    "Generate additional features like those from (2) from the given data set. What additional features can you create? (10 pt)\n",
    "Set up a simple linear regression model to predict taxi fare. Use your generated features from the previous task if applicable. How well/badly does it work? What are the coefficients for your features? Which variable(s) are the most important one? (12 pt)\n",
    "Consider external datasets that may be helpful to expand your feature set. Give bullet points explaining all the datasets you could identify that would help improve your predictions. If possible, try finding such datasets online to incorporate into your training. List any that you were able to use in your analysis. (10 pt)\n",
    "Now, try to build a better prediction model that works harder to solve the task. Perhaps it will still use linear regression but with new features. Perhaps it will preprocess features better (e.g. normalize or scale the input vector, convert non-numerical value into float, or do a special treatment of missing values). Perhaps it will use a different machine learning approach (e.g. nearest neighbors, random forests, etc). Briefly explain what you did differently here versus the simple model. Which of your models minimizes the squared error? (10 pt)\n",
    "Predict all the taxi fares for instances at file “sample_submission.csv”. Write the result into a csv file and submit it to the website. You should do this for every model you develop. Report the rank, score, number of entries, for your highest rank. Include a snapshot of your best score on the leaderboard as confirmation. (15 pt)\n",
    "\n",
    "\tBe honest. This is your first modelling experience, and I am hoping to see you learned something, not just where you are ranked on the leaderboard.\n",
    " \n",
    " \n",
    "\n",
    "\n",
    "\n",
    "Rules of the Game\n",
    " \n",
    "This assignment must be done individually by each student. It is not a group activity.\n",
    "If you do not have much experience with Python and the associated tools, this homework will be a substantial amount of work. Get started on it as early as possible!\n",
    "All of your written responses will be submitted through a form during submission. It may make sense to keep your answers inside your notebook and copy it over into the form when you are ready to submit.\n",
    "We will discuss topics like linear regression in detail only after the HW is due. Muddle along for now, and we will understand the issues better when we discuss them in the course.\n",
    "To ensure that you are who you are when submitting your models, have your Kaggle profile show your face as well as a Stony Brook affiliation.\n",
    "There are some public discussions and demos relevant to this problem on Kaggle. It is  okay for students to read these discussions, but they must write the code and analyze the data by themselves.\n",
    "Our class Piazza account is an excellent place to discuss the assignment. Check it out at piazza.com/stonybrook/fall2018/cse519. \n",
    "\n",
    "Submission\n",
    "\n",
    "Submit everything through Google classroom. As mentioned above, you will need to upload:\n",
    "The Jupyter notebook all your work is in (.ipynb file)\n",
    "Python file (export the notebook as .py)\n",
    "PDF (export the notebook as a pdf file)\n",
    "\n",
    "For everything else, you will fill out a separate Google Form. These will include the responses to all of the task questions above. You will also need to link your Kaggle profile. It is recommended that you have a look at the Google response form for the questions asked and write all your responses in a local document. Once you feel comfortable with your responses, you may record your final responses in the form and then submit.\n"
   ]
  },
  {
   "cell_type": "markdown",
   "metadata": {},
   "source": [
    "# Randomly READ ONLY 1% data and analysis it "
   ]
  },
  {
   "cell_type": "code",
   "execution_count": 10,
   "metadata": {},
   "outputs": [],
   "source": [
    "p = 0.01  # 1% of the lines\n",
    "df = pd.read_csv(\"D:/CSE519/all/train.csv\", header=0, skiprows=lambda i: i>0 and random.random() > p)"
   ]
  },
  {
   "cell_type": "code",
   "execution_count": 11,
   "metadata": {},
   "outputs": [
    {
     "data": {
      "text/plain": [
       "(554253, 8)"
      ]
     },
     "execution_count": 11,
     "metadata": {},
     "output_type": "execute_result"
    }
   ],
   "source": [
    "df.shape"
   ]
  },
  {
   "cell_type": "code",
   "execution_count": 169,
   "metadata": {},
   "outputs": [
    {
     "data": {
      "text/plain": [
       "(554252, 13)"
      ]
     },
     "execution_count": 169,
     "metadata": {},
     "output_type": "execute_result"
    }
   ],
   "source": [
    "df = df.dropna()\n",
    "df.shape"
   ]
  },
  {
   "cell_type": "code",
   "execution_count": 12,
   "metadata": {},
   "outputs": [],
   "source": [
    "df['pickup_easternTime'] = pd.to_datetime(df['pickup_datetime']).dt.tz_localize('utc').dt.tz_convert('America/New_York')"
   ]
  },
  {
   "cell_type": "code",
   "execution_count": 13,
   "metadata": {},
   "outputs": [
    {
     "data": {
      "text/plain": [
       "(554253, 8)"
      ]
     },
     "execution_count": 13,
     "metadata": {},
     "output_type": "execute_result"
    }
   ],
   "source": [
    "df.drop(['pickup_datetime'],axis=1,inplace=True)\n",
    "df.shape"
   ]
  },
  {
   "cell_type": "code",
   "execution_count": 14,
   "metadata": {},
   "outputs": [
    {
     "data": {
      "text/html": [
       "<div>\n",
       "<style>\n",
       "    .dataframe thead tr:only-child th {\n",
       "        text-align: right;\n",
       "    }\n",
       "\n",
       "    .dataframe thead th {\n",
       "        text-align: left;\n",
       "    }\n",
       "\n",
       "    .dataframe tbody tr th {\n",
       "        vertical-align: top;\n",
       "    }\n",
       "</style>\n",
       "<table border=\"1\" class=\"dataframe\">\n",
       "  <thead>\n",
       "    <tr style=\"text-align: right;\">\n",
       "      <th></th>\n",
       "      <th>key</th>\n",
       "      <th>fare_amount</th>\n",
       "      <th>pickup_longitude</th>\n",
       "      <th>pickup_latitude</th>\n",
       "      <th>dropoff_longitude</th>\n",
       "      <th>dropoff_latitude</th>\n",
       "      <th>passenger_count</th>\n",
       "      <th>pickup_easternTime</th>\n",
       "    </tr>\n",
       "  </thead>\n",
       "  <tbody>\n",
       "    <tr>\n",
       "      <th>0</th>\n",
       "      <td>2010-07-12 09:44:33.0000001</td>\n",
       "      <td>4.9</td>\n",
       "      <td>-73.983249</td>\n",
       "      <td>40.734655</td>\n",
       "      <td>-73.991278</td>\n",
       "      <td>40.738918</td>\n",
       "      <td>1</td>\n",
       "      <td>2010-07-12 05:44:33-04:00</td>\n",
       "    </tr>\n",
       "    <tr>\n",
       "      <th>1</th>\n",
       "      <td>2014-02-06 11:17:00.00000070</td>\n",
       "      <td>22.5</td>\n",
       "      <td>-73.980710</td>\n",
       "      <td>40.782635</td>\n",
       "      <td>-74.002040</td>\n",
       "      <td>40.719425</td>\n",
       "      <td>1</td>\n",
       "      <td>2014-02-06 06:17:00-05:00</td>\n",
       "    </tr>\n",
       "    <tr>\n",
       "      <th>2</th>\n",
       "      <td>2011-06-02 14:04:00.000000194</td>\n",
       "      <td>5.7</td>\n",
       "      <td>-73.991710</td>\n",
       "      <td>40.731902</td>\n",
       "      <td>-73.979070</td>\n",
       "      <td>40.745213</td>\n",
       "      <td>1</td>\n",
       "      <td>2011-06-02 10:04:00-04:00</td>\n",
       "    </tr>\n",
       "    <tr>\n",
       "      <th>3</th>\n",
       "      <td>2010-02-28 16:56:00.00000022</td>\n",
       "      <td>6.1</td>\n",
       "      <td>-74.001860</td>\n",
       "      <td>40.737772</td>\n",
       "      <td>-74.009763</td>\n",
       "      <td>40.714795</td>\n",
       "      <td>5</td>\n",
       "      <td>2010-02-28 11:56:00-05:00</td>\n",
       "    </tr>\n",
       "    <tr>\n",
       "      <th>4</th>\n",
       "      <td>2010-07-02 16:58:45.0000001</td>\n",
       "      <td>7.3</td>\n",
       "      <td>-73.978321</td>\n",
       "      <td>40.753844</td>\n",
       "      <td>-73.982309</td>\n",
       "      <td>40.777037</td>\n",
       "      <td>1</td>\n",
       "      <td>2010-07-02 12:58:45-04:00</td>\n",
       "    </tr>\n",
       "  </tbody>\n",
       "</table>\n",
       "</div>"
      ],
      "text/plain": [
       "                             key  fare_amount  pickup_longitude  \\\n",
       "0    2010-07-12 09:44:33.0000001          4.9        -73.983249   \n",
       "1   2014-02-06 11:17:00.00000070         22.5        -73.980710   \n",
       "2  2011-06-02 14:04:00.000000194          5.7        -73.991710   \n",
       "3   2010-02-28 16:56:00.00000022          6.1        -74.001860   \n",
       "4    2010-07-02 16:58:45.0000001          7.3        -73.978321   \n",
       "\n",
       "   pickup_latitude  dropoff_longitude  dropoff_latitude  passenger_count  \\\n",
       "0        40.734655         -73.991278         40.738918                1   \n",
       "1        40.782635         -74.002040         40.719425                1   \n",
       "2        40.731902         -73.979070         40.745213                1   \n",
       "3        40.737772         -74.009763         40.714795                5   \n",
       "4        40.753844         -73.982309         40.777037                1   \n",
       "\n",
       "         pickup_easternTime  \n",
       "0 2010-07-12 05:44:33-04:00  \n",
       "1 2014-02-06 06:17:00-05:00  \n",
       "2 2011-06-02 10:04:00-04:00  \n",
       "3 2010-02-28 11:56:00-05:00  \n",
       "4 2010-07-02 12:58:45-04:00  "
      ]
     },
     "execution_count": 14,
     "metadata": {},
     "output_type": "execute_result"
    }
   ],
   "source": [
    "df.head()"
   ]
  },
  {
   "cell_type": "code",
   "execution_count": 15,
   "metadata": {},
   "outputs": [],
   "source": [
    "dataTime=pd.DatetimeIndex(df['pickup_easternTime'])\n",
    "df['year'] = dataTime.year\n",
    "df['dayofweek']=dataTime.dayofweek;\n",
    "df['month'] = dataTime.month\n",
    "df['hour'] = dataTime.hour\n",
    "df['minute'] = dataTime.minute"
   ]
  },
  {
   "cell_type": "code",
   "execution_count": 16,
   "metadata": {},
   "outputs": [
    {
     "data": {
      "text/html": [
       "<div>\n",
       "<style>\n",
       "    .dataframe thead tr:only-child th {\n",
       "        text-align: right;\n",
       "    }\n",
       "\n",
       "    .dataframe thead th {\n",
       "        text-align: left;\n",
       "    }\n",
       "\n",
       "    .dataframe tbody tr th {\n",
       "        vertical-align: top;\n",
       "    }\n",
       "</style>\n",
       "<table border=\"1\" class=\"dataframe\">\n",
       "  <thead>\n",
       "    <tr style=\"text-align: right;\">\n",
       "      <th></th>\n",
       "      <th>key</th>\n",
       "      <th>fare_amount</th>\n",
       "      <th>pickup_longitude</th>\n",
       "      <th>pickup_latitude</th>\n",
       "      <th>dropoff_longitude</th>\n",
       "      <th>dropoff_latitude</th>\n",
       "      <th>passenger_count</th>\n",
       "      <th>pickup_easternTime</th>\n",
       "      <th>year</th>\n",
       "      <th>dayofweek</th>\n",
       "      <th>month</th>\n",
       "      <th>hour</th>\n",
       "      <th>minute</th>\n",
       "    </tr>\n",
       "  </thead>\n",
       "  <tbody>\n",
       "    <tr>\n",
       "      <th>0</th>\n",
       "      <td>2010-07-12 09:44:33.0000001</td>\n",
       "      <td>4.9</td>\n",
       "      <td>-73.983249</td>\n",
       "      <td>40.734655</td>\n",
       "      <td>-73.991278</td>\n",
       "      <td>40.738918</td>\n",
       "      <td>1</td>\n",
       "      <td>2010-07-12 05:44:33-04:00</td>\n",
       "      <td>2010</td>\n",
       "      <td>0</td>\n",
       "      <td>7</td>\n",
       "      <td>5</td>\n",
       "      <td>44</td>\n",
       "    </tr>\n",
       "    <tr>\n",
       "      <th>1</th>\n",
       "      <td>2014-02-06 11:17:00.00000070</td>\n",
       "      <td>22.5</td>\n",
       "      <td>-73.980710</td>\n",
       "      <td>40.782635</td>\n",
       "      <td>-74.002040</td>\n",
       "      <td>40.719425</td>\n",
       "      <td>1</td>\n",
       "      <td>2014-02-06 06:17:00-05:00</td>\n",
       "      <td>2014</td>\n",
       "      <td>3</td>\n",
       "      <td>2</td>\n",
       "      <td>6</td>\n",
       "      <td>17</td>\n",
       "    </tr>\n",
       "    <tr>\n",
       "      <th>2</th>\n",
       "      <td>2011-06-02 14:04:00.000000194</td>\n",
       "      <td>5.7</td>\n",
       "      <td>-73.991710</td>\n",
       "      <td>40.731902</td>\n",
       "      <td>-73.979070</td>\n",
       "      <td>40.745213</td>\n",
       "      <td>1</td>\n",
       "      <td>2011-06-02 10:04:00-04:00</td>\n",
       "      <td>2011</td>\n",
       "      <td>3</td>\n",
       "      <td>6</td>\n",
       "      <td>10</td>\n",
       "      <td>4</td>\n",
       "    </tr>\n",
       "    <tr>\n",
       "      <th>3</th>\n",
       "      <td>2010-02-28 16:56:00.00000022</td>\n",
       "      <td>6.1</td>\n",
       "      <td>-74.001860</td>\n",
       "      <td>40.737772</td>\n",
       "      <td>-74.009763</td>\n",
       "      <td>40.714795</td>\n",
       "      <td>5</td>\n",
       "      <td>2010-02-28 11:56:00-05:00</td>\n",
       "      <td>2010</td>\n",
       "      <td>6</td>\n",
       "      <td>2</td>\n",
       "      <td>11</td>\n",
       "      <td>56</td>\n",
       "    </tr>\n",
       "    <tr>\n",
       "      <th>4</th>\n",
       "      <td>2010-07-02 16:58:45.0000001</td>\n",
       "      <td>7.3</td>\n",
       "      <td>-73.978321</td>\n",
       "      <td>40.753844</td>\n",
       "      <td>-73.982309</td>\n",
       "      <td>40.777037</td>\n",
       "      <td>1</td>\n",
       "      <td>2010-07-02 12:58:45-04:00</td>\n",
       "      <td>2010</td>\n",
       "      <td>4</td>\n",
       "      <td>7</td>\n",
       "      <td>12</td>\n",
       "      <td>58</td>\n",
       "    </tr>\n",
       "  </tbody>\n",
       "</table>\n",
       "</div>"
      ],
      "text/plain": [
       "                             key  fare_amount  pickup_longitude  \\\n",
       "0    2010-07-12 09:44:33.0000001          4.9        -73.983249   \n",
       "1   2014-02-06 11:17:00.00000070         22.5        -73.980710   \n",
       "2  2011-06-02 14:04:00.000000194          5.7        -73.991710   \n",
       "3   2010-02-28 16:56:00.00000022          6.1        -74.001860   \n",
       "4    2010-07-02 16:58:45.0000001          7.3        -73.978321   \n",
       "\n",
       "   pickup_latitude  dropoff_longitude  dropoff_latitude  passenger_count  \\\n",
       "0        40.734655         -73.991278         40.738918                1   \n",
       "1        40.782635         -74.002040         40.719425                1   \n",
       "2        40.731902         -73.979070         40.745213                1   \n",
       "3        40.737772         -74.009763         40.714795                5   \n",
       "4        40.753844         -73.982309         40.777037                1   \n",
       "\n",
       "         pickup_easternTime  year  dayofweek  month  hour  minute  \n",
       "0 2010-07-12 05:44:33-04:00  2010          0      7     5      44  \n",
       "1 2014-02-06 06:17:00-05:00  2014          3      2     6      17  \n",
       "2 2011-06-02 10:04:00-04:00  2011          3      6    10       4  \n",
       "3 2010-02-28 11:56:00-05:00  2010          6      2    11      56  \n",
       "4 2010-07-02 12:58:45-04:00  2010          4      7    12      58  "
      ]
     },
     "execution_count": 16,
     "metadata": {},
     "output_type": "execute_result"
    }
   ],
   "source": [
    "df.head()"
   ]
  },
  {
   "cell_type": "markdown",
   "metadata": {},
   "source": [
    "# filter the data based on fare_amount, passengers etc"
   ]
  },
  {
   "cell_type": "code",
   "execution_count": 17,
   "metadata": {},
   "outputs": [],
   "source": [
    "df_fare_filter = df.loc[ (df['fare_amount']>2.5) & (df['passenger_count']>0) & (df['passenger_count']<=6)]"
   ]
  },
  {
   "cell_type": "code",
   "execution_count": 18,
   "metadata": {},
   "outputs": [
    {
     "data": {
      "text/plain": [
       "(549975, 13)"
      ]
     },
     "execution_count": 18,
     "metadata": {},
     "output_type": "execute_result"
    }
   ],
   "source": [
    "df_fare_filter.shape"
   ]
  },
  {
   "cell_type": "markdown",
   "metadata": {},
   "source": [
    "# SET Longitude and Latitude boundaries \n",
    "Trenton, NJ (south point)  40.2206° N, 74.7597° W \n",
    "Danbury, CT (north point)41.3948° N, 73.4540° W \n",
    "Trenton, NJ (west point)  40.2206° N, 74.7597° W\n",
    "Riverhead NY (east point) 40.9170° N, 72.6620° W"
   ]
  },
  {
   "cell_type": "code",
   "execution_count": 19,
   "metadata": {},
   "outputs": [],
   "source": [
    "df_location_filter=df_fare_filter.loc[(df_fare_filter['pickup_longitude']>-74.7597) \\\n",
    "                                        & (df_fare_filter['pickup_longitude']<-72.6620)\\\n",
    "                                        & (df_fare_filter['pickup_latitude']>40.2206)\\\n",
    "                                        & (df_fare_filter['pickup_latitude']<41.3948)\\\n",
    "                                        & (df_fare_filter['dropoff_longitude']>-74.7597)\\\n",
    "                                        & (df_fare_filter['dropoff_longitude']<-72.6620)\\\n",
    "                                        & (df_fare_filter['dropoff_latitude']>40.2206)\\\n",
    "                                        & (df_fare_filter['dropoff_latitude']<41.3948)]\n",
    "                                     \n",
    "    "
   ]
  },
  {
   "cell_type": "code",
   "execution_count": 20,
   "metadata": {},
   "outputs": [
    {
     "data": {
      "text/plain": [
       "(538640, 13)"
      ]
     },
     "execution_count": 20,
     "metadata": {},
     "output_type": "execute_result"
    }
   ],
   "source": [
    "df_location_filter.shape"
   ]
  },
  {
   "cell_type": "code",
   "execution_count": 21,
   "metadata": {},
   "outputs": [],
   "source": [
    "df_clean=df_location_filter"
   ]
  },
  {
   "cell_type": "markdown",
   "metadata": {},
   "source": [
    "# calculate the distance between pickup dropoff location to airport \n",
    "# calculate the distance between pickup dropoff location to manhanttan"
   ]
  },
  {
   "cell_type": "code",
   "execution_count": 23,
   "metadata": {},
   "outputs": [],
   "source": [
    "pickup_latlogPair= list(zip(df_clean['pickup_latitude'], df_clean['pickup_longitude']))\n",
    "if 'pickup_latlogPair' in df_clean.columns:\n",
    "    df_clean.drop(['pickup_latlogPair'],axis=1,inplace=True)\n",
    "df_clean.insert(13,'pickup_latlogPair',pickup_latlogPair)\n",
    "\n",
    "dropoff_latlogPair= list(zip(df_clean['dropoff_latitude'], df_clean['dropoff_longitude']))\n",
    "if 'dropoff_latlogPair' in df_clean.columns:\n",
    "    df_clean.drop(['dropoff_latlogPair'],axis=1,inplace=True)\n",
    "df_clean.insert(13,'dropoff_latlogPair',dropoff_latlogPair)\n",
    "\n",
    "\n",
    "def distanceToJFK(x):\n",
    "    jfk=(40.6413, -73.7781)\n",
    "    coords=x\n",
    "    return geopy.distance.vincenty(jfk, coords).miles\n",
    "    \n",
    "    \n",
    "def distanceToManhattan(x):\n",
    "    Manhattan=(40.7831, -73.9712)\n",
    "    coords=x\n",
    "    return geopy.distance.vincenty(Manhattan, coords).miles\n",
    "    \n",
    "\n"
   ]
  },
  {
   "cell_type": "code",
   "execution_count": 24,
   "metadata": {},
   "outputs": [
    {
     "data": {
      "text/html": [
       "<div>\n",
       "<style>\n",
       "    .dataframe thead tr:only-child th {\n",
       "        text-align: right;\n",
       "    }\n",
       "\n",
       "    .dataframe thead th {\n",
       "        text-align: left;\n",
       "    }\n",
       "\n",
       "    .dataframe tbody tr th {\n",
       "        vertical-align: top;\n",
       "    }\n",
       "</style>\n",
       "<table border=\"1\" class=\"dataframe\">\n",
       "  <thead>\n",
       "    <tr style=\"text-align: right;\">\n",
       "      <th></th>\n",
       "      <th>key</th>\n",
       "      <th>fare_amount</th>\n",
       "      <th>pickup_longitude</th>\n",
       "      <th>pickup_latitude</th>\n",
       "      <th>dropoff_longitude</th>\n",
       "      <th>dropoff_latitude</th>\n",
       "      <th>passenger_count</th>\n",
       "      <th>pickup_easternTime</th>\n",
       "      <th>year</th>\n",
       "      <th>dayofweek</th>\n",
       "      <th>month</th>\n",
       "      <th>hour</th>\n",
       "      <th>minute</th>\n",
       "      <th>dropoff_latlogPair</th>\n",
       "      <th>pickup_latlogPair</th>\n",
       "    </tr>\n",
       "  </thead>\n",
       "  <tbody>\n",
       "    <tr>\n",
       "      <th>0</th>\n",
       "      <td>2010-07-12 09:44:33.0000001</td>\n",
       "      <td>4.9</td>\n",
       "      <td>-73.983249</td>\n",
       "      <td>40.734655</td>\n",
       "      <td>-73.991278</td>\n",
       "      <td>40.738918</td>\n",
       "      <td>1</td>\n",
       "      <td>2010-07-12 05:44:33-04:00</td>\n",
       "      <td>2010</td>\n",
       "      <td>0</td>\n",
       "      <td>7</td>\n",
       "      <td>5</td>\n",
       "      <td>44</td>\n",
       "      <td>(40.738918, -73.99127800000001)</td>\n",
       "      <td>(40.734655, -73.983249)</td>\n",
       "    </tr>\n",
       "    <tr>\n",
       "      <th>1</th>\n",
       "      <td>2014-02-06 11:17:00.00000070</td>\n",
       "      <td>22.5</td>\n",
       "      <td>-73.980710</td>\n",
       "      <td>40.782635</td>\n",
       "      <td>-74.002040</td>\n",
       "      <td>40.719425</td>\n",
       "      <td>1</td>\n",
       "      <td>2014-02-06 06:17:00-05:00</td>\n",
       "      <td>2014</td>\n",
       "      <td>3</td>\n",
       "      <td>2</td>\n",
       "      <td>6</td>\n",
       "      <td>17</td>\n",
       "      <td>(40.719425, -74.00204000000001)</td>\n",
       "      <td>(40.782635, -73.98071)</td>\n",
       "    </tr>\n",
       "    <tr>\n",
       "      <th>2</th>\n",
       "      <td>2011-06-02 14:04:00.000000194</td>\n",
       "      <td>5.7</td>\n",
       "      <td>-73.991710</td>\n",
       "      <td>40.731902</td>\n",
       "      <td>-73.979070</td>\n",
       "      <td>40.745213</td>\n",
       "      <td>1</td>\n",
       "      <td>2011-06-02 10:04:00-04:00</td>\n",
       "      <td>2011</td>\n",
       "      <td>3</td>\n",
       "      <td>6</td>\n",
       "      <td>10</td>\n",
       "      <td>4</td>\n",
       "      <td>(40.745213, -73.97907)</td>\n",
       "      <td>(40.731902000000005, -73.99171)</td>\n",
       "    </tr>\n",
       "    <tr>\n",
       "      <th>3</th>\n",
       "      <td>2010-02-28 16:56:00.00000022</td>\n",
       "      <td>6.1</td>\n",
       "      <td>-74.001860</td>\n",
       "      <td>40.737772</td>\n",
       "      <td>-74.009763</td>\n",
       "      <td>40.714795</td>\n",
       "      <td>5</td>\n",
       "      <td>2010-02-28 11:56:00-05:00</td>\n",
       "      <td>2010</td>\n",
       "      <td>6</td>\n",
       "      <td>2</td>\n",
       "      <td>11</td>\n",
       "      <td>56</td>\n",
       "      <td>(40.714795, -74.009763)</td>\n",
       "      <td>(40.737772, -74.00186)</td>\n",
       "    </tr>\n",
       "    <tr>\n",
       "      <th>4</th>\n",
       "      <td>2010-07-02 16:58:45.0000001</td>\n",
       "      <td>7.3</td>\n",
       "      <td>-73.978321</td>\n",
       "      <td>40.753844</td>\n",
       "      <td>-73.982309</td>\n",
       "      <td>40.777037</td>\n",
       "      <td>1</td>\n",
       "      <td>2010-07-02 12:58:45-04:00</td>\n",
       "      <td>2010</td>\n",
       "      <td>4</td>\n",
       "      <td>7</td>\n",
       "      <td>12</td>\n",
       "      <td>58</td>\n",
       "      <td>(40.777037, -73.982309)</td>\n",
       "      <td>(40.753844, -73.978321)</td>\n",
       "    </tr>\n",
       "  </tbody>\n",
       "</table>\n",
       "</div>"
      ],
      "text/plain": [
       "                             key  fare_amount  pickup_longitude  \\\n",
       "0    2010-07-12 09:44:33.0000001          4.9        -73.983249   \n",
       "1   2014-02-06 11:17:00.00000070         22.5        -73.980710   \n",
       "2  2011-06-02 14:04:00.000000194          5.7        -73.991710   \n",
       "3   2010-02-28 16:56:00.00000022          6.1        -74.001860   \n",
       "4    2010-07-02 16:58:45.0000001          7.3        -73.978321   \n",
       "\n",
       "   pickup_latitude  dropoff_longitude  dropoff_latitude  passenger_count  \\\n",
       "0        40.734655         -73.991278         40.738918                1   \n",
       "1        40.782635         -74.002040         40.719425                1   \n",
       "2        40.731902         -73.979070         40.745213                1   \n",
       "3        40.737772         -74.009763         40.714795                5   \n",
       "4        40.753844         -73.982309         40.777037                1   \n",
       "\n",
       "         pickup_easternTime  year  dayofweek  month  hour  minute  \\\n",
       "0 2010-07-12 05:44:33-04:00  2010          0      7     5      44   \n",
       "1 2014-02-06 06:17:00-05:00  2014          3      2     6      17   \n",
       "2 2011-06-02 10:04:00-04:00  2011          3      6    10       4   \n",
       "3 2010-02-28 11:56:00-05:00  2010          6      2    11      56   \n",
       "4 2010-07-02 12:58:45-04:00  2010          4      7    12      58   \n",
       "\n",
       "                dropoff_latlogPair                pickup_latlogPair  \n",
       "0  (40.738918, -73.99127800000001)          (40.734655, -73.983249)  \n",
       "1  (40.719425, -74.00204000000001)           (40.782635, -73.98071)  \n",
       "2           (40.745213, -73.97907)  (40.731902000000005, -73.99171)  \n",
       "3          (40.714795, -74.009763)           (40.737772, -74.00186)  \n",
       "4          (40.777037, -73.982309)          (40.753844, -73.978321)  "
      ]
     },
     "execution_count": 24,
     "metadata": {},
     "output_type": "execute_result"
    }
   ],
   "source": [
    "df_clean.head()"
   ]
  },
  {
   "cell_type": "code",
   "execution_count": 34,
   "metadata": {},
   "outputs": [],
   "source": [
    "pickup_jfk=df_clean['pickup_latlogPair'].apply(distanceToJFK)\n",
    "dropoff_jfk=df_clean['dropoff_latlogPair'].apply(distanceToJFK)\n",
    "pickup_manhattan=df_clean['pickup_latlogPair'].apply(distanceToManhattan)\n",
    "dropoff_manhattan=df_clean['dropoff_latlogPair'].apply(distanceToManhattan)\n"
   ]
  },
  {
   "cell_type": "code",
   "execution_count": 38,
   "metadata": {},
   "outputs": [
    {
     "data": {
      "text/html": [
       "<div>\n",
       "<style>\n",
       "    .dataframe thead tr:only-child th {\n",
       "        text-align: right;\n",
       "    }\n",
       "\n",
       "    .dataframe thead th {\n",
       "        text-align: left;\n",
       "    }\n",
       "\n",
       "    .dataframe tbody tr th {\n",
       "        vertical-align: top;\n",
       "    }\n",
       "</style>\n",
       "<table border=\"1\" class=\"dataframe\">\n",
       "  <thead>\n",
       "    <tr style=\"text-align: right;\">\n",
       "      <th></th>\n",
       "      <th>key</th>\n",
       "      <th>fare_amount</th>\n",
       "      <th>pickup_longitude</th>\n",
       "      <th>pickup_latitude</th>\n",
       "      <th>dropoff_longitude</th>\n",
       "      <th>dropoff_latitude</th>\n",
       "      <th>passenger_count</th>\n",
       "      <th>pickup_easternTime</th>\n",
       "      <th>year</th>\n",
       "      <th>dayofweek</th>\n",
       "      <th>month</th>\n",
       "      <th>hour</th>\n",
       "      <th>minute</th>\n",
       "      <th>dropoff_latlogPair</th>\n",
       "      <th>pickup_latlogPair</th>\n",
       "    </tr>\n",
       "  </thead>\n",
       "  <tbody>\n",
       "    <tr>\n",
       "      <th>0</th>\n",
       "      <td>2010-07-12 09:44:33.0000001</td>\n",
       "      <td>4.9</td>\n",
       "      <td>-73.983249</td>\n",
       "      <td>40.734655</td>\n",
       "      <td>-73.991278</td>\n",
       "      <td>40.738918</td>\n",
       "      <td>1</td>\n",
       "      <td>2010-07-12 05:44:33-04:00</td>\n",
       "      <td>2010</td>\n",
       "      <td>0</td>\n",
       "      <td>7</td>\n",
       "      <td>5</td>\n",
       "      <td>44</td>\n",
       "      <td>(40.738918, -73.99127800000001)</td>\n",
       "      <td>(40.734655, -73.983249)</td>\n",
       "    </tr>\n",
       "    <tr>\n",
       "      <th>1</th>\n",
       "      <td>2014-02-06 11:17:00.00000070</td>\n",
       "      <td>22.5</td>\n",
       "      <td>-73.980710</td>\n",
       "      <td>40.782635</td>\n",
       "      <td>-74.002040</td>\n",
       "      <td>40.719425</td>\n",
       "      <td>1</td>\n",
       "      <td>2014-02-06 06:17:00-05:00</td>\n",
       "      <td>2014</td>\n",
       "      <td>3</td>\n",
       "      <td>2</td>\n",
       "      <td>6</td>\n",
       "      <td>17</td>\n",
       "      <td>(40.719425, -74.00204000000001)</td>\n",
       "      <td>(40.782635, -73.98071)</td>\n",
       "    </tr>\n",
       "    <tr>\n",
       "      <th>2</th>\n",
       "      <td>2011-06-02 14:04:00.000000194</td>\n",
       "      <td>5.7</td>\n",
       "      <td>-73.991710</td>\n",
       "      <td>40.731902</td>\n",
       "      <td>-73.979070</td>\n",
       "      <td>40.745213</td>\n",
       "      <td>1</td>\n",
       "      <td>2011-06-02 10:04:00-04:00</td>\n",
       "      <td>2011</td>\n",
       "      <td>3</td>\n",
       "      <td>6</td>\n",
       "      <td>10</td>\n",
       "      <td>4</td>\n",
       "      <td>(40.745213, -73.97907)</td>\n",
       "      <td>(40.731902000000005, -73.99171)</td>\n",
       "    </tr>\n",
       "    <tr>\n",
       "      <th>3</th>\n",
       "      <td>2010-02-28 16:56:00.00000022</td>\n",
       "      <td>6.1</td>\n",
       "      <td>-74.001860</td>\n",
       "      <td>40.737772</td>\n",
       "      <td>-74.009763</td>\n",
       "      <td>40.714795</td>\n",
       "      <td>5</td>\n",
       "      <td>2010-02-28 11:56:00-05:00</td>\n",
       "      <td>2010</td>\n",
       "      <td>6</td>\n",
       "      <td>2</td>\n",
       "      <td>11</td>\n",
       "      <td>56</td>\n",
       "      <td>(40.714795, -74.009763)</td>\n",
       "      <td>(40.737772, -74.00186)</td>\n",
       "    </tr>\n",
       "    <tr>\n",
       "      <th>4</th>\n",
       "      <td>2010-07-02 16:58:45.0000001</td>\n",
       "      <td>7.3</td>\n",
       "      <td>-73.978321</td>\n",
       "      <td>40.753844</td>\n",
       "      <td>-73.982309</td>\n",
       "      <td>40.777037</td>\n",
       "      <td>1</td>\n",
       "      <td>2010-07-02 12:58:45-04:00</td>\n",
       "      <td>2010</td>\n",
       "      <td>4</td>\n",
       "      <td>7</td>\n",
       "      <td>12</td>\n",
       "      <td>58</td>\n",
       "      <td>(40.777037, -73.982309)</td>\n",
       "      <td>(40.753844, -73.978321)</td>\n",
       "    </tr>\n",
       "  </tbody>\n",
       "</table>\n",
       "</div>"
      ],
      "text/plain": [
       "                             key  fare_amount  pickup_longitude  \\\n",
       "0    2010-07-12 09:44:33.0000001          4.9        -73.983249   \n",
       "1   2014-02-06 11:17:00.00000070         22.5        -73.980710   \n",
       "2  2011-06-02 14:04:00.000000194          5.7        -73.991710   \n",
       "3   2010-02-28 16:56:00.00000022          6.1        -74.001860   \n",
       "4    2010-07-02 16:58:45.0000001          7.3        -73.978321   \n",
       "\n",
       "   pickup_latitude  dropoff_longitude  dropoff_latitude  passenger_count  \\\n",
       "0        40.734655         -73.991278         40.738918                1   \n",
       "1        40.782635         -74.002040         40.719425                1   \n",
       "2        40.731902         -73.979070         40.745213                1   \n",
       "3        40.737772         -74.009763         40.714795                5   \n",
       "4        40.753844         -73.982309         40.777037                1   \n",
       "\n",
       "         pickup_easternTime  year  dayofweek  month  hour  minute  \\\n",
       "0 2010-07-12 05:44:33-04:00  2010          0      7     5      44   \n",
       "1 2014-02-06 06:17:00-05:00  2014          3      2     6      17   \n",
       "2 2011-06-02 10:04:00-04:00  2011          3      6    10       4   \n",
       "3 2010-02-28 11:56:00-05:00  2010          6      2    11      56   \n",
       "4 2010-07-02 12:58:45-04:00  2010          4      7    12      58   \n",
       "\n",
       "                dropoff_latlogPair                pickup_latlogPair  \n",
       "0  (40.738918, -73.99127800000001)          (40.734655, -73.983249)  \n",
       "1  (40.719425, -74.00204000000001)           (40.782635, -73.98071)  \n",
       "2           (40.745213, -73.97907)  (40.731902000000005, -73.99171)  \n",
       "3          (40.714795, -74.009763)           (40.737772, -74.00186)  \n",
       "4          (40.777037, -73.982309)          (40.753844, -73.978321)  "
      ]
     },
     "execution_count": 38,
     "metadata": {},
     "output_type": "execute_result"
    }
   ],
   "source": [
    "df_clean.head()"
   ]
  },
  {
   "cell_type": "code",
   "execution_count": 39,
   "metadata": {},
   "outputs": [],
   "source": [
    "df_clean.insert(15,'pickup_jfk',pickup_jfk)\n",
    "df_clean.insert(15,'dropoff_jfk',dropoff_jfk)\n",
    "df_clean.insert(15,'pickup_manhattan',pickup_manhattan)\n",
    "df_clean.insert(15,'dropoff_manhattan',dropoff_manhattan)"
   ]
  },
  {
   "cell_type": "code",
   "execution_count": 40,
   "metadata": {},
   "outputs": [
    {
     "data": {
      "text/html": [
       "<div>\n",
       "<style>\n",
       "    .dataframe thead tr:only-child th {\n",
       "        text-align: right;\n",
       "    }\n",
       "\n",
       "    .dataframe thead th {\n",
       "        text-align: left;\n",
       "    }\n",
       "\n",
       "    .dataframe tbody tr th {\n",
       "        vertical-align: top;\n",
       "    }\n",
       "</style>\n",
       "<table border=\"1\" class=\"dataframe\">\n",
       "  <thead>\n",
       "    <tr style=\"text-align: right;\">\n",
       "      <th></th>\n",
       "      <th>key</th>\n",
       "      <th>fare_amount</th>\n",
       "      <th>pickup_longitude</th>\n",
       "      <th>pickup_latitude</th>\n",
       "      <th>dropoff_longitude</th>\n",
       "      <th>dropoff_latitude</th>\n",
       "      <th>passenger_count</th>\n",
       "      <th>pickup_easternTime</th>\n",
       "      <th>year</th>\n",
       "      <th>dayofweek</th>\n",
       "      <th>month</th>\n",
       "      <th>hour</th>\n",
       "      <th>minute</th>\n",
       "      <th>dropoff_latlogPair</th>\n",
       "      <th>pickup_latlogPair</th>\n",
       "      <th>dropoff_manhattan</th>\n",
       "      <th>pickup_manhattan</th>\n",
       "      <th>dropoff_jfk</th>\n",
       "      <th>pickup_jfk</th>\n",
       "    </tr>\n",
       "  </thead>\n",
       "  <tbody>\n",
       "    <tr>\n",
       "      <th>0</th>\n",
       "      <td>2010-07-12 09:44:33.0000001</td>\n",
       "      <td>4.9</td>\n",
       "      <td>-73.983249</td>\n",
       "      <td>40.734655</td>\n",
       "      <td>-73.991278</td>\n",
       "      <td>40.738918</td>\n",
       "      <td>1</td>\n",
       "      <td>2010-07-12 05:44:33-04:00</td>\n",
       "      <td>2010</td>\n",
       "      <td>0</td>\n",
       "      <td>7</td>\n",
       "      <td>5</td>\n",
       "      <td>44</td>\n",
       "      <td>(40.738918, -73.99127800000001)</td>\n",
       "      <td>(40.734655, -73.983249)</td>\n",
       "      <td>3.225556</td>\n",
       "      <td>3.402097</td>\n",
       "      <td>13.066743</td>\n",
       "      <td>12.554090</td>\n",
       "    </tr>\n",
       "    <tr>\n",
       "      <th>1</th>\n",
       "      <td>2014-02-06 11:17:00.00000070</td>\n",
       "      <td>22.5</td>\n",
       "      <td>-73.980710</td>\n",
       "      <td>40.782635</td>\n",
       "      <td>-74.002040</td>\n",
       "      <td>40.719425</td>\n",
       "      <td>1</td>\n",
       "      <td>2014-02-06 06:17:00-05:00</td>\n",
       "      <td>2014</td>\n",
       "      <td>3</td>\n",
       "      <td>2</td>\n",
       "      <td>6</td>\n",
       "      <td>17</td>\n",
       "      <td>(40.719425, -74.00204000000001)</td>\n",
       "      <td>(40.782635, -73.98071)</td>\n",
       "      <td>4.682310</td>\n",
       "      <td>0.499834</td>\n",
       "      <td>12.940118</td>\n",
       "      <td>14.431989</td>\n",
       "    </tr>\n",
       "    <tr>\n",
       "      <th>2</th>\n",
       "      <td>2011-06-02 14:04:00.000000194</td>\n",
       "      <td>5.7</td>\n",
       "      <td>-73.991710</td>\n",
       "      <td>40.731902</td>\n",
       "      <td>-73.979070</td>\n",
       "      <td>40.745213</td>\n",
       "      <td>1</td>\n",
       "      <td>2011-06-02 10:04:00-04:00</td>\n",
       "      <td>2011</td>\n",
       "      <td>3</td>\n",
       "      <td>6</td>\n",
       "      <td>10</td>\n",
       "      <td>4</td>\n",
       "      <td>(40.745213, -73.97907)</td>\n",
       "      <td>(40.731902000000005, -73.99171)</td>\n",
       "      <td>2.646717</td>\n",
       "      <td>3.693080</td>\n",
       "      <td>12.760170</td>\n",
       "      <td>12.844223</td>\n",
       "    </tr>\n",
       "    <tr>\n",
       "      <th>3</th>\n",
       "      <td>2010-02-28 16:56:00.00000022</td>\n",
       "      <td>6.1</td>\n",
       "      <td>-74.001860</td>\n",
       "      <td>40.737772</td>\n",
       "      <td>-74.009763</td>\n",
       "      <td>40.714795</td>\n",
       "      <td>5</td>\n",
       "      <td>2010-02-28 11:56:00-05:00</td>\n",
       "      <td>2010</td>\n",
       "      <td>6</td>\n",
       "      <td>2</td>\n",
       "      <td>11</td>\n",
       "      <td>56</td>\n",
       "      <td>(40.714795, -74.009763)</td>\n",
       "      <td>(40.737772, -74.00186)</td>\n",
       "      <td>5.129305</td>\n",
       "      <td>3.517200</td>\n",
       "      <td>13.184237</td>\n",
       "      <td>13.506975</td>\n",
       "    </tr>\n",
       "    <tr>\n",
       "      <th>4</th>\n",
       "      <td>2010-07-02 16:58:45.0000001</td>\n",
       "      <td>7.3</td>\n",
       "      <td>-73.978321</td>\n",
       "      <td>40.753844</td>\n",
       "      <td>-73.982309</td>\n",
       "      <td>40.777037</td>\n",
       "      <td>1</td>\n",
       "      <td>2010-07-02 12:58:45-04:00</td>\n",
       "      <td>2010</td>\n",
       "      <td>4</td>\n",
       "      <td>7</td>\n",
       "      <td>12</td>\n",
       "      <td>58</td>\n",
       "      <td>(40.777037, -73.982309)</td>\n",
       "      <td>(40.753844, -73.978321)</td>\n",
       "      <td>0.717331</td>\n",
       "      <td>2.053025</td>\n",
       "      <td>14.237282</td>\n",
       "      <td>13.071881</td>\n",
       "    </tr>\n",
       "  </tbody>\n",
       "</table>\n",
       "</div>"
      ],
      "text/plain": [
       "                             key  fare_amount  pickup_longitude  \\\n",
       "0    2010-07-12 09:44:33.0000001          4.9        -73.983249   \n",
       "1   2014-02-06 11:17:00.00000070         22.5        -73.980710   \n",
       "2  2011-06-02 14:04:00.000000194          5.7        -73.991710   \n",
       "3   2010-02-28 16:56:00.00000022          6.1        -74.001860   \n",
       "4    2010-07-02 16:58:45.0000001          7.3        -73.978321   \n",
       "\n",
       "   pickup_latitude  dropoff_longitude  dropoff_latitude  passenger_count  \\\n",
       "0        40.734655         -73.991278         40.738918                1   \n",
       "1        40.782635         -74.002040         40.719425                1   \n",
       "2        40.731902         -73.979070         40.745213                1   \n",
       "3        40.737772         -74.009763         40.714795                5   \n",
       "4        40.753844         -73.982309         40.777037                1   \n",
       "\n",
       "         pickup_easternTime  year  dayofweek  month  hour  minute  \\\n",
       "0 2010-07-12 05:44:33-04:00  2010          0      7     5      44   \n",
       "1 2014-02-06 06:17:00-05:00  2014          3      2     6      17   \n",
       "2 2011-06-02 10:04:00-04:00  2011          3      6    10       4   \n",
       "3 2010-02-28 11:56:00-05:00  2010          6      2    11      56   \n",
       "4 2010-07-02 12:58:45-04:00  2010          4      7    12      58   \n",
       "\n",
       "                dropoff_latlogPair                pickup_latlogPair  \\\n",
       "0  (40.738918, -73.99127800000001)          (40.734655, -73.983249)   \n",
       "1  (40.719425, -74.00204000000001)           (40.782635, -73.98071)   \n",
       "2           (40.745213, -73.97907)  (40.731902000000005, -73.99171)   \n",
       "3          (40.714795, -74.009763)           (40.737772, -74.00186)   \n",
       "4          (40.777037, -73.982309)          (40.753844, -73.978321)   \n",
       "\n",
       "   dropoff_manhattan  pickup_manhattan  dropoff_jfk  pickup_jfk  \n",
       "0           3.225556          3.402097    13.066743   12.554090  \n",
       "1           4.682310          0.499834    12.940118   14.431989  \n",
       "2           2.646717          3.693080    12.760170   12.844223  \n",
       "3           5.129305          3.517200    13.184237   13.506975  \n",
       "4           0.717331          2.053025    14.237282   13.071881  "
      ]
     },
     "execution_count": 40,
     "metadata": {},
     "output_type": "execute_result"
    }
   ],
   "source": [
    "df_clean.head()"
   ]
  },
  {
   "cell_type": "markdown",
   "metadata": {},
   "source": [
    "# Now calculate the distances travelled each trip and save them in the dataframe"
   ]
  },
  {
   "cell_type": "code",
   "execution_count": 42,
   "metadata": {},
   "outputs": [],
   "source": [
    "def travelDistance(x):\n",
    "    return geopy.distance.vincenty(x['pickup_latlogPair'], x['dropoff_latlogPair']).km\n",
    "    "
   ]
  },
  {
   "cell_type": "code",
   "execution_count": 45,
   "metadata": {},
   "outputs": [],
   "source": [
    "travelDistance=df_clean.apply(travelDistance, axis=1)\n",
    "df_clean.insert(19,'travelDistance', travelDistance)"
   ]
  },
  {
   "cell_type": "code",
   "execution_count": 46,
   "metadata": {},
   "outputs": [
    {
     "data": {
      "text/html": [
       "<div>\n",
       "<style>\n",
       "    .dataframe thead tr:only-child th {\n",
       "        text-align: right;\n",
       "    }\n",
       "\n",
       "    .dataframe thead th {\n",
       "        text-align: left;\n",
       "    }\n",
       "\n",
       "    .dataframe tbody tr th {\n",
       "        vertical-align: top;\n",
       "    }\n",
       "</style>\n",
       "<table border=\"1\" class=\"dataframe\">\n",
       "  <thead>\n",
       "    <tr style=\"text-align: right;\">\n",
       "      <th></th>\n",
       "      <th>key</th>\n",
       "      <th>fare_amount</th>\n",
       "      <th>pickup_longitude</th>\n",
       "      <th>pickup_latitude</th>\n",
       "      <th>dropoff_longitude</th>\n",
       "      <th>dropoff_latitude</th>\n",
       "      <th>passenger_count</th>\n",
       "      <th>pickup_easternTime</th>\n",
       "      <th>year</th>\n",
       "      <th>dayofweek</th>\n",
       "      <th>month</th>\n",
       "      <th>hour</th>\n",
       "      <th>minute</th>\n",
       "      <th>dropoff_latlogPair</th>\n",
       "      <th>pickup_latlogPair</th>\n",
       "      <th>dropoff_manhattan</th>\n",
       "      <th>pickup_manhattan</th>\n",
       "      <th>dropoff_jfk</th>\n",
       "      <th>pickup_jfk</th>\n",
       "      <th>travelDistance</th>\n",
       "    </tr>\n",
       "  </thead>\n",
       "  <tbody>\n",
       "    <tr>\n",
       "      <th>0</th>\n",
       "      <td>2010-07-12 09:44:33.0000001</td>\n",
       "      <td>4.9</td>\n",
       "      <td>-73.983249</td>\n",
       "      <td>40.734655</td>\n",
       "      <td>-73.991278</td>\n",
       "      <td>40.738918</td>\n",
       "      <td>1</td>\n",
       "      <td>2010-07-12 05:44:33-04:00</td>\n",
       "      <td>2010</td>\n",
       "      <td>0</td>\n",
       "      <td>7</td>\n",
       "      <td>5</td>\n",
       "      <td>44</td>\n",
       "      <td>(40.738918, -73.99127800000001)</td>\n",
       "      <td>(40.734655, -73.983249)</td>\n",
       "      <td>3.225556</td>\n",
       "      <td>3.402097</td>\n",
       "      <td>13.066743</td>\n",
       "      <td>12.554090</td>\n",
       "      <td>0.827083</td>\n",
       "    </tr>\n",
       "    <tr>\n",
       "      <th>1</th>\n",
       "      <td>2014-02-06 11:17:00.00000070</td>\n",
       "      <td>22.5</td>\n",
       "      <td>-73.980710</td>\n",
       "      <td>40.782635</td>\n",
       "      <td>-74.002040</td>\n",
       "      <td>40.719425</td>\n",
       "      <td>1</td>\n",
       "      <td>2014-02-06 06:17:00-05:00</td>\n",
       "      <td>2014</td>\n",
       "      <td>3</td>\n",
       "      <td>2</td>\n",
       "      <td>6</td>\n",
       "      <td>17</td>\n",
       "      <td>(40.719425, -74.00204000000001)</td>\n",
       "      <td>(40.782635, -73.98071)</td>\n",
       "      <td>4.682310</td>\n",
       "      <td>0.499834</td>\n",
       "      <td>12.940118</td>\n",
       "      <td>14.431989</td>\n",
       "      <td>7.246861</td>\n",
       "    </tr>\n",
       "    <tr>\n",
       "      <th>2</th>\n",
       "      <td>2011-06-02 14:04:00.000000194</td>\n",
       "      <td>5.7</td>\n",
       "      <td>-73.991710</td>\n",
       "      <td>40.731902</td>\n",
       "      <td>-73.979070</td>\n",
       "      <td>40.745213</td>\n",
       "      <td>1</td>\n",
       "      <td>2011-06-02 10:04:00-04:00</td>\n",
       "      <td>2011</td>\n",
       "      <td>3</td>\n",
       "      <td>6</td>\n",
       "      <td>10</td>\n",
       "      <td>4</td>\n",
       "      <td>(40.745213, -73.97907)</td>\n",
       "      <td>(40.731902000000005, -73.99171)</td>\n",
       "      <td>2.646717</td>\n",
       "      <td>3.693080</td>\n",
       "      <td>12.760170</td>\n",
       "      <td>12.844223</td>\n",
       "      <td>1.823428</td>\n",
       "    </tr>\n",
       "    <tr>\n",
       "      <th>3</th>\n",
       "      <td>2010-02-28 16:56:00.00000022</td>\n",
       "      <td>6.1</td>\n",
       "      <td>-74.001860</td>\n",
       "      <td>40.737772</td>\n",
       "      <td>-74.009763</td>\n",
       "      <td>40.714795</td>\n",
       "      <td>5</td>\n",
       "      <td>2010-02-28 11:56:00-05:00</td>\n",
       "      <td>2010</td>\n",
       "      <td>6</td>\n",
       "      <td>2</td>\n",
       "      <td>11</td>\n",
       "      <td>56</td>\n",
       "      <td>(40.714795, -74.009763)</td>\n",
       "      <td>(40.737772, -74.00186)</td>\n",
       "      <td>5.129305</td>\n",
       "      <td>3.517200</td>\n",
       "      <td>13.184237</td>\n",
       "      <td>13.506975</td>\n",
       "      <td>2.637471</td>\n",
       "    </tr>\n",
       "    <tr>\n",
       "      <th>4</th>\n",
       "      <td>2010-07-02 16:58:45.0000001</td>\n",
       "      <td>7.3</td>\n",
       "      <td>-73.978321</td>\n",
       "      <td>40.753844</td>\n",
       "      <td>-73.982309</td>\n",
       "      <td>40.777037</td>\n",
       "      <td>1</td>\n",
       "      <td>2010-07-02 12:58:45-04:00</td>\n",
       "      <td>2010</td>\n",
       "      <td>4</td>\n",
       "      <td>7</td>\n",
       "      <td>12</td>\n",
       "      <td>58</td>\n",
       "      <td>(40.777037, -73.982309)</td>\n",
       "      <td>(40.753844, -73.978321)</td>\n",
       "      <td>0.717331</td>\n",
       "      <td>2.053025</td>\n",
       "      <td>14.237282</td>\n",
       "      <td>13.071881</td>\n",
       "      <td>2.597485</td>\n",
       "    </tr>\n",
       "  </tbody>\n",
       "</table>\n",
       "</div>"
      ],
      "text/plain": [
       "                             key  fare_amount  pickup_longitude  \\\n",
       "0    2010-07-12 09:44:33.0000001          4.9        -73.983249   \n",
       "1   2014-02-06 11:17:00.00000070         22.5        -73.980710   \n",
       "2  2011-06-02 14:04:00.000000194          5.7        -73.991710   \n",
       "3   2010-02-28 16:56:00.00000022          6.1        -74.001860   \n",
       "4    2010-07-02 16:58:45.0000001          7.3        -73.978321   \n",
       "\n",
       "   pickup_latitude  dropoff_longitude  dropoff_latitude  passenger_count  \\\n",
       "0        40.734655         -73.991278         40.738918                1   \n",
       "1        40.782635         -74.002040         40.719425                1   \n",
       "2        40.731902         -73.979070         40.745213                1   \n",
       "3        40.737772         -74.009763         40.714795                5   \n",
       "4        40.753844         -73.982309         40.777037                1   \n",
       "\n",
       "         pickup_easternTime  year  dayofweek  month  hour  minute  \\\n",
       "0 2010-07-12 05:44:33-04:00  2010          0      7     5      44   \n",
       "1 2014-02-06 06:17:00-05:00  2014          3      2     6      17   \n",
       "2 2011-06-02 10:04:00-04:00  2011          3      6    10       4   \n",
       "3 2010-02-28 11:56:00-05:00  2010          6      2    11      56   \n",
       "4 2010-07-02 12:58:45-04:00  2010          4      7    12      58   \n",
       "\n",
       "                dropoff_latlogPair                pickup_latlogPair  \\\n",
       "0  (40.738918, -73.99127800000001)          (40.734655, -73.983249)   \n",
       "1  (40.719425, -74.00204000000001)           (40.782635, -73.98071)   \n",
       "2           (40.745213, -73.97907)  (40.731902000000005, -73.99171)   \n",
       "3          (40.714795, -74.009763)           (40.737772, -74.00186)   \n",
       "4          (40.777037, -73.982309)          (40.753844, -73.978321)   \n",
       "\n",
       "   dropoff_manhattan  pickup_manhattan  dropoff_jfk  pickup_jfk  \\\n",
       "0           3.225556          3.402097    13.066743   12.554090   \n",
       "1           4.682310          0.499834    12.940118   14.431989   \n",
       "2           2.646717          3.693080    12.760170   12.844223   \n",
       "3           5.129305          3.517200    13.184237   13.506975   \n",
       "4           0.717331          2.053025    14.237282   13.071881   \n",
       "\n",
       "   travelDistance  \n",
       "0        0.827083  \n",
       "1        7.246861  \n",
       "2        1.823428  \n",
       "3        2.637471  \n",
       "4        2.597485  "
      ]
     },
     "execution_count": 46,
     "metadata": {},
     "output_type": "execute_result"
    }
   ],
   "source": [
    "df_clean.head()"
   ]
  },
  {
   "cell_type": "markdown",
   "metadata": {},
   "source": [
    "# check if there is travelDistance ==0 and fare_amount!=0"
   ]
  },
  {
   "cell_type": "code",
   "execution_count": 81,
   "metadata": {},
   "outputs": [
    {
     "data": {
      "text/html": [
       "<div>\n",
       "<style>\n",
       "    .dataframe thead tr:only-child th {\n",
       "        text-align: right;\n",
       "    }\n",
       "\n",
       "    .dataframe thead th {\n",
       "        text-align: left;\n",
       "    }\n",
       "\n",
       "    .dataframe tbody tr th {\n",
       "        vertical-align: top;\n",
       "    }\n",
       "</style>\n",
       "<table border=\"1\" class=\"dataframe\">\n",
       "  <thead>\n",
       "    <tr style=\"text-align: right;\">\n",
       "      <th></th>\n",
       "      <th>key</th>\n",
       "      <th>fare_amount</th>\n",
       "      <th>pickup_longitude</th>\n",
       "      <th>pickup_latitude</th>\n",
       "      <th>dropoff_longitude</th>\n",
       "      <th>dropoff_latitude</th>\n",
       "      <th>passenger_count</th>\n",
       "      <th>pickup_easternTime</th>\n",
       "      <th>year</th>\n",
       "      <th>dayofweek</th>\n",
       "      <th>month</th>\n",
       "      <th>hour</th>\n",
       "      <th>minute</th>\n",
       "      <th>dropoff_latlogPair</th>\n",
       "      <th>pickup_latlogPair</th>\n",
       "      <th>dropoff_manhattan</th>\n",
       "      <th>pickup_manhattan</th>\n",
       "      <th>dropoff_jfk</th>\n",
       "      <th>pickup_jfk</th>\n",
       "      <th>travelDistance</th>\n",
       "    </tr>\n",
       "  </thead>\n",
       "  <tbody>\n",
       "    <tr>\n",
       "      <th>105</th>\n",
       "      <td>2010-07-08 22:12:32.0000003</td>\n",
       "      <td>4.1</td>\n",
       "      <td>-73.957686</td>\n",
       "      <td>40.774363</td>\n",
       "      <td>-73.957686</td>\n",
       "      <td>40.774363</td>\n",
       "      <td>1</td>\n",
       "      <td>2010-07-08 18:12:32-04:00</td>\n",
       "      <td>2010</td>\n",
       "      <td>3</td>\n",
       "      <td>7</td>\n",
       "      <td>18</td>\n",
       "      <td>12</td>\n",
       "      <td>(40.774363, -73.957686)</td>\n",
       "      <td>(40.774363, -73.957686)</td>\n",
       "      <td>0.930561</td>\n",
       "      <td>0.930561</td>\n",
       "      <td>13.161542</td>\n",
       "      <td>13.161542</td>\n",
       "      <td>0.0</td>\n",
       "    </tr>\n",
       "    <tr>\n",
       "      <th>109</th>\n",
       "      <td>2012-07-12 13:02:15.0000003</td>\n",
       "      <td>6.1</td>\n",
       "      <td>-73.986871</td>\n",
       "      <td>40.739600</td>\n",
       "      <td>-73.986871</td>\n",
       "      <td>40.739600</td>\n",
       "      <td>1</td>\n",
       "      <td>2012-07-12 09:02:15-04:00</td>\n",
       "      <td>2012</td>\n",
       "      <td>3</td>\n",
       "      <td>7</td>\n",
       "      <td>9</td>\n",
       "      <td>2</td>\n",
       "      <td>(40.7396, -73.986871)</td>\n",
       "      <td>(40.7396, -73.986871)</td>\n",
       "      <td>3.112199</td>\n",
       "      <td>3.112199</td>\n",
       "      <td>12.893598</td>\n",
       "      <td>12.893598</td>\n",
       "      <td>0.0</td>\n",
       "    </tr>\n",
       "    <tr>\n",
       "      <th>723</th>\n",
       "      <td>2012-05-31 23:42:31.0000003</td>\n",
       "      <td>4.9</td>\n",
       "      <td>-73.952526</td>\n",
       "      <td>40.747567</td>\n",
       "      <td>-73.952526</td>\n",
       "      <td>40.747567</td>\n",
       "      <td>1</td>\n",
       "      <td>2012-05-31 19:42:31-04:00</td>\n",
       "      <td>2012</td>\n",
       "      <td>3</td>\n",
       "      <td>5</td>\n",
       "      <td>19</td>\n",
       "      <td>42</td>\n",
       "      <td>(40.747567, -73.952526)</td>\n",
       "      <td>(40.747567, -73.952526)</td>\n",
       "      <td>2.640370</td>\n",
       "      <td>2.640370</td>\n",
       "      <td>11.734067</td>\n",
       "      <td>11.734067</td>\n",
       "      <td>0.0</td>\n",
       "    </tr>\n",
       "    <tr>\n",
       "      <th>733</th>\n",
       "      <td>2009-10-12 22:04:00.00000081</td>\n",
       "      <td>6.5</td>\n",
       "      <td>-73.794165</td>\n",
       "      <td>40.656450</td>\n",
       "      <td>-73.794165</td>\n",
       "      <td>40.656450</td>\n",
       "      <td>1</td>\n",
       "      <td>2009-10-12 18:04:00-04:00</td>\n",
       "      <td>2009</td>\n",
       "      <td>0</td>\n",
       "      <td>10</td>\n",
       "      <td>18</td>\n",
       "      <td>4</td>\n",
       "      <td>(40.65645, -73.794165)</td>\n",
       "      <td>(40.65645, -73.794165)</td>\n",
       "      <td>12.757630</td>\n",
       "      <td>12.757630</td>\n",
       "      <td>1.343747</td>\n",
       "      <td>1.343747</td>\n",
       "      <td>0.0</td>\n",
       "    </tr>\n",
       "    <tr>\n",
       "      <th>750</th>\n",
       "      <td>2011-06-24 13:33:00.00000016</td>\n",
       "      <td>49.8</td>\n",
       "      <td>-73.978367</td>\n",
       "      <td>40.766838</td>\n",
       "      <td>-73.978367</td>\n",
       "      <td>40.766838</td>\n",
       "      <td>5</td>\n",
       "      <td>2011-06-24 09:33:00-04:00</td>\n",
       "      <td>2011</td>\n",
       "      <td>4</td>\n",
       "      <td>6</td>\n",
       "      <td>9</td>\n",
       "      <td>33</td>\n",
       "      <td>(40.766838, -73.978367)</td>\n",
       "      <td>(40.766838, -73.978367)</td>\n",
       "      <td>1.183432</td>\n",
       "      <td>1.183432</td>\n",
       "      <td>13.624729</td>\n",
       "      <td>13.624729</td>\n",
       "      <td>0.0</td>\n",
       "    </tr>\n",
       "  </tbody>\n",
       "</table>\n",
       "</div>"
      ],
      "text/plain": [
       "                              key  fare_amount  pickup_longitude  \\\n",
       "105   2010-07-08 22:12:32.0000003          4.1        -73.957686   \n",
       "109   2012-07-12 13:02:15.0000003          6.1        -73.986871   \n",
       "723   2012-05-31 23:42:31.0000003          4.9        -73.952526   \n",
       "733  2009-10-12 22:04:00.00000081          6.5        -73.794165   \n",
       "750  2011-06-24 13:33:00.00000016         49.8        -73.978367   \n",
       "\n",
       "     pickup_latitude  dropoff_longitude  dropoff_latitude  passenger_count  \\\n",
       "105        40.774363         -73.957686         40.774363                1   \n",
       "109        40.739600         -73.986871         40.739600                1   \n",
       "723        40.747567         -73.952526         40.747567                1   \n",
       "733        40.656450         -73.794165         40.656450                1   \n",
       "750        40.766838         -73.978367         40.766838                5   \n",
       "\n",
       "           pickup_easternTime  year  dayofweek  month  hour  minute  \\\n",
       "105 2010-07-08 18:12:32-04:00  2010          3      7    18      12   \n",
       "109 2012-07-12 09:02:15-04:00  2012          3      7     9       2   \n",
       "723 2012-05-31 19:42:31-04:00  2012          3      5    19      42   \n",
       "733 2009-10-12 18:04:00-04:00  2009          0     10    18       4   \n",
       "750 2011-06-24 09:33:00-04:00  2011          4      6     9      33   \n",
       "\n",
       "          dropoff_latlogPair        pickup_latlogPair  dropoff_manhattan  \\\n",
       "105  (40.774363, -73.957686)  (40.774363, -73.957686)           0.930561   \n",
       "109    (40.7396, -73.986871)    (40.7396, -73.986871)           3.112199   \n",
       "723  (40.747567, -73.952526)  (40.747567, -73.952526)           2.640370   \n",
       "733   (40.65645, -73.794165)   (40.65645, -73.794165)          12.757630   \n",
       "750  (40.766838, -73.978367)  (40.766838, -73.978367)           1.183432   \n",
       "\n",
       "     pickup_manhattan  dropoff_jfk  pickup_jfk  travelDistance  \n",
       "105          0.930561    13.161542   13.161542             0.0  \n",
       "109          3.112199    12.893598   12.893598             0.0  \n",
       "723          2.640370    11.734067   11.734067             0.0  \n",
       "733         12.757630     1.343747    1.343747             0.0  \n",
       "750          1.183432    13.624729   13.624729             0.0  "
      ]
     },
     "execution_count": 81,
     "metadata": {},
     "output_type": "execute_result"
    }
   ],
   "source": [
    "NotPossible =df_clean.loc[ (df_clean['travelDistance']==0 )& (df_clean['fare_amount']!=0)]\n",
    "NotPossible.head()"
   ]
  },
  {
   "cell_type": "code",
   "execution_count": 83,
   "metadata": {},
   "outputs": [
    {
     "data": {
      "text/plain": [
       "(5275, 20)"
      ]
     },
     "execution_count": 83,
     "metadata": {},
     "output_type": "execute_result"
    }
   ],
   "source": [
    "NotPossible.shape"
   ]
  },
  {
   "cell_type": "code",
   "execution_count": 87,
   "metadata": {},
   "outputs": [
    {
     "data": {
      "text/plain": [
       "(538640, 20)"
      ]
     },
     "execution_count": 87,
     "metadata": {},
     "output_type": "execute_result"
    }
   ],
   "source": [
    "df_clean.shape"
   ]
  },
  {
   "cell_type": "markdown",
   "metadata": {},
   "source": [
    "# Filter out the rows that have travelDistance==0 but fare_amount!=0"
   ]
  },
  {
   "cell_type": "code",
   "execution_count": 90,
   "metadata": {},
   "outputs": [],
   "source": [
    "df_clean_ondistance= df_clean.loc[ (df_clean['travelDistance']!=0 )| (df_clean['fare_amount']==0)]"
   ]
  },
  {
   "cell_type": "code",
   "execution_count": 91,
   "metadata": {},
   "outputs": [
    {
     "data": {
      "text/plain": [
       "(533365, 20)"
      ]
     },
     "execution_count": 91,
     "metadata": {},
     "output_type": "execute_result"
    }
   ],
   "source": [
    "df_clean_ondistance.shape"
   ]
  },
  {
   "cell_type": "code",
   "execution_count": 88,
   "metadata": {},
   "outputs": [],
   "source": [
    "#test=df_clean[df_clean.isin(NotPossible)]\n",
    "#test.head()"
   ]
  },
  {
   "cell_type": "markdown",
   "metadata": {},
   "source": [
    "# Find out the boundary Latitude and Longitude of JFK  and  Manhanttan \n",
    "\n",
    "JFK is (40.6413, -73.7781) Manhattan is (40.7831, -73.9712)"
   ]
  },
  {
   "cell_type": "code",
   "execution_count": 76,
   "metadata": {},
   "outputs": [
    {
     "name": "stdout",
     "output_type": "stream",
     "text": [
      "JFK latitute range is within 40.63271414141414 and 40.64988585858586\n",
      "JFK longitute range is within -73.7881 and -73.76951414141413\n",
      "Manhattan latitute range is within 40.69471616161616 and 40.87148383838384\n",
      "Manhattan longitude range is within -74.08736161616162 and -73.85503838383838\n"
     ]
    }
   ],
   "source": [
    "def findLatLogRange(X, Y, linspaceNumber, min_dist):\n",
    "    arr_range=np.linspace(-linspaceNumber, linspaceNumber, num=100)\n",
    "    lat_arr=[]\n",
    "    log_arr=[]\n",
    "    for elem in arr_range:\n",
    "        dist_lat=geopy.distance.vincenty((X,Y), (X+elem,Y)).miles\n",
    "        if ((dist_lat>=min_dist) & (dist_lat<=min_dist+0.1)):\n",
    "            lat_arr.append(elem)\n",
    "        dist_log=geopy.distance.vincenty((X,Y), (X,Y+elem)).miles\n",
    "        if ((dist_log>=min_dist) & (dist_log<=min_dist+0.1)):\n",
    "            log_arr.append(elem)\n",
    "    return [lat_arr,log_arr]\n",
    "    \n",
    "# find JFK range \n",
    "JFKLat=findLatLogRange(40.6413,-73.7781,0.01,0.5)[0]\n",
    "#print(JFKLat)\n",
    "print(\"JFK latitute range is within \"+ str(40.6413+JFKLat[0])+ \" and \"+ str(40.6413-JFKLat[0]))\n",
    "JFKLog=findLatLogRange(40.6413,-73.7781,0.01,0.5)[1]\n",
    "#print(JFKLog)\n",
    "print(\"JFK longitute range is within \"+ str(-73.7781+JFKLog[0])+ \" and \"+ str(-73.7781-JFKLat[0]))\n",
    "ManhattanLat=findLatLogRange(40.7831, -73.9712,0.25, 6)[0]\n",
    "#print(ManhattanLat)\n",
    "print(\"Manhattan latitute range is within \"+ str(40.7831+ManhattanLat[0])+ \" and \"+ str(40.7831-ManhattanLat[0]))\n",
    "ManhattanLog=findLatLogRange(40.7831, -73.9712,0.5,6)[1]\n",
    "#print(ManhattanLog)\n",
    "print(\"Manhattan longitude range is within \"+ str(-73.9712+ManhattanLog[0])+ \" and \"+str( -73.9712-ManhattanLog[0]))\n",
    "\n",
    "  \n",
    "    \n"
   ]
  },
  {
   "cell_type": "markdown",
   "metadata": {},
   "source": [
    "# Part2. (1) Compute the Pearson correlation between Euclidean distance of the ride and the taxi fare"
   ]
  },
  {
   "cell_type": "code",
   "execution_count": 92,
   "metadata": {},
   "outputs": [
    {
     "data": {
      "text/plain": [
       "0.8422037562495871"
      ]
     },
     "execution_count": 92,
     "metadata": {},
     "output_type": "execute_result"
    }
   ],
   "source": [
    "df_clean_ondistance['travelDistance'].corr(df_clean_ondistance['fare_amount'])"
   ]
  },
  {
   "cell_type": "markdown",
   "metadata": {},
   "source": [
    "# Part2.(2)Compute the Pearson correlation between time of day and distance traveled"
   ]
  },
  {
   "cell_type": "code",
   "execution_count": 93,
   "metadata": {},
   "outputs": [],
   "source": [
    "timeofday=df_clean_ondistance['hour']+df_clean['minute']/60\n",
    "df_clean_ondistance.insert(14,'timeofday',timeofday)\n"
   ]
  },
  {
   "cell_type": "code",
   "execution_count": 95,
   "metadata": {},
   "outputs": [
    {
     "data": {
      "text/html": [
       "<div>\n",
       "<style>\n",
       "    .dataframe thead tr:only-child th {\n",
       "        text-align: right;\n",
       "    }\n",
       "\n",
       "    .dataframe thead th {\n",
       "        text-align: left;\n",
       "    }\n",
       "\n",
       "    .dataframe tbody tr th {\n",
       "        vertical-align: top;\n",
       "    }\n",
       "</style>\n",
       "<table border=\"1\" class=\"dataframe\">\n",
       "  <thead>\n",
       "    <tr style=\"text-align: right;\">\n",
       "      <th></th>\n",
       "      <th>key</th>\n",
       "      <th>fare_amount</th>\n",
       "      <th>pickup_longitude</th>\n",
       "      <th>pickup_latitude</th>\n",
       "      <th>dropoff_longitude</th>\n",
       "      <th>dropoff_latitude</th>\n",
       "      <th>passenger_count</th>\n",
       "      <th>pickup_easternTime</th>\n",
       "      <th>year</th>\n",
       "      <th>dayofweek</th>\n",
       "      <th>...</th>\n",
       "      <th>hour</th>\n",
       "      <th>minute</th>\n",
       "      <th>dropoff_latlogPair</th>\n",
       "      <th>timeofday</th>\n",
       "      <th>pickup_latlogPair</th>\n",
       "      <th>dropoff_manhattan</th>\n",
       "      <th>pickup_manhattan</th>\n",
       "      <th>dropoff_jfk</th>\n",
       "      <th>pickup_jfk</th>\n",
       "      <th>travelDistance</th>\n",
       "    </tr>\n",
       "  </thead>\n",
       "  <tbody>\n",
       "    <tr>\n",
       "      <th>0</th>\n",
       "      <td>2010-07-12 09:44:33.0000001</td>\n",
       "      <td>4.9</td>\n",
       "      <td>-73.983249</td>\n",
       "      <td>40.734655</td>\n",
       "      <td>-73.991278</td>\n",
       "      <td>40.738918</td>\n",
       "      <td>1</td>\n",
       "      <td>2010-07-12 05:44:33-04:00</td>\n",
       "      <td>2010</td>\n",
       "      <td>0</td>\n",
       "      <td>...</td>\n",
       "      <td>5</td>\n",
       "      <td>44</td>\n",
       "      <td>(40.738918, -73.99127800000001)</td>\n",
       "      <td>5.733333</td>\n",
       "      <td>(40.734655, -73.983249)</td>\n",
       "      <td>3.225556</td>\n",
       "      <td>3.402097</td>\n",
       "      <td>13.066743</td>\n",
       "      <td>12.554090</td>\n",
       "      <td>0.827083</td>\n",
       "    </tr>\n",
       "    <tr>\n",
       "      <th>1</th>\n",
       "      <td>2014-02-06 11:17:00.00000070</td>\n",
       "      <td>22.5</td>\n",
       "      <td>-73.980710</td>\n",
       "      <td>40.782635</td>\n",
       "      <td>-74.002040</td>\n",
       "      <td>40.719425</td>\n",
       "      <td>1</td>\n",
       "      <td>2014-02-06 06:17:00-05:00</td>\n",
       "      <td>2014</td>\n",
       "      <td>3</td>\n",
       "      <td>...</td>\n",
       "      <td>6</td>\n",
       "      <td>17</td>\n",
       "      <td>(40.719425, -74.00204000000001)</td>\n",
       "      <td>6.283333</td>\n",
       "      <td>(40.782635, -73.98071)</td>\n",
       "      <td>4.682310</td>\n",
       "      <td>0.499834</td>\n",
       "      <td>12.940118</td>\n",
       "      <td>14.431989</td>\n",
       "      <td>7.246861</td>\n",
       "    </tr>\n",
       "    <tr>\n",
       "      <th>2</th>\n",
       "      <td>2011-06-02 14:04:00.000000194</td>\n",
       "      <td>5.7</td>\n",
       "      <td>-73.991710</td>\n",
       "      <td>40.731902</td>\n",
       "      <td>-73.979070</td>\n",
       "      <td>40.745213</td>\n",
       "      <td>1</td>\n",
       "      <td>2011-06-02 10:04:00-04:00</td>\n",
       "      <td>2011</td>\n",
       "      <td>3</td>\n",
       "      <td>...</td>\n",
       "      <td>10</td>\n",
       "      <td>4</td>\n",
       "      <td>(40.745213, -73.97907)</td>\n",
       "      <td>10.066667</td>\n",
       "      <td>(40.731902000000005, -73.99171)</td>\n",
       "      <td>2.646717</td>\n",
       "      <td>3.693080</td>\n",
       "      <td>12.760170</td>\n",
       "      <td>12.844223</td>\n",
       "      <td>1.823428</td>\n",
       "    </tr>\n",
       "    <tr>\n",
       "      <th>3</th>\n",
       "      <td>2010-02-28 16:56:00.00000022</td>\n",
       "      <td>6.1</td>\n",
       "      <td>-74.001860</td>\n",
       "      <td>40.737772</td>\n",
       "      <td>-74.009763</td>\n",
       "      <td>40.714795</td>\n",
       "      <td>5</td>\n",
       "      <td>2010-02-28 11:56:00-05:00</td>\n",
       "      <td>2010</td>\n",
       "      <td>6</td>\n",
       "      <td>...</td>\n",
       "      <td>11</td>\n",
       "      <td>56</td>\n",
       "      <td>(40.714795, -74.009763)</td>\n",
       "      <td>11.933333</td>\n",
       "      <td>(40.737772, -74.00186)</td>\n",
       "      <td>5.129305</td>\n",
       "      <td>3.517200</td>\n",
       "      <td>13.184237</td>\n",
       "      <td>13.506975</td>\n",
       "      <td>2.637471</td>\n",
       "    </tr>\n",
       "    <tr>\n",
       "      <th>4</th>\n",
       "      <td>2010-07-02 16:58:45.0000001</td>\n",
       "      <td>7.3</td>\n",
       "      <td>-73.978321</td>\n",
       "      <td>40.753844</td>\n",
       "      <td>-73.982309</td>\n",
       "      <td>40.777037</td>\n",
       "      <td>1</td>\n",
       "      <td>2010-07-02 12:58:45-04:00</td>\n",
       "      <td>2010</td>\n",
       "      <td>4</td>\n",
       "      <td>...</td>\n",
       "      <td>12</td>\n",
       "      <td>58</td>\n",
       "      <td>(40.777037, -73.982309)</td>\n",
       "      <td>12.966667</td>\n",
       "      <td>(40.753844, -73.978321)</td>\n",
       "      <td>0.717331</td>\n",
       "      <td>2.053025</td>\n",
       "      <td>14.237282</td>\n",
       "      <td>13.071881</td>\n",
       "      <td>2.597485</td>\n",
       "    </tr>\n",
       "  </tbody>\n",
       "</table>\n",
       "<p>5 rows × 21 columns</p>\n",
       "</div>"
      ],
      "text/plain": [
       "                             key  fare_amount  pickup_longitude  \\\n",
       "0    2010-07-12 09:44:33.0000001          4.9        -73.983249   \n",
       "1   2014-02-06 11:17:00.00000070         22.5        -73.980710   \n",
       "2  2011-06-02 14:04:00.000000194          5.7        -73.991710   \n",
       "3   2010-02-28 16:56:00.00000022          6.1        -74.001860   \n",
       "4    2010-07-02 16:58:45.0000001          7.3        -73.978321   \n",
       "\n",
       "   pickup_latitude  dropoff_longitude  dropoff_latitude  passenger_count  \\\n",
       "0        40.734655         -73.991278         40.738918                1   \n",
       "1        40.782635         -74.002040         40.719425                1   \n",
       "2        40.731902         -73.979070         40.745213                1   \n",
       "3        40.737772         -74.009763         40.714795                5   \n",
       "4        40.753844         -73.982309         40.777037                1   \n",
       "\n",
       "         pickup_easternTime  year  dayofweek       ...        hour  minute  \\\n",
       "0 2010-07-12 05:44:33-04:00  2010          0       ...           5      44   \n",
       "1 2014-02-06 06:17:00-05:00  2014          3       ...           6      17   \n",
       "2 2011-06-02 10:04:00-04:00  2011          3       ...          10       4   \n",
       "3 2010-02-28 11:56:00-05:00  2010          6       ...          11      56   \n",
       "4 2010-07-02 12:58:45-04:00  2010          4       ...          12      58   \n",
       "\n",
       "                dropoff_latlogPair  timeofday  \\\n",
       "0  (40.738918, -73.99127800000001)   5.733333   \n",
       "1  (40.719425, -74.00204000000001)   6.283333   \n",
       "2           (40.745213, -73.97907)  10.066667   \n",
       "3          (40.714795, -74.009763)  11.933333   \n",
       "4          (40.777037, -73.982309)  12.966667   \n",
       "\n",
       "                 pickup_latlogPair dropoff_manhattan  pickup_manhattan  \\\n",
       "0          (40.734655, -73.983249)          3.225556          3.402097   \n",
       "1           (40.782635, -73.98071)          4.682310          0.499834   \n",
       "2  (40.731902000000005, -73.99171)          2.646717          3.693080   \n",
       "3           (40.737772, -74.00186)          5.129305          3.517200   \n",
       "4          (40.753844, -73.978321)          0.717331          2.053025   \n",
       "\n",
       "   dropoff_jfk  pickup_jfk  travelDistance  \n",
       "0    13.066743   12.554090        0.827083  \n",
       "1    12.940118   14.431989        7.246861  \n",
       "2    12.760170   12.844223        1.823428  \n",
       "3    13.184237   13.506975        2.637471  \n",
       "4    14.237282   13.071881        2.597485  \n",
       "\n",
       "[5 rows x 21 columns]"
      ]
     },
     "execution_count": 95,
     "metadata": {},
     "output_type": "execute_result"
    }
   ],
   "source": [
    "df_clean_ondistance.head()"
   ]
  },
  {
   "cell_type": "code",
   "execution_count": 97,
   "metadata": {},
   "outputs": [
    {
     "data": {
      "text/plain": [
       "0.02900204418230583"
      ]
     },
     "execution_count": 97,
     "metadata": {},
     "output_type": "execute_result"
    }
   ],
   "source": [
    "df_clean_ondistance['timeofday'].corr(df_clean_ondistance['travelDistance'])"
   ]
  },
  {
   "cell_type": "markdown",
   "metadata": {},
   "source": [
    "# Part2. (3)compute the Pearson correlation between time of day and the taxi fare"
   ]
  },
  {
   "cell_type": "code",
   "execution_count": 98,
   "metadata": {},
   "outputs": [
    {
     "data": {
      "text/plain": [
       "-0.005727674487372391"
      ]
     },
     "execution_count": 98,
     "metadata": {},
     "output_type": "execute_result"
    }
   ],
   "source": [
    "df_clean_ondistance['timeofday'].corr(df_clean_ondistance['fare_amount'])"
   ]
  },
  {
   "cell_type": "markdown",
   "metadata": {},
   "source": [
    "# Part3.(1) scatter plot of dist and fare_amout"
   ]
  },
  {
   "cell_type": "code",
   "execution_count": 100,
   "metadata": {},
   "outputs": [
    {
     "data": {
      "image/png": "[encoded data removed]",
      "text/plain": [
       "<matplotlib.figure.Figure at 0x1f9016c6ac8>"
      ]
     },
     "metadata": {},
     "output_type": "display_data"
    }
   ],
   "source": [
    "plot3_1=df_clean_ondistance.plot(kind='scatter',x='travelDistance',y='fare_amount')"
   ]
  },
  {
   "cell_type": "markdown",
   "metadata": {},
   "source": [
    "# Part3.(2) scatter plot of timeofday and distance"
   ]
  },
  {
   "cell_type": "code",
   "execution_count": 101,
   "metadata": {},
   "outputs": [
    {
     "data": {
      "image/png": "[encoded data removed]",
      "text/plain": [
       "<matplotlib.figure.Figure at 0x1f912929748>"
      ]
     },
     "metadata": {},
     "output_type": "display_data"
    }
   ],
   "source": [
    "plot3_2=df_clean_ondistance.plot(kind='scatter',x='timeofday', y='travelDistance')"
   ]
  },
  {
   "cell_type": "markdown",
   "metadata": {},
   "source": [
    "# Part3.(3) scatter plot of timeofday and fare_amount"
   ]
  },
  {
   "cell_type": "code",
   "execution_count": 103,
   "metadata": {},
   "outputs": [
    {
     "data": {
      "image/png": "[encoded data removed]",
      "text/plain": [
       "<matplotlib.figure.Figure at 0x1f913b7eb38>"
      ]
     },
     "metadata": {},
     "output_type": "display_data"
    }
   ],
   "source": [
    "plot3_3=df_clean_ondistance.plot(kind='scatter',x='timeofday', y='fare_amount')"
   ]
  },
  {
   "cell_type": "markdown",
   "metadata": {},
   "source": [
    "# Part4: Create an exciting plot of your own using the dataset that you think reveals something very interesting. "
   ]
  },
  {
   "cell_type": "code",
   "execution_count": 104,
   "metadata": {},
   "outputs": [],
   "source": [
    "df_clean2=df_clean_ondistance"
   ]
  },
  {
   "cell_type": "code",
   "execution_count": 106,
   "metadata": {},
   "outputs": [
    {
     "data": {
      "text/plain": [
       "(533365, 21)"
      ]
     },
     "execution_count": 106,
     "metadata": {},
     "output_type": "execute_result"
    }
   ],
   "source": [
    "df_clean2.shape"
   ]
  },
  {
   "cell_type": "code",
   "execution_count": 119,
   "metadata": {},
   "outputs": [
    {
     "data": {
      "text/html": [
       "<div>\n",
       "<style>\n",
       "    .dataframe thead tr:only-child th {\n",
       "        text-align: right;\n",
       "    }\n",
       "\n",
       "    .dataframe thead th {\n",
       "        text-align: left;\n",
       "    }\n",
       "\n",
       "    .dataframe tbody tr th {\n",
       "        vertical-align: top;\n",
       "    }\n",
       "</style>\n",
       "<table border=\"1\" class=\"dataframe\">\n",
       "  <thead>\n",
       "    <tr style=\"text-align: right;\">\n",
       "      <th></th>\n",
       "      <th>fare_amount</th>\n",
       "      <th>pickup_longitude</th>\n",
       "      <th>pickup_latitude</th>\n",
       "      <th>dropoff_longitude</th>\n",
       "      <th>dropoff_latitude</th>\n",
       "      <th>passenger_count</th>\n",
       "      <th>year</th>\n",
       "      <th>dayofweek</th>\n",
       "      <th>month</th>\n",
       "      <th>hour</th>\n",
       "      <th>minute</th>\n",
       "      <th>timeofday</th>\n",
       "      <th>dropoff_manhattan</th>\n",
       "      <th>pickup_manhattan</th>\n",
       "      <th>dropoff_jfk</th>\n",
       "      <th>pickup_jfk</th>\n",
       "      <th>travelDistance</th>\n",
       "    </tr>\n",
       "  </thead>\n",
       "  <tbody>\n",
       "    <tr>\n",
       "      <th>count</th>\n",
       "      <td>533365.000000</td>\n",
       "      <td>533365.000000</td>\n",
       "      <td>533365.000000</td>\n",
       "      <td>533365.000000</td>\n",
       "      <td>533365.000000</td>\n",
       "      <td>533365.000000</td>\n",
       "      <td>533365.000000</td>\n",
       "      <td>533365.000000</td>\n",
       "      <td>533365.000000</td>\n",
       "      <td>533365.000000</td>\n",
       "      <td>533365.000000</td>\n",
       "      <td>533365.000000</td>\n",
       "      <td>533365.000000</td>\n",
       "      <td>533365.000000</td>\n",
       "      <td>533365.000000</td>\n",
       "      <td>533365.000000</td>\n",
       "      <td>533365.000000</td>\n",
       "    </tr>\n",
       "    <tr>\n",
       "      <th>mean</th>\n",
       "      <td>11.340005</td>\n",
       "      <td>-73.975551</td>\n",
       "      <td>40.750991</td>\n",
       "      <td>-73.974746</td>\n",
       "      <td>40.751320</td>\n",
       "      <td>1.695197</td>\n",
       "      <td>2011.741177</td>\n",
       "      <td>2.984693</td>\n",
       "      <td>6.274397</td>\n",
       "      <td>11.818721</td>\n",
       "      <td>29.567321</td>\n",
       "      <td>12.311509</td>\n",
       "      <td>2.861900</td>\n",
       "      <td>2.756478</td>\n",
       "      <td>13.013945</td>\n",
       "      <td>12.980964</td>\n",
       "      <td>3.365330</td>\n",
       "    </tr>\n",
       "    <tr>\n",
       "      <th>std</th>\n",
       "      <td>9.602944</td>\n",
       "      <td>0.035813</td>\n",
       "      <td>0.027681</td>\n",
       "      <td>0.034912</td>\n",
       "      <td>0.031251</td>\n",
       "      <td>1.310509</td>\n",
       "      <td>1.865306</td>\n",
       "      <td>1.903902</td>\n",
       "      <td>3.437877</td>\n",
       "      <td>5.838068</td>\n",
       "      <td>17.311377</td>\n",
       "      <td>5.832832</td>\n",
       "      <td>2.158345</td>\n",
       "      <td>2.131193</td>\n",
       "      <td>1.715586</td>\n",
       "      <td>1.871466</td>\n",
       "      <td>3.740915</td>\n",
       "    </tr>\n",
       "    <tr>\n",
       "      <th>min</th>\n",
       "      <td>2.510000</td>\n",
       "      <td>-74.744080</td>\n",
       "      <td>40.221474</td>\n",
       "      <td>-74.753843</td>\n",
       "      <td>40.223950</td>\n",
       "      <td>1.000000</td>\n",
       "      <td>2008.000000</td>\n",
       "      <td>0.000000</td>\n",
       "      <td>1.000000</td>\n",
       "      <td>0.000000</td>\n",
       "      <td>0.000000</td>\n",
       "      <td>0.000000</td>\n",
       "      <td>0.001224</td>\n",
       "      <td>0.002475</td>\n",
       "      <td>0.059078</td>\n",
       "      <td>0.176275</td>\n",
       "      <td>0.000084</td>\n",
       "    </tr>\n",
       "    <tr>\n",
       "      <th>25%</th>\n",
       "      <td>6.000000</td>\n",
       "      <td>-73.992292</td>\n",
       "      <td>40.736610</td>\n",
       "      <td>-73.991607</td>\n",
       "      <td>40.735467</td>\n",
       "      <td>1.000000</td>\n",
       "      <td>2010.000000</td>\n",
       "      <td>1.000000</td>\n",
       "      <td>3.000000</td>\n",
       "      <td>7.000000</td>\n",
       "      <td>15.000000</td>\n",
       "      <td>7.466667</td>\n",
       "      <td>1.430887</td>\n",
       "      <td>1.405354</td>\n",
       "      <td>12.777814</td>\n",
       "      <td>12.801857</td>\n",
       "      <td>1.284794</td>\n",
       "    </tr>\n",
       "    <tr>\n",
       "      <th>50%</th>\n",
       "      <td>8.500000</td>\n",
       "      <td>-73.982113</td>\n",
       "      <td>40.753405</td>\n",
       "      <td>-73.980683</td>\n",
       "      <td>40.753805</td>\n",
       "      <td>1.000000</td>\n",
       "      <td>2012.000000</td>\n",
       "      <td>3.000000</td>\n",
       "      <td>6.000000</td>\n",
       "      <td>12.000000</td>\n",
       "      <td>30.000000</td>\n",
       "      <td>12.700000</td>\n",
       "      <td>2.367614</td>\n",
       "      <td>2.323935</td>\n",
       "      <td>13.182662</td>\n",
       "      <td>13.186903</td>\n",
       "      <td>2.182190</td>\n",
       "    </tr>\n",
       "    <tr>\n",
       "      <th>75%</th>\n",
       "      <td>12.500000</td>\n",
       "      <td>-73.968483</td>\n",
       "      <td>40.767569</td>\n",
       "      <td>-73.965650</td>\n",
       "      <td>40.768407</td>\n",
       "      <td>2.000000</td>\n",
       "      <td>2013.000000</td>\n",
       "      <td>5.000000</td>\n",
       "      <td>9.000000</td>\n",
       "      <td>17.000000</td>\n",
       "      <td>45.000000</td>\n",
       "      <td>17.050000</td>\n",
       "      <td>3.750883</td>\n",
       "      <td>3.616748</td>\n",
       "      <td>13.631683</td>\n",
       "      <td>13.616985</td>\n",
       "      <td>3.945258</td>\n",
       "    </tr>\n",
       "    <tr>\n",
       "      <th>max</th>\n",
       "      <td>450.000000</td>\n",
       "      <td>-72.788840</td>\n",
       "      <td>41.366138</td>\n",
       "      <td>-72.693773</td>\n",
       "      <td>41.389220</td>\n",
       "      <td>6.000000</td>\n",
       "      <td>2015.000000</td>\n",
       "      <td>6.000000</td>\n",
       "      <td>12.000000</td>\n",
       "      <td>23.000000</td>\n",
       "      <td>59.000000</td>\n",
       "      <td>23.983333</td>\n",
       "      <td>70.474560</td>\n",
       "      <td>66.083873</td>\n",
       "      <td>65.436019</td>\n",
       "      <td>63.918662</td>\n",
       "      <td>115.258993</td>\n",
       "    </tr>\n",
       "  </tbody>\n",
       "</table>\n",
       "</div>"
      ],
      "text/plain": [
       "         fare_amount  pickup_longitude  pickup_latitude  dropoff_longitude  \\\n",
       "count  533365.000000     533365.000000    533365.000000      533365.000000   \n",
       "mean       11.340005        -73.975551        40.750991         -73.974746   \n",
       "std         9.602944          0.035813         0.027681           0.034912   \n",
       "min         2.510000        -74.744080        40.221474         -74.753843   \n",
       "25%         6.000000        -73.992292        40.736610         -73.991607   \n",
       "50%         8.500000        -73.982113        40.753405         -73.980683   \n",
       "75%        12.500000        -73.968483        40.767569         -73.965650   \n",
       "max       450.000000        -72.788840        41.366138         -72.693773   \n",
       "\n",
       "       dropoff_latitude  passenger_count           year      dayofweek  \\\n",
       "count     533365.000000    533365.000000  533365.000000  533365.000000   \n",
       "mean          40.751320         1.695197    2011.741177       2.984693   \n",
       "std            0.031251         1.310509       1.865306       1.903902   \n",
       "min           40.223950         1.000000    2008.000000       0.000000   \n",
       "25%           40.735467         1.000000    2010.000000       1.000000   \n",
       "50%           40.753805         1.000000    2012.000000       3.000000   \n",
       "75%           40.768407         2.000000    2013.000000       5.000000   \n",
       "max           41.389220         6.000000    2015.000000       6.000000   \n",
       "\n",
       "               month           hour         minute      timeofday  \\\n",
       "count  533365.000000  533365.000000  533365.000000  533365.000000   \n",
       "mean        6.274397      11.818721      29.567321      12.311509   \n",
       "std         3.437877       5.838068      17.311377       5.832832   \n",
       "min         1.000000       0.000000       0.000000       0.000000   \n",
       "25%         3.000000       7.000000      15.000000       7.466667   \n",
       "50%         6.000000      12.000000      30.000000      12.700000   \n",
       "75%         9.000000      17.000000      45.000000      17.050000   \n",
       "max        12.000000      23.000000      59.000000      23.983333   \n",
       "\n",
       "       dropoff_manhattan  pickup_manhattan    dropoff_jfk     pickup_jfk  \\\n",
       "count      533365.000000     533365.000000  533365.000000  533365.000000   \n",
       "mean            2.861900          2.756478      13.013945      12.980964   \n",
       "std             2.158345          2.131193       1.715586       1.871466   \n",
       "min             0.001224          0.002475       0.059078       0.176275   \n",
       "25%             1.430887          1.405354      12.777814      12.801857   \n",
       "50%             2.367614          2.323935      13.182662      13.186903   \n",
       "75%             3.750883          3.616748      13.631683      13.616985   \n",
       "max            70.474560         66.083873      65.436019      63.918662   \n",
       "\n",
       "       travelDistance  \n",
       "count   533365.000000  \n",
       "mean         3.365330  \n",
       "std          3.740915  \n",
       "min          0.000084  \n",
       "25%          1.284794  \n",
       "50%          2.182190  \n",
       "75%          3.945258  \n",
       "max        115.258993  "
      ]
     },
     "execution_count": 119,
     "metadata": {},
     "output_type": "execute_result"
    }
   ],
   "source": [
    "df_clean2.describe()"
   ]
  },
  {
   "cell_type": "code",
   "execution_count": 141,
   "metadata": {},
   "outputs": [],
   "source": [
    "WithinManhattan=df_clean2.loc[ (df_clean2['pickup_manhattan']<=2) & (df_clean2['dropoff_manhattan']<=2) ]"
   ]
  },
  {
   "cell_type": "code",
   "execution_count": 142,
   "metadata": {},
   "outputs": [
    {
     "data": {
      "text/plain": [
       "(135205, 21)"
      ]
     },
     "execution_count": 142,
     "metadata": {},
     "output_type": "execute_result"
    }
   ],
   "source": [
    "WithinManhattan.shape"
   ]
  },
  {
   "cell_type": "code",
   "execution_count": 143,
   "metadata": {},
   "outputs": [],
   "source": [
    "OutManhattan_one_direction=df_clean2.loc[ (df_clean2['pickup_manhattan']>2) | (df_clean2['dropoff_manhattan']>2) ]"
   ]
  },
  {
   "cell_type": "code",
   "execution_count": 144,
   "metadata": {},
   "outputs": [
    {
     "data": {
      "text/plain": [
       "(398160, 21)"
      ]
     },
     "execution_count": 144,
     "metadata": {},
     "output_type": "execute_result"
    }
   ],
   "source": [
    "OutManhattan_one_direction.shape"
   ]
  },
  {
   "cell_type": "code",
   "execution_count": 145,
   "metadata": {},
   "outputs": [
    {
     "data": {
      "text/plain": [
       "(224509, 21)"
      ]
     },
     "execution_count": 145,
     "metadata": {},
     "output_type": "execute_result"
    }
   ],
   "source": [
    "OutManhattan=df_clean2.loc[ (df_clean2['pickup_manhattan']>2) & (df_clean2['dropoff_manhattan']>2) ]\n",
    "OutManhattan.shape\n"
   ]
  },
  {
   "cell_type": "code",
   "execution_count": 155,
   "metadata": {},
   "outputs": [
    {
     "data": {
      "text/plain": [
       "(192512, 21)"
      ]
     },
     "execution_count": 155,
     "metadata": {},
     "output_type": "execute_result"
    }
   ],
   "source": [
    "OutManhattan_short=OutManhattan.loc[OutManhattan['travelDistance']<=6]\n",
    "OutManhattan_short.shape"
   ]
  },
  {
   "cell_type": "code",
   "execution_count": 166,
   "metadata": {},
   "outputs": [
    {
     "data": {
      "image/png": "[encoded data removed]",
      "text/plain": [
       "<matplotlib.figure.Figure at 0x1f9018a3c18>"
      ]
     },
     "metadata": {},
     "output_type": "display_data"
    }
   ],
   "source": [
    "x1=WithinManhattan['travelDistance']\n",
    "y1=WithinManhattan['fare_amount']\n",
    "\n",
    "#plt.subplot(121)\n",
    "plt.scatter(x1, y1,  marker=\">\")\n",
    "\n",
    "#plt.subplot(122)\n",
    "\n",
    "\n",
    "plt.yticks(np.arange(0, 20, 5))\n",
    "\n",
    "plt.show()\n"
   ]
  },
  {
   "cell_type": "code",
   "execution_count": 168,
   "metadata": {},
   "outputs": [
    {
     "data": {
      "image/png": "[encoded data removed]",
      "text/plain": [
       "<matplotlib.figure.Figure at 0x1f901702748>"
      ]
     },
     "metadata": {},
     "output_type": "display_data"
    }
   ],
   "source": [
    "x2=OutManhattan_short['travelDistance']\n",
    "y2=OutManhattan_short['fare_amount']\n",
    "plt.scatter(x2, y2,  marker='o')\n",
    "plt.yticks(np.arange(0, 20, 5))\n",
    "\n",
    "plt.show()"
   ]
  },
  {
   "cell_type": "code",
   "execution_count": 158,
   "metadata": {},
   "outputs": [
    {
     "data": {
      "image/png": "[encoded data removed]",
      "text/plain": [
       "<matplotlib.figure.Figure at 0x1f901885eb8>"
      ]
     },
     "metadata": {},
     "output_type": "display_data"
    }
   ],
   "source": [
    "np.random.seed(19680801)\n",
    "\n",
    "\n",
    "x = np.random.rand(10)\n",
    "y = np.random.rand(10)\n",
    "z = np.sqrt(x**2 + y**2)\n",
    "\n",
    "plt.subplot(121)\n",
    "plt.scatter(x, y, s=80, c=z, marker=\">\")\n",
    "\n",
    "plt.subplot(122)\n",
    "plt.scatter(x, y, s=80, c=z, marker=(5, 0))\n",
    "\n",
    "\n",
    "\n",
    "plt.show()"
   ]
  },
  {
   "cell_type": "code",
   "execution_count": null,
   "metadata": {},
   "outputs": [],
   "source": []
  }
 ],
 "metadata": {
  "anaconda-cloud": {},
  "kernelspec": {
   "display_name": "Python [Root]",
   "language": "python",
   "name": "Python [Root]"
  },
  "language_info": {
   "codemirror_mode": {
    "name": "ipython",
    "version": 3
   },
   "file_extension": ".py",
   "mimetype": "text/x-python",
   "name": "python",
   "nbconvert_exporter": "python",
   "pygments_lexer": "ipython3",
   "version": "3.5.4"
  }
 },
 "nbformat": 4,
 "nbformat_minor": 2
}
