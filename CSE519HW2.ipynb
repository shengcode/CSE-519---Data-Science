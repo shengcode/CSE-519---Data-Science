{
 "cells": [
  {
   "cell_type": "code",
   "execution_count": 1,
   "metadata": {},
   "outputs": [],
   "source": [
    "import pandas as pd\n",
    "import random\n",
    "from datetime import datetime\n",
    "import geopandas\n",
    "from pytz import timezone\n",
    "import pytz\n",
    "import geopy\n",
    "from geopy import distance\n",
    "import numpy as np\n",
    "from geopy.geocoders import Nominatim\n",
    "import matplotlib.pyplot as plt"
   ]
  },
  {
   "cell_type": "markdown",
   "metadata": {},
   "source": [
    "#\n",
    "\n",
    "CSE 519 -- Data Science (Fall 2018)\n",
    "Prof. Steven Skiena\n",
    "Homework 2: Exploratory Data Analysis in iPython\n",
    "Due: Tuesday, September 25, 2018 (8:30 AM)\n",
    " \n",
    "This homework will investigate doing exploratory data analysis in iPython. The goal is to get you fluent in working with the standard tools and techniques of exploratory data analysis, by working with a data set where you have some basic sense of familiarity.\n",
    " \n",
    "This homework is based New York Taxi Fare Prediction on Kaggle, revolving around predicting the fare of a taxi ride given a pickup and a drop off location. More than just data exploration, you must also join the challenge and submit your model before the deadline, to get a score feedbacked from Kaggle. You are to explore the data and uncover interesting observations about the New York Taxi operations. You will need to submit all your results in a single google form and your code files in three different format (.ipynb, .pdf and .py). Make sure to have your code documented with proper comments and the exact sequence of operations you needed to produce the resulting tables and figures. The submission steps have been discussed below.\n",
    "\n",
    "Data downloading\n",
    "First of all, you need to join the challenge and download the data here. The description of the data can also be found at this page.\n",
    "\n",
    "Python Installation \n",
    "Instead of installing python and other tools manually, we suggest to install Anaconda, which is a Python distribution with package and environment manager. It simplifies a lot of common problems when installing tools for data science. More introduction can be found at here. Installing instruction can be found here. A useful instruction about Anaconda in Youtube can be found here.\n",
    "\n",
    "If you are an expert of Python and data science, what you need to do is install some packages relevant to data science. Some packages I believe you will definitely use for this homework are as following:\n",
    "pandas\n",
    "scikit-learn\n",
    "numpy\n",
    "matplotlib\n",
    "seaborn \n",
    "\n",
    "\n",
    "\n",
    "\n",
    "\n",
    "Tasks (100 pts)\n",
    " \n",
    "Take a look at the training data. There may be anomalies in the data that you may need to factor in before you start on the other tasks. Clean the data first to handle these issues. Explain what you did to clean the data (in bulleted form). (10 pt)\n",
    "Compute the Pearson correlation between the following: (9 pt)\n",
    "Euclidean distance of the ride and the taxi fare\n",
    "time of day and distance traveled\n",
    "time of day and the taxi fare\n",
    "\tWhich has the highest correlation?\n",
    "For each subtask of (2), create a plot visualizing the relation between the variables. Comment on whether you see non-linear or any other interesting relations. (9 pt)\n",
    "Create an exciting plot of your own using the dataset that you think reveals something very interesting.   Explain what it is, and anything else you learned. (15 pt)\n",
    "Generate additional features like those from (2) from the given data set. What additional features can you create? (10 pt)\n",
    "Set up a simple linear regression model to predict taxi fare. Use your generated features from the previous task if applicable. How well/badly does it work? What are the coefficients for your features? Which variable(s) are the most important one? (12 pt)\n",
    "Consider external datasets that may be helpful to expand your feature set. Give bullet points explaining all the datasets you could identify that would help improve your predictions. If possible, try finding such datasets online to incorporate into your training. List any that you were able to use in your analysis. (10 pt)\n",
    "Now, try to build a better prediction model that works harder to solve the task. Perhaps it will still use linear regression but with new features. Perhaps it will preprocess features better (e.g. normalize or scale the input vector, convert non-numerical value into float, or do a special treatment of missing values). Perhaps it will use a different machine learning approach (e.g. nearest neighbors, random forests, etc). Briefly explain what you did differently here versus the simple model. Which of your models minimizes the squared error? (10 pt)\n",
    "Predict all the taxi fares for instances at file “sample_submission.csv”. Write the result into a csv file and submit it to the website. You should do this for every model you develop. Report the rank, score, number of entries, for your highest rank. Include a snapshot of your best score on the leaderboard as confirmation. (15 pt)\n",
    "\n",
    "\tBe honest. This is your first modelling experience, and I am hoping to see you learned something, not just where you are ranked on the leaderboard.\n",
    " \n",
    " \n",
    "\n",
    "\n",
    "\n",
    "Rules of the Game\n",
    " \n",
    "This assignment must be done individually by each student. It is not a group activity.\n",
    "If you do not have much experience with Python and the associated tools, this homework will be a substantial amount of work. Get started on it as early as possible!\n",
    "All of your written responses will be submitted through a form during submission. It may make sense to keep your answers inside your notebook and copy it over into the form when you are ready to submit.\n",
    "We will discuss topics like linear regression in detail only after the HW is due. Muddle along for now, and we will understand the issues better when we discuss them in the course.\n",
    "To ensure that you are who you are when submitting your models, have your Kaggle profile show your face as well as a Stony Brook affiliation.\n",
    "There are some public discussions and demos relevant to this problem on Kaggle. It is  okay for students to read these discussions, but they must write the code and analyze the data by themselves.\n",
    "Our class Piazza account is an excellent place to discuss the assignment. Check it out at piazza.com/stonybrook/fall2018/cse519. \n",
    "\n",
    "Submission\n",
    "\n",
    "Submit everything through Google classroom. As mentioned above, you will need to upload:\n",
    "The Jupyter notebook all your work is in (.ipynb file)\n",
    "Python file (export the notebook as .py)\n",
    "PDF (export the notebook as a pdf file)\n",
    "\n",
    "For everything else, you will fill out a separate Google Form. These will include the responses to all of the task questions above. You will also need to link your Kaggle profile. It is recommended that you have a look at the Google response form for the questions asked and write all your responses in a local document. Once you feel comfortable with your responses, you may record your final responses in the form and then submit.\n"
   ]
  },
  {
   "cell_type": "markdown",
   "metadata": {},
   "source": [
    "# Randomly READ ONLY 1% data and analysis it "
   ]
  },
  {
   "cell_type": "code",
   "execution_count": 29,
   "metadata": {},
   "outputs": [],
   "source": [
    "p = 0.01  # 1% of the lines\n",
    "df = pd.read_csv(\"D:/CSE519/all/train.csv\", header=0, skiprows=lambda i: i>0 and random.random() > p)"
   ]
  },
  {
   "cell_type": "code",
   "execution_count": 3,
   "metadata": {},
   "outputs": [
    {
     "data": {
      "text/plain": [
       "(555330, 8)"
      ]
     },
     "execution_count": 3,
     "metadata": {},
     "output_type": "execute_result"
    }
   ],
   "source": [
    "df.shape"
   ]
  },
  {
   "cell_type": "code",
   "execution_count": 4,
   "metadata": {},
   "outputs": [
    {
     "data": {
      "text/plain": [
       "(555328, 8)"
      ]
     },
     "execution_count": 4,
     "metadata": {},
     "output_type": "execute_result"
    }
   ],
   "source": [
    "df = df.dropna()\n",
    "df.shape"
   ]
  },
  {
   "cell_type": "code",
   "execution_count": 5,
   "metadata": {},
   "outputs": [],
   "source": [
    "df['pickup_easternTime'] = pd.to_datetime(df['pickup_datetime']).dt.tz_localize('utc').dt.tz_convert('America/New_York')"
   ]
  },
  {
   "cell_type": "code",
   "execution_count": 6,
   "metadata": {},
   "outputs": [
    {
     "data": {
      "text/plain": [
       "(555328, 8)"
      ]
     },
     "execution_count": 6,
     "metadata": {},
     "output_type": "execute_result"
    }
   ],
   "source": [
    "df.drop(['pickup_datetime'],axis=1,inplace=True)\n",
    "df.shape"
   ]
  },
  {
   "cell_type": "code",
   "execution_count": 7,
   "metadata": {},
   "outputs": [
    {
     "data": {
      "text/html": [
       "<div>\n",
       "<style>\n",
       "    .dataframe thead tr:only-child th {\n",
       "        text-align: right;\n",
       "    }\n",
       "\n",
       "    .dataframe thead th {\n",
       "        text-align: left;\n",
       "    }\n",
       "\n",
       "    .dataframe tbody tr th {\n",
       "        vertical-align: top;\n",
       "    }\n",
       "</style>\n",
       "<table border=\"1\" class=\"dataframe\">\n",
       "  <thead>\n",
       "    <tr style=\"text-align: right;\">\n",
       "      <th></th>\n",
       "      <th>key</th>\n",
       "      <th>fare_amount</th>\n",
       "      <th>pickup_longitude</th>\n",
       "      <th>pickup_latitude</th>\n",
       "      <th>dropoff_longitude</th>\n",
       "      <th>dropoff_latitude</th>\n",
       "      <th>passenger_count</th>\n",
       "      <th>pickup_easternTime</th>\n",
       "    </tr>\n",
       "  </thead>\n",
       "  <tbody>\n",
       "    <tr>\n",
       "      <th>0</th>\n",
       "      <td>2010-05-31 18:06:00.00000097</td>\n",
       "      <td>34.67</td>\n",
       "      <td>-73.985427</td>\n",
       "      <td>40.758853</td>\n",
       "      <td>-73.872907</td>\n",
       "      <td>40.774497</td>\n",
       "      <td>1</td>\n",
       "      <td>2010-05-31 14:06:00-04:00</td>\n",
       "    </tr>\n",
       "    <tr>\n",
       "      <th>1</th>\n",
       "      <td>2015-04-12 10:19:05.0000001</td>\n",
       "      <td>11.50</td>\n",
       "      <td>-73.979279</td>\n",
       "      <td>40.723438</td>\n",
       "      <td>-74.004608</td>\n",
       "      <td>40.746948</td>\n",
       "      <td>6</td>\n",
       "      <td>2015-04-12 06:19:05-04:00</td>\n",
       "    </tr>\n",
       "    <tr>\n",
       "      <th>2</th>\n",
       "      <td>2009-01-26 00:44:42.0000001</td>\n",
       "      <td>10.60</td>\n",
       "      <td>-73.994279</td>\n",
       "      <td>40.690409</td>\n",
       "      <td>-74.016739</td>\n",
       "      <td>40.709063</td>\n",
       "      <td>1</td>\n",
       "      <td>2009-01-25 19:44:42-05:00</td>\n",
       "    </tr>\n",
       "    <tr>\n",
       "      <th>3</th>\n",
       "      <td>2009-07-30 14:44:00.000000235</td>\n",
       "      <td>5.30</td>\n",
       "      <td>-73.978002</td>\n",
       "      <td>40.778607</td>\n",
       "      <td>-73.970662</td>\n",
       "      <td>40.788625</td>\n",
       "      <td>1</td>\n",
       "      <td>2009-07-30 10:44:00-04:00</td>\n",
       "    </tr>\n",
       "    <tr>\n",
       "      <th>4</th>\n",
       "      <td>2015-03-11 14:48:58.0000006</td>\n",
       "      <td>33.83</td>\n",
       "      <td>-73.973305</td>\n",
       "      <td>40.756386</td>\n",
       "      <td>-73.872444</td>\n",
       "      <td>40.774307</td>\n",
       "      <td>1</td>\n",
       "      <td>2015-03-11 10:48:58-04:00</td>\n",
       "    </tr>\n",
       "  </tbody>\n",
       "</table>\n",
       "</div>"
      ],
      "text/plain": [
       "                             key  fare_amount  pickup_longitude  \\\n",
       "0   2010-05-31 18:06:00.00000097        34.67        -73.985427   \n",
       "1    2015-04-12 10:19:05.0000001        11.50        -73.979279   \n",
       "2    2009-01-26 00:44:42.0000001        10.60        -73.994279   \n",
       "3  2009-07-30 14:44:00.000000235         5.30        -73.978002   \n",
       "4    2015-03-11 14:48:58.0000006        33.83        -73.973305   \n",
       "\n",
       "   pickup_latitude  dropoff_longitude  dropoff_latitude  passenger_count  \\\n",
       "0        40.758853         -73.872907         40.774497                1   \n",
       "1        40.723438         -74.004608         40.746948                6   \n",
       "2        40.690409         -74.016739         40.709063                1   \n",
       "3        40.778607         -73.970662         40.788625                1   \n",
       "4        40.756386         -73.872444         40.774307                1   \n",
       "\n",
       "         pickup_easternTime  \n",
       "0 2010-05-31 14:06:00-04:00  \n",
       "1 2015-04-12 06:19:05-04:00  \n",
       "2 2009-01-25 19:44:42-05:00  \n",
       "3 2009-07-30 10:44:00-04:00  \n",
       "4 2015-03-11 10:48:58-04:00  "
      ]
     },
     "execution_count": 7,
     "metadata": {},
     "output_type": "execute_result"
    }
   ],
   "source": [
    "df.head()"
   ]
  },
  {
   "cell_type": "code",
   "execution_count": 7,
   "metadata": {},
   "outputs": [],
   "source": [
    "dataTime=pd.DatetimeIndex(df['pickup_easternTime'])\n",
    "df['year'] = dataTime.year\n",
    "df['dayofweek']=dataTime.dayofweek;\n",
    "df['month'] = dataTime.month\n",
    "df['hour'] = dataTime.hour\n",
    "df['minute'] = dataTime.minute"
   ]
  },
  {
   "cell_type": "code",
   "execution_count": 8,
   "metadata": {},
   "outputs": [
    {
     "data": {
      "text/html": [
       "<div>\n",
       "<style>\n",
       "    .dataframe thead tr:only-child th {\n",
       "        text-align: right;\n",
       "    }\n",
       "\n",
       "    .dataframe thead th {\n",
       "        text-align: left;\n",
       "    }\n",
       "\n",
       "    .dataframe tbody tr th {\n",
       "        vertical-align: top;\n",
       "    }\n",
       "</style>\n",
       "<table border=\"1\" class=\"dataframe\">\n",
       "  <thead>\n",
       "    <tr style=\"text-align: right;\">\n",
       "      <th></th>\n",
       "      <th>key</th>\n",
       "      <th>fare_amount</th>\n",
       "      <th>pickup_longitude</th>\n",
       "      <th>pickup_latitude</th>\n",
       "      <th>dropoff_longitude</th>\n",
       "      <th>dropoff_latitude</th>\n",
       "      <th>passenger_count</th>\n",
       "      <th>pickup_easternTime</th>\n",
       "      <th>year</th>\n",
       "      <th>dayofweek</th>\n",
       "      <th>month</th>\n",
       "      <th>hour</th>\n",
       "      <th>minute</th>\n",
       "    </tr>\n",
       "  </thead>\n",
       "  <tbody>\n",
       "    <tr>\n",
       "      <th>0</th>\n",
       "      <td>2010-03-22 10:01:00.00000076</td>\n",
       "      <td>11.3</td>\n",
       "      <td>-74.007670</td>\n",
       "      <td>40.732177</td>\n",
       "      <td>-73.974663</td>\n",
       "      <td>40.758932</td>\n",
       "      <td>1</td>\n",
       "      <td>2010-03-22 06:01:00-04:00</td>\n",
       "      <td>2010</td>\n",
       "      <td>0</td>\n",
       "      <td>3</td>\n",
       "      <td>6</td>\n",
       "      <td>1</td>\n",
       "    </tr>\n",
       "    <tr>\n",
       "      <th>1</th>\n",
       "      <td>2011-02-18 13:19:49.0000003</td>\n",
       "      <td>9.3</td>\n",
       "      <td>-73.973211</td>\n",
       "      <td>40.760752</td>\n",
       "      <td>-73.974265</td>\n",
       "      <td>40.788281</td>\n",
       "      <td>1</td>\n",
       "      <td>2011-02-18 08:19:49-05:00</td>\n",
       "      <td>2011</td>\n",
       "      <td>4</td>\n",
       "      <td>2</td>\n",
       "      <td>8</td>\n",
       "      <td>19</td>\n",
       "    </tr>\n",
       "    <tr>\n",
       "      <th>2</th>\n",
       "      <td>2015-05-10 22:41:10.0000001</td>\n",
       "      <td>43.5</td>\n",
       "      <td>-73.980209</td>\n",
       "      <td>40.783733</td>\n",
       "      <td>-74.011345</td>\n",
       "      <td>40.644157</td>\n",
       "      <td>1</td>\n",
       "      <td>2015-05-10 18:41:10-04:00</td>\n",
       "      <td>2015</td>\n",
       "      <td>6</td>\n",
       "      <td>5</td>\n",
       "      <td>18</td>\n",
       "      <td>41</td>\n",
       "    </tr>\n",
       "    <tr>\n",
       "      <th>3</th>\n",
       "      <td>2013-08-24 17:07:00.00000090</td>\n",
       "      <td>9.0</td>\n",
       "      <td>-73.993372</td>\n",
       "      <td>40.736177</td>\n",
       "      <td>-73.978277</td>\n",
       "      <td>40.757860</td>\n",
       "      <td>2</td>\n",
       "      <td>2013-08-24 13:07:00-04:00</td>\n",
       "      <td>2013</td>\n",
       "      <td>5</td>\n",
       "      <td>8</td>\n",
       "      <td>13</td>\n",
       "      <td>7</td>\n",
       "    </tr>\n",
       "    <tr>\n",
       "      <th>4</th>\n",
       "      <td>2014-02-22 18:41:34.0000001</td>\n",
       "      <td>4.0</td>\n",
       "      <td>-73.990366</td>\n",
       "      <td>40.757343</td>\n",
       "      <td>-73.985373</td>\n",
       "      <td>40.760604</td>\n",
       "      <td>1</td>\n",
       "      <td>2014-02-22 13:41:34-05:00</td>\n",
       "      <td>2014</td>\n",
       "      <td>5</td>\n",
       "      <td>2</td>\n",
       "      <td>13</td>\n",
       "      <td>41</td>\n",
       "    </tr>\n",
       "  </tbody>\n",
       "</table>\n",
       "</div>"
      ],
      "text/plain": [
       "                            key  fare_amount  pickup_longitude  \\\n",
       "0  2010-03-22 10:01:00.00000076         11.3        -74.007670   \n",
       "1   2011-02-18 13:19:49.0000003          9.3        -73.973211   \n",
       "2   2015-05-10 22:41:10.0000001         43.5        -73.980209   \n",
       "3  2013-08-24 17:07:00.00000090          9.0        -73.993372   \n",
       "4   2014-02-22 18:41:34.0000001          4.0        -73.990366   \n",
       "\n",
       "   pickup_latitude  dropoff_longitude  dropoff_latitude  passenger_count  \\\n",
       "0        40.732177         -73.974663         40.758932                1   \n",
       "1        40.760752         -73.974265         40.788281                1   \n",
       "2        40.783733         -74.011345         40.644157                1   \n",
       "3        40.736177         -73.978277         40.757860                2   \n",
       "4        40.757343         -73.985373         40.760604                1   \n",
       "\n",
       "         pickup_easternTime  year  dayofweek  month  hour  minute  \n",
       "0 2010-03-22 06:01:00-04:00  2010          0      3     6       1  \n",
       "1 2011-02-18 08:19:49-05:00  2011          4      2     8      19  \n",
       "2 2015-05-10 18:41:10-04:00  2015          6      5    18      41  \n",
       "3 2013-08-24 13:07:00-04:00  2013          5      8    13       7  \n",
       "4 2014-02-22 13:41:34-05:00  2014          5      2    13      41  "
      ]
     },
     "execution_count": 8,
     "metadata": {},
     "output_type": "execute_result"
    }
   ],
   "source": [
    "df.head()"
   ]
  },
  {
   "cell_type": "markdown",
   "metadata": {},
   "source": [
    "# filter the data based on fare_amount, passengers etc"
   ]
  },
  {
   "cell_type": "code",
   "execution_count": 9,
   "metadata": {},
   "outputs": [],
   "source": [
    "df_fare_filter = df.loc[ (df['fare_amount']>2.5) & (df['passenger_count']>0) & (df['passenger_count']<=6)]"
   ]
  },
  {
   "cell_type": "code",
   "execution_count": 12,
   "metadata": {},
   "outputs": [
    {
     "data": {
      "text/plain": [
       "(551163, 13)"
      ]
     },
     "execution_count": 12,
     "metadata": {},
     "output_type": "execute_result"
    }
   ],
   "source": [
    "df_fare_filter.shape"
   ]
  },
  {
   "cell_type": "markdown",
   "metadata": {},
   "source": [
    "# filter out rows with INvalid logitude Latitude \n",
    "Raleigh,NC (SOUTH point) 35.7796° N, 78.6382° W\n",
    "Boston, MA (NORTH point) 42.3601° N, 71.0589° W\n",
    "Philadelphia, PA(WEST point) 39.9526° N, 75.1652° W\n",
    "Montauk, NY (EAST point) 41.0359° N, 71.9545° W"
   ]
  },
  {
   "cell_type": "code",
   "execution_count": 13,
   "metadata": {},
   "outputs": [],
   "source": [
    "south= 35.7796\n",
    "north= 42.3601\n",
    "west= -75.1652\n",
    "east= -71.9545\n",
    "\n",
    "df_location_MiddleFilter=df_fare_filter.loc[   (df_fare_filter['pickup_longitude']>west) \\\n",
    "                                        & (df_fare_filter['pickup_longitude']<east)\\\n",
    "                                        & (df_fare_filter['pickup_latitude']>south)\\\n",
    "                                        & (df_fare_filter['pickup_latitude']<north)\\\n",
    "                                        & (df_fare_filter['dropoff_longitude']>west)\\\n",
    "                                        & (df_fare_filter['dropoff_longitude']<east)\\\n",
    "                                        & (df_fare_filter['dropoff_latitude']>south)\\\n",
    "                                        & (df_fare_filter['dropoff_latitude']<north)]\n",
    "\n",
    "df_fare_filter=df_location_MiddleFilter\n"
   ]
  },
  {
   "cell_type": "code",
   "execution_count": 14,
   "metadata": {},
   "outputs": [
    {
     "data": {
      "text/plain": [
       "(539875, 13)"
      ]
     },
     "execution_count": 14,
     "metadata": {},
     "output_type": "execute_result"
    }
   ],
   "source": [
    "df_fare_filter.shape"
   ]
  },
  {
   "cell_type": "markdown",
   "metadata": {},
   "source": [
    "# SET Longitude and Latitude boundaries of NYC, filter out the rows with both pickup and dropoff location outside NYC\n",
    "South Amboy, NJ (SOUTH point)  40.4779°, -74.2907° \\\n",
    "Paterson NJ (NORTH point) -40.9168° , -74.1718° \\\n",
    "Perth Amboy, NJ (WEST point)  40.5068°, -74.2654° \\\n",
    "Garden City NY (EAST point) 40.7268° , -73.6343° "
   ]
  },
  {
   "cell_type": "code",
   "execution_count": 15,
   "metadata": {},
   "outputs": [
    {
     "name": "stdout",
     "output_type": "stream",
     "text": [
      "Select the rows with EITHER pickup locaiton Or dropoff Location within NYC\n"
     ]
    }
   ],
   "source": [
    "south= 40.4779\n",
    "north= 40.9168\n",
    "west= -74.2654\n",
    "east= -73.6343\n",
    "\n",
    "print(\"Select the rows with EITHER pickup locaiton Or dropoff Location within NYC\")\n",
    "  \n",
    "df_location_filter=df_fare_filter.loc[  ( (df_fare_filter['pickup_longitude']>west) \\\n",
    "                                        & (df_fare_filter['pickup_longitude']<east)\\\n",
    "                                        & (df_fare_filter['pickup_latitude']>south)\\\n",
    "                                        & (df_fare_filter['pickup_latitude']<north))\\\n",
    "                                        | ((df_fare_filter['dropoff_longitude']>west)\\\n",
    "                                        & (df_fare_filter['dropoff_longitude']<east)\\\n",
    "                                        & (df_fare_filter['dropoff_latitude']>south)\\\n",
    "                                        & (df_fare_filter['dropoff_latitude']<north))]\n",
    "                                     \n",
    "    "
   ]
  },
  {
   "cell_type": "code",
   "execution_count": 43,
   "metadata": {},
   "outputs": [
    {
     "data": {
      "text/plain": [
       "(539535, 16)"
      ]
     },
     "execution_count": 43,
     "metadata": {},
     "output_type": "execute_result"
    }
   ],
   "source": [
    "df_location_filter.shape"
   ]
  },
  {
   "cell_type": "markdown",
   "metadata": {},
   "source": [
    "# Calculate the distance travelled in each Trip add as new feature in dataframe"
   ]
  },
  {
   "cell_type": "code",
   "execution_count": 17,
   "metadata": {},
   "outputs": [],
   "source": [
    "pickup_latlogPair= list(zip(df_location_filter['pickup_latitude'], df_location_filter['pickup_longitude']))\n",
    "if 'pickup_latlogPair' in df_location_filter.columns:\n",
    "    df_location_filter.drop(['pickup_latlogPair'],axis=1,inplace=True)\n",
    "df_location_filter.insert(13,'pickup_latlogPair',pickup_latlogPair)\n",
    "\n",
    "dropoff_latlogPair= list(zip(df_location_filter['dropoff_latitude'], df_location_filter['dropoff_longitude']))\n",
    "if 'dropoff_latlogPair' in df_location_filter.columns:\n",
    "    df_location_filter.drop(['dropoff_latlogPair'],axis=1,inplace=True)\n",
    "df_location_filter.insert(13,'dropoff_latlogPair',dropoff_latlogPair)\n",
    "\n"
   ]
  },
  {
   "cell_type": "code",
   "execution_count": 18,
   "metadata": {},
   "outputs": [
    {
     "data": {
      "text/html": [
       "<div>\n",
       "<style>\n",
       "    .dataframe thead tr:only-child th {\n",
       "        text-align: right;\n",
       "    }\n",
       "\n",
       "    .dataframe thead th {\n",
       "        text-align: left;\n",
       "    }\n",
       "\n",
       "    .dataframe tbody tr th {\n",
       "        vertical-align: top;\n",
       "    }\n",
       "</style>\n",
       "<table border=\"1\" class=\"dataframe\">\n",
       "  <thead>\n",
       "    <tr style=\"text-align: right;\">\n",
       "      <th></th>\n",
       "      <th>key</th>\n",
       "      <th>fare_amount</th>\n",
       "      <th>pickup_longitude</th>\n",
       "      <th>pickup_latitude</th>\n",
       "      <th>dropoff_longitude</th>\n",
       "      <th>dropoff_latitude</th>\n",
       "      <th>passenger_count</th>\n",
       "      <th>pickup_easternTime</th>\n",
       "      <th>year</th>\n",
       "      <th>dayofweek</th>\n",
       "      <th>month</th>\n",
       "      <th>hour</th>\n",
       "      <th>minute</th>\n",
       "      <th>dropoff_latlogPair</th>\n",
       "      <th>pickup_latlogPair</th>\n",
       "    </tr>\n",
       "  </thead>\n",
       "  <tbody>\n",
       "    <tr>\n",
       "      <th>0</th>\n",
       "      <td>2010-03-22 10:01:00.00000076</td>\n",
       "      <td>11.3</td>\n",
       "      <td>-74.007670</td>\n",
       "      <td>40.732177</td>\n",
       "      <td>-73.974663</td>\n",
       "      <td>40.758932</td>\n",
       "      <td>1</td>\n",
       "      <td>2010-03-22 06:01:00-04:00</td>\n",
       "      <td>2010</td>\n",
       "      <td>0</td>\n",
       "      <td>3</td>\n",
       "      <td>6</td>\n",
       "      <td>1</td>\n",
       "      <td>(40.758932, -73.974663)</td>\n",
       "      <td>(40.732177, -74.00766999999999)</td>\n",
       "    </tr>\n",
       "    <tr>\n",
       "      <th>1</th>\n",
       "      <td>2011-02-18 13:19:49.0000003</td>\n",
       "      <td>9.3</td>\n",
       "      <td>-73.973211</td>\n",
       "      <td>40.760752</td>\n",
       "      <td>-73.974265</td>\n",
       "      <td>40.788281</td>\n",
       "      <td>1</td>\n",
       "      <td>2011-02-18 08:19:49-05:00</td>\n",
       "      <td>2011</td>\n",
       "      <td>4</td>\n",
       "      <td>2</td>\n",
       "      <td>8</td>\n",
       "      <td>19</td>\n",
       "      <td>(40.788281, -73.974265)</td>\n",
       "      <td>(40.760752000000004, -73.97321099999999)</td>\n",
       "    </tr>\n",
       "    <tr>\n",
       "      <th>2</th>\n",
       "      <td>2015-05-10 22:41:10.0000001</td>\n",
       "      <td>43.5</td>\n",
       "      <td>-73.980209</td>\n",
       "      <td>40.783733</td>\n",
       "      <td>-74.011345</td>\n",
       "      <td>40.644157</td>\n",
       "      <td>1</td>\n",
       "      <td>2015-05-10 18:41:10-04:00</td>\n",
       "      <td>2015</td>\n",
       "      <td>6</td>\n",
       "      <td>5</td>\n",
       "      <td>18</td>\n",
       "      <td>41</td>\n",
       "      <td>(40.64415740966797, -74.01134490966798)</td>\n",
       "      <td>(40.78373336791992, -73.98020935058595)</td>\n",
       "    </tr>\n",
       "    <tr>\n",
       "      <th>3</th>\n",
       "      <td>2013-08-24 17:07:00.00000090</td>\n",
       "      <td>9.0</td>\n",
       "      <td>-73.993372</td>\n",
       "      <td>40.736177</td>\n",
       "      <td>-73.978277</td>\n",
       "      <td>40.757860</td>\n",
       "      <td>2</td>\n",
       "      <td>2013-08-24 13:07:00-04:00</td>\n",
       "      <td>2013</td>\n",
       "      <td>5</td>\n",
       "      <td>8</td>\n",
       "      <td>13</td>\n",
       "      <td>7</td>\n",
       "      <td>(40.75786, -73.978277)</td>\n",
       "      <td>(40.736177000000005, -73.993372)</td>\n",
       "    </tr>\n",
       "    <tr>\n",
       "      <th>4</th>\n",
       "      <td>2014-02-22 18:41:34.0000001</td>\n",
       "      <td>4.0</td>\n",
       "      <td>-73.990366</td>\n",
       "      <td>40.757343</td>\n",
       "      <td>-73.985373</td>\n",
       "      <td>40.760604</td>\n",
       "      <td>1</td>\n",
       "      <td>2014-02-22 13:41:34-05:00</td>\n",
       "      <td>2014</td>\n",
       "      <td>5</td>\n",
       "      <td>2</td>\n",
       "      <td>13</td>\n",
       "      <td>41</td>\n",
       "      <td>(40.760604, -73.985373)</td>\n",
       "      <td>(40.757343, -73.99036600000001)</td>\n",
       "    </tr>\n",
       "  </tbody>\n",
       "</table>\n",
       "</div>"
      ],
      "text/plain": [
       "                            key  fare_amount  pickup_longitude  \\\n",
       "0  2010-03-22 10:01:00.00000076         11.3        -74.007670   \n",
       "1   2011-02-18 13:19:49.0000003          9.3        -73.973211   \n",
       "2   2015-05-10 22:41:10.0000001         43.5        -73.980209   \n",
       "3  2013-08-24 17:07:00.00000090          9.0        -73.993372   \n",
       "4   2014-02-22 18:41:34.0000001          4.0        -73.990366   \n",
       "\n",
       "   pickup_latitude  dropoff_longitude  dropoff_latitude  passenger_count  \\\n",
       "0        40.732177         -73.974663         40.758932                1   \n",
       "1        40.760752         -73.974265         40.788281                1   \n",
       "2        40.783733         -74.011345         40.644157                1   \n",
       "3        40.736177         -73.978277         40.757860                2   \n",
       "4        40.757343         -73.985373         40.760604                1   \n",
       "\n",
       "         pickup_easternTime  year  dayofweek  month  hour  minute  \\\n",
       "0 2010-03-22 06:01:00-04:00  2010          0      3     6       1   \n",
       "1 2011-02-18 08:19:49-05:00  2011          4      2     8      19   \n",
       "2 2015-05-10 18:41:10-04:00  2015          6      5    18      41   \n",
       "3 2013-08-24 13:07:00-04:00  2013          5      8    13       7   \n",
       "4 2014-02-22 13:41:34-05:00  2014          5      2    13      41   \n",
       "\n",
       "                        dropoff_latlogPair  \\\n",
       "0                  (40.758932, -73.974663)   \n",
       "1                  (40.788281, -73.974265)   \n",
       "2  (40.64415740966797, -74.01134490966798)   \n",
       "3                   (40.75786, -73.978277)   \n",
       "4                  (40.760604, -73.985373)   \n",
       "\n",
       "                          pickup_latlogPair  \n",
       "0           (40.732177, -74.00766999999999)  \n",
       "1  (40.760752000000004, -73.97321099999999)  \n",
       "2   (40.78373336791992, -73.98020935058595)  \n",
       "3          (40.736177000000005, -73.993372)  \n",
       "4           (40.757343, -73.99036600000001)  "
      ]
     },
     "execution_count": 18,
     "metadata": {},
     "output_type": "execute_result"
    }
   ],
   "source": [
    "df_location_filter.head()"
   ]
  },
  {
   "cell_type": "code",
   "execution_count": 34,
   "metadata": {},
   "outputs": [],
   "source": [
    "def travelDistance(x):\n",
    "    #print(type(x))\n",
    "    return geopy.distance.vincenty(x['pickup_latlogPair'], x['dropoff_latlogPair']).miles\n",
    "\n",
    "def distanceToJFK(x):\n",
    "    jfk=(40.6413, -73.7781)\n",
    "    coords=x\n",
    "    return geopy.distance.vincenty(jfk, coords).miles\n",
    "    \n",
    "    \n",
    "def distanceToManhattan(x):\n",
    "    Manhattan=(40.7831, -73.9712)\n",
    "    coords=x\n",
    "    return geopy.distance.vincenty(Manhattan, coords).miles  \n"
   ]
  },
  {
   "cell_type": "code",
   "execution_count": 35,
   "metadata": {},
   "outputs": [
    {
     "name": "stdout",
     "output_type": "stream",
     "text": [
      "<class 'pandas.core.frame.DataFrame'>\n"
     ]
    }
   ],
   "source": [
    "print(type(df_location_filter))"
   ]
  },
  {
   "cell_type": "code",
   "execution_count": 36,
   "metadata": {},
   "outputs": [
    {
     "name": "stdout",
     "output_type": "stream",
     "text": [
      "<class 'tuple'>\n"
     ]
    }
   ],
   "source": [
    "print(type(df_location_filter['pickup_latlogPair'][0]))"
   ]
  },
  {
   "cell_type": "code",
   "execution_count": 37,
   "metadata": {},
   "outputs": [],
   "source": [
    "#travelDistanceArray=df_location_filter.apply(travelDistance, axis=1)\n",
    "#df_location_filter.insert(13,'travelDistance', travelDistance)\n",
    "\n",
    "travelDistanceArray=df_location_filter.apply(travelDistance, axis=1)"
   ]
  },
  {
   "cell_type": "code",
   "execution_count": 39,
   "metadata": {},
   "outputs": [
    {
     "name": "stderr",
     "output_type": "stream",
     "text": [
      "C:\\Anaconda3\\lib\\site-packages\\ipykernel\\__main__.py:2: SettingWithCopyWarning: \n",
      "A value is trying to be set on a copy of a slice from a DataFrame\n",
      "\n",
      "See the caveats in the documentation: http://pandas.pydata.org/pandas-docs/stable/indexing.html#indexing-view-versus-copy\n",
      "  from ipykernel import kernelapp as app\n"
     ]
    },
    {
     "data": {
      "text/html": [
       "<div>\n",
       "<style>\n",
       "    .dataframe thead tr:only-child th {\n",
       "        text-align: right;\n",
       "    }\n",
       "\n",
       "    .dataframe thead th {\n",
       "        text-align: left;\n",
       "    }\n",
       "\n",
       "    .dataframe tbody tr th {\n",
       "        vertical-align: top;\n",
       "    }\n",
       "</style>\n",
       "<table border=\"1\" class=\"dataframe\">\n",
       "  <thead>\n",
       "    <tr style=\"text-align: right;\">\n",
       "      <th></th>\n",
       "      <th>key</th>\n",
       "      <th>fare_amount</th>\n",
       "      <th>pickup_longitude</th>\n",
       "      <th>pickup_latitude</th>\n",
       "      <th>dropoff_longitude</th>\n",
       "      <th>dropoff_latitude</th>\n",
       "      <th>passenger_count</th>\n",
       "      <th>pickup_easternTime</th>\n",
       "      <th>year</th>\n",
       "      <th>dayofweek</th>\n",
       "      <th>month</th>\n",
       "      <th>hour</th>\n",
       "      <th>minute</th>\n",
       "      <th>travelDistance</th>\n",
       "      <th>dropoff_latlogPair</th>\n",
       "      <th>pickup_latlogPair</th>\n",
       "    </tr>\n",
       "  </thead>\n",
       "  <tbody>\n",
       "    <tr>\n",
       "      <th>0</th>\n",
       "      <td>2010-03-22 10:01:00.00000076</td>\n",
       "      <td>11.3</td>\n",
       "      <td>-74.007670</td>\n",
       "      <td>40.732177</td>\n",
       "      <td>-73.974663</td>\n",
       "      <td>40.758932</td>\n",
       "      <td>1</td>\n",
       "      <td>2010-03-22 06:01:00-04:00</td>\n",
       "      <td>2010</td>\n",
       "      <td>0</td>\n",
       "      <td>3</td>\n",
       "      <td>6</td>\n",
       "      <td>1</td>\n",
       "      <td>2.531568</td>\n",
       "      <td>(40.758932, -73.974663)</td>\n",
       "      <td>(40.732177, -74.00766999999999)</td>\n",
       "    </tr>\n",
       "    <tr>\n",
       "      <th>1</th>\n",
       "      <td>2011-02-18 13:19:49.0000003</td>\n",
       "      <td>9.3</td>\n",
       "      <td>-73.973211</td>\n",
       "      <td>40.760752</td>\n",
       "      <td>-73.974265</td>\n",
       "      <td>40.788281</td>\n",
       "      <td>1</td>\n",
       "      <td>2011-02-18 08:19:49-05:00</td>\n",
       "      <td>2011</td>\n",
       "      <td>4</td>\n",
       "      <td>2</td>\n",
       "      <td>8</td>\n",
       "      <td>19</td>\n",
       "      <td>1.900388</td>\n",
       "      <td>(40.788281, -73.974265)</td>\n",
       "      <td>(40.760752000000004, -73.97321099999999)</td>\n",
       "    </tr>\n",
       "    <tr>\n",
       "      <th>2</th>\n",
       "      <td>2015-05-10 22:41:10.0000001</td>\n",
       "      <td>43.5</td>\n",
       "      <td>-73.980209</td>\n",
       "      <td>40.783733</td>\n",
       "      <td>-74.011345</td>\n",
       "      <td>40.644157</td>\n",
       "      <td>1</td>\n",
       "      <td>2015-05-10 18:41:10-04:00</td>\n",
       "      <td>2015</td>\n",
       "      <td>6</td>\n",
       "      <td>5</td>\n",
       "      <td>18</td>\n",
       "      <td>41</td>\n",
       "      <td>9.768813</td>\n",
       "      <td>(40.64415740966797, -74.01134490966798)</td>\n",
       "      <td>(40.78373336791992, -73.98020935058595)</td>\n",
       "    </tr>\n",
       "    <tr>\n",
       "      <th>3</th>\n",
       "      <td>2013-08-24 17:07:00.00000090</td>\n",
       "      <td>9.0</td>\n",
       "      <td>-73.993372</td>\n",
       "      <td>40.736177</td>\n",
       "      <td>-73.978277</td>\n",
       "      <td>40.757860</td>\n",
       "      <td>2</td>\n",
       "      <td>2013-08-24 13:07:00-04:00</td>\n",
       "      <td>2013</td>\n",
       "      <td>5</td>\n",
       "      <td>8</td>\n",
       "      <td>13</td>\n",
       "      <td>7</td>\n",
       "      <td>1.692954</td>\n",
       "      <td>(40.75786, -73.978277)</td>\n",
       "      <td>(40.736177000000005, -73.993372)</td>\n",
       "    </tr>\n",
       "    <tr>\n",
       "      <th>4</th>\n",
       "      <td>2014-02-22 18:41:34.0000001</td>\n",
       "      <td>4.0</td>\n",
       "      <td>-73.990366</td>\n",
       "      <td>40.757343</td>\n",
       "      <td>-73.985373</td>\n",
       "      <td>40.760604</td>\n",
       "      <td>1</td>\n",
       "      <td>2014-02-22 13:41:34-05:00</td>\n",
       "      <td>2014</td>\n",
       "      <td>5</td>\n",
       "      <td>2</td>\n",
       "      <td>13</td>\n",
       "      <td>41</td>\n",
       "      <td>0.345349</td>\n",
       "      <td>(40.760604, -73.985373)</td>\n",
       "      <td>(40.757343, -73.99036600000001)</td>\n",
       "    </tr>\n",
       "  </tbody>\n",
       "</table>\n",
       "</div>"
      ],
      "text/plain": [
       "                            key  fare_amount  pickup_longitude  \\\n",
       "0  2010-03-22 10:01:00.00000076         11.3        -74.007670   \n",
       "1   2011-02-18 13:19:49.0000003          9.3        -73.973211   \n",
       "2   2015-05-10 22:41:10.0000001         43.5        -73.980209   \n",
       "3  2013-08-24 17:07:00.00000090          9.0        -73.993372   \n",
       "4   2014-02-22 18:41:34.0000001          4.0        -73.990366   \n",
       "\n",
       "   pickup_latitude  dropoff_longitude  dropoff_latitude  passenger_count  \\\n",
       "0        40.732177         -73.974663         40.758932                1   \n",
       "1        40.760752         -73.974265         40.788281                1   \n",
       "2        40.783733         -74.011345         40.644157                1   \n",
       "3        40.736177         -73.978277         40.757860                2   \n",
       "4        40.757343         -73.985373         40.760604                1   \n",
       "\n",
       "         pickup_easternTime  year  dayofweek  month  hour  minute  \\\n",
       "0 2010-03-22 06:01:00-04:00  2010          0      3     6       1   \n",
       "1 2011-02-18 08:19:49-05:00  2011          4      2     8      19   \n",
       "2 2015-05-10 18:41:10-04:00  2015          6      5    18      41   \n",
       "3 2013-08-24 13:07:00-04:00  2013          5      8    13       7   \n",
       "4 2014-02-22 13:41:34-05:00  2014          5      2    13      41   \n",
       "\n",
       "   travelDistance                       dropoff_latlogPair  \\\n",
       "0        2.531568                  (40.758932, -73.974663)   \n",
       "1        1.900388                  (40.788281, -73.974265)   \n",
       "2        9.768813  (40.64415740966797, -74.01134490966798)   \n",
       "3        1.692954                   (40.75786, -73.978277)   \n",
       "4        0.345349                  (40.760604, -73.985373)   \n",
       "\n",
       "                          pickup_latlogPair  \n",
       "0           (40.732177, -74.00766999999999)  \n",
       "1  (40.760752000000004, -73.97321099999999)  \n",
       "2   (40.78373336791992, -73.98020935058595)  \n",
       "3          (40.736177000000005, -73.993372)  \n",
       "4           (40.757343, -73.99036600000001)  "
      ]
     },
     "execution_count": 39,
     "metadata": {},
     "output_type": "execute_result"
    }
   ],
   "source": [
    "if 'travelDistance' in df_location_filter.columns:\n",
    "    df_location_filter.drop(['travelDistance'],axis=1,inplace=True)\n",
    "df_location_filter.insert(13,'travelDistance',travelDistanceArray)\n",
    "\n",
    "#df_location_filter.insert(13,'travelDistance', travelDistanceArray)\n",
    "df_location_filter.head()"
   ]
  },
  {
   "cell_type": "markdown",
   "metadata": {},
   "source": [
    "# check if there is travelDistance ==0 and fare_amount!=0"
   ]
  },
  {
   "cell_type": "code",
   "execution_count": 44,
   "metadata": {},
   "outputs": [
    {
     "data": {
      "text/plain": [
       "(5055, 16)"
      ]
     },
     "execution_count": 44,
     "metadata": {},
     "output_type": "execute_result"
    }
   ],
   "source": [
    "NotPossible =df_location_filter.loc[ (df_location_filter['travelDistance']==0 )& (df_location_filter['fare_amount']!=0)]\n",
    "NotPossible.shape"
   ]
  },
  {
   "cell_type": "code",
   "execution_count": 45,
   "metadata": {},
   "outputs": [
    {
     "data": {
      "text/plain": [
       "(534480, 16)"
      ]
     },
     "execution_count": 45,
     "metadata": {},
     "output_type": "execute_result"
    }
   ],
   "source": [
    "df_clean_Zerodistance= df_location_filter.loc[ (df_location_filter['travelDistance']!=0 )| (df_location_filter['fare_amount']==0)]\n",
    "df_clean_Zerodistance.shape"
   ]
  },
  {
   "cell_type": "markdown",
   "metadata": {},
   "source": [
    "# Final Clean data "
   ]
  },
  {
   "cell_type": "code",
   "execution_count": 46,
   "metadata": {},
   "outputs": [],
   "source": [
    "df_clean=df_clean_Zerodistance"
   ]
  },
  {
   "cell_type": "markdown",
   "metadata": {},
   "source": [
    "# calculate the distance between pickup/dropoff location to airport \n",
    "# calculate the distance between pickup/dropoff location to manhanttan\n"
   ]
  },
  {
   "cell_type": "markdown",
   "metadata": {},
   "source": [
    "# Find out the boundary Latitude and Longitude of JFK  and  Manhanttan \n",
    "\n",
    "JFK is (40.6413, -73.7781) Manhattan is (40.7831, -73.9712)"
   ]
  },
  {
   "cell_type": "code",
   "execution_count": 50,
   "metadata": {},
   "outputs": [
    {
     "name": "stdout",
     "output_type": "stream",
     "text": [
      "JFK latitute range is within 40.63271414141414 and 40.64988585858586\n",
      "JFK longitute range is within -73.7881 and -73.76951414141413\n",
      "Manhattan latitute range is within 40.69471616161616 and 40.87148383838384\n",
      "Manhattan longitude range is within -74.08736161616162 and -73.85503838383838\n"
     ]
    }
   ],
   "source": [
    "def findLatLogRange(X, Y, linspaceNumber, min_dist):\n",
    "    arr_range=np.linspace(-linspaceNumber, linspaceNumber, num=100)\n",
    "    lat_arr=[]\n",
    "    log_arr=[]\n",
    "    for elem in arr_range:\n",
    "        dist_lat=geopy.distance.vincenty((X,Y), (X+elem,Y)).miles\n",
    "        if ((dist_lat>=min_dist) & (dist_lat<=min_dist+0.1)):\n",
    "            lat_arr.append(elem)\n",
    "        dist_log=geopy.distance.vincenty((X,Y), (X,Y+elem)).miles\n",
    "        if ((dist_log>=min_dist) & (dist_log<=min_dist+0.1)):\n",
    "            log_arr.append(elem)\n",
    "    return [lat_arr,log_arr]\n",
    "    \n",
    "# find JFK range \n",
    "JFKLat=findLatLogRange(40.6413,-73.7781,0.01,0.5)[0]\n",
    "#print(JFKLat)\n",
    "print(\"JFK latitute range is within \"+ str(40.6413+JFKLat[0])+ \" and \"+ str(40.6413-JFKLat[0]))\n",
    "JFKLog=findLatLogRange(40.6413,-73.7781,0.01,0.5)[1]\n",
    "#print(JFKLog)\n",
    "print(\"JFK longitute range is within \"+ str(-73.7781+JFKLog[0])+ \" and \"+ str(-73.7781-JFKLat[0]))\n",
    "ManhattanLat=findLatLogRange(40.7831, -73.9712,0.25, 6)[0]\n",
    "#print(ManhattanLat)\n",
    "print(\"Manhattan latitute range is within \"+ str(40.7831+ManhattanLat[0])+ \" and \"+ str(40.7831-ManhattanLat[0]))\n",
    "ManhattanLog=findLatLogRange(40.7831, -73.9712,0.5,6)[1]\n",
    "#print(ManhattanLog)\n",
    "print(\"Manhattan longitude range is within \"+ str(-73.9712+ManhattanLog[0])+ \" and \"+str( -73.9712-ManhattanLog[0]))\n",
    "\n",
    "  \n",
    "    \n"
   ]
  },
  {
   "cell_type": "code",
   "execution_count": 47,
   "metadata": {},
   "outputs": [],
   "source": [
    "pickup_jfk=df_clean['pickup_latlogPair'].apply(distanceToJFK)\n",
    "dropoff_jfk=df_clean['dropoff_latlogPair'].apply(distanceToJFK)\n",
    "pickup_manhattan=df_clean['pickup_latlogPair'].apply(distanceToManhattan)\n",
    "dropoff_manhattan=df_clean['dropoff_latlogPair'].apply(distanceToManhattan)"
   ]
  },
  {
   "cell_type": "code",
   "execution_count": 48,
   "metadata": {},
   "outputs": [],
   "source": [
    "df_clean.insert(15,'pickup_jfk',pickup_jfk)\n",
    "df_clean.insert(15,'dropoff_jfk',dropoff_jfk)\n",
    "df_clean.insert(15,'pickup_manhattan',pickup_manhattan)\n",
    "df_clean.insert(15,'dropoff_manhattan',dropoff_manhattan)"
   ]
  },
  {
   "cell_type": "code",
   "execution_count": 49,
   "metadata": {},
   "outputs": [
    {
     "data": {
      "text/html": [
       "<div>\n",
       "<style>\n",
       "    .dataframe thead tr:only-child th {\n",
       "        text-align: right;\n",
       "    }\n",
       "\n",
       "    .dataframe thead th {\n",
       "        text-align: left;\n",
       "    }\n",
       "\n",
       "    .dataframe tbody tr th {\n",
       "        vertical-align: top;\n",
       "    }\n",
       "</style>\n",
       "<table border=\"1\" class=\"dataframe\">\n",
       "  <thead>\n",
       "    <tr style=\"text-align: right;\">\n",
       "      <th></th>\n",
       "      <th>key</th>\n",
       "      <th>fare_amount</th>\n",
       "      <th>pickup_longitude</th>\n",
       "      <th>pickup_latitude</th>\n",
       "      <th>dropoff_longitude</th>\n",
       "      <th>dropoff_latitude</th>\n",
       "      <th>passenger_count</th>\n",
       "      <th>pickup_easternTime</th>\n",
       "      <th>year</th>\n",
       "      <th>dayofweek</th>\n",
       "      <th>month</th>\n",
       "      <th>hour</th>\n",
       "      <th>minute</th>\n",
       "      <th>travelDistance</th>\n",
       "      <th>dropoff_latlogPair</th>\n",
       "      <th>dropoff_manhattan</th>\n",
       "      <th>pickup_manhattan</th>\n",
       "      <th>dropoff_jfk</th>\n",
       "      <th>pickup_jfk</th>\n",
       "      <th>pickup_latlogPair</th>\n",
       "    </tr>\n",
       "  </thead>\n",
       "  <tbody>\n",
       "    <tr>\n",
       "      <th>0</th>\n",
       "      <td>2010-03-22 10:01:00.00000076</td>\n",
       "      <td>11.3</td>\n",
       "      <td>-74.007670</td>\n",
       "      <td>40.732177</td>\n",
       "      <td>-73.974663</td>\n",
       "      <td>40.758932</td>\n",
       "      <td>1</td>\n",
       "      <td>2010-03-22 06:01:00-04:00</td>\n",
       "      <td>2010</td>\n",
       "      <td>0</td>\n",
       "      <td>3</td>\n",
       "      <td>6</td>\n",
       "      <td>1</td>\n",
       "      <td>2.531568</td>\n",
       "      <td>(40.758932, -73.974663)</td>\n",
       "      <td>1.677529</td>\n",
       "      <td>4.001102</td>\n",
       "      <td>13.131602</td>\n",
       "      <td>13.591385</td>\n",
       "      <td>(40.732177, -74.00766999999999)</td>\n",
       "    </tr>\n",
       "    <tr>\n",
       "      <th>1</th>\n",
       "      <td>2011-02-18 13:19:49.0000003</td>\n",
       "      <td>9.3</td>\n",
       "      <td>-73.973211</td>\n",
       "      <td>40.760752</td>\n",
       "      <td>-73.974265</td>\n",
       "      <td>40.788281</td>\n",
       "      <td>1</td>\n",
       "      <td>2011-02-18 08:19:49-05:00</td>\n",
       "      <td>2011</td>\n",
       "      <td>4</td>\n",
       "      <td>2</td>\n",
       "      <td>8</td>\n",
       "      <td>19</td>\n",
       "      <td>1.900388</td>\n",
       "      <td>(40.788281, -73.974265)</td>\n",
       "      <td>0.391984</td>\n",
       "      <td>1.545682</td>\n",
       "      <td>14.454707</td>\n",
       "      <td>13.149987</td>\n",
       "      <td>(40.760752000000004, -73.97321099999999)</td>\n",
       "    </tr>\n",
       "    <tr>\n",
       "      <th>2</th>\n",
       "      <td>2015-05-10 22:41:10.0000001</td>\n",
       "      <td>43.5</td>\n",
       "      <td>-73.980209</td>\n",
       "      <td>40.783733</td>\n",
       "      <td>-74.011345</td>\n",
       "      <td>40.644157</td>\n",
       "      <td>1</td>\n",
       "      <td>2015-05-10 18:41:10-04:00</td>\n",
       "      <td>2015</td>\n",
       "      <td>6</td>\n",
       "      <td>5</td>\n",
       "      <td>18</td>\n",
       "      <td>41</td>\n",
       "      <td>9.768813</td>\n",
       "      <td>(40.64415740966797, -74.01134490966798)</td>\n",
       "      <td>9.816321</td>\n",
       "      <td>0.474557</td>\n",
       "      <td>12.261040</td>\n",
       "      <td>14.463951</td>\n",
       "      <td>(40.78373336791992, -73.98020935058595)</td>\n",
       "    </tr>\n",
       "    <tr>\n",
       "      <th>3</th>\n",
       "      <td>2013-08-24 17:07:00.00000090</td>\n",
       "      <td>9.0</td>\n",
       "      <td>-73.993372</td>\n",
       "      <td>40.736177</td>\n",
       "      <td>-73.978277</td>\n",
       "      <td>40.757860</td>\n",
       "      <td>2</td>\n",
       "      <td>2013-08-24 13:07:00-04:00</td>\n",
       "      <td>2013</td>\n",
       "      <td>5</td>\n",
       "      <td>8</td>\n",
       "      <td>13</td>\n",
       "      <td>7</td>\n",
       "      <td>1.692954</td>\n",
       "      <td>(40.75786, -73.978277)</td>\n",
       "      <td>1.780765</td>\n",
       "      <td>3.440468</td>\n",
       "      <td>13.236301</td>\n",
       "      <td>13.065521</td>\n",
       "      <td>(40.736177000000005, -73.993372)</td>\n",
       "    </tr>\n",
       "    <tr>\n",
       "      <th>4</th>\n",
       "      <td>2014-02-22 18:41:34.0000001</td>\n",
       "      <td>4.0</td>\n",
       "      <td>-73.990366</td>\n",
       "      <td>40.757343</td>\n",
       "      <td>-73.985373</td>\n",
       "      <td>40.760604</td>\n",
       "      <td>1</td>\n",
       "      <td>2014-02-22 13:41:34-05:00</td>\n",
       "      <td>2014</td>\n",
       "      <td>5</td>\n",
       "      <td>2</td>\n",
       "      <td>13</td>\n",
       "      <td>41</td>\n",
       "      <td>0.345349</td>\n",
       "      <td>(40.760604, -73.985373)</td>\n",
       "      <td>1.721163</td>\n",
       "      <td>2.042000</td>\n",
       "      <td>13.647352</td>\n",
       "      <td>13.725124</td>\n",
       "      <td>(40.757343, -73.99036600000001)</td>\n",
       "    </tr>\n",
       "  </tbody>\n",
       "</table>\n",
       "</div>"
      ],
      "text/plain": [
       "                            key  fare_amount  pickup_longitude  \\\n",
       "0  2010-03-22 10:01:00.00000076         11.3        -74.007670   \n",
       "1   2011-02-18 13:19:49.0000003          9.3        -73.973211   \n",
       "2   2015-05-10 22:41:10.0000001         43.5        -73.980209   \n",
       "3  2013-08-24 17:07:00.00000090          9.0        -73.993372   \n",
       "4   2014-02-22 18:41:34.0000001          4.0        -73.990366   \n",
       "\n",
       "   pickup_latitude  dropoff_longitude  dropoff_latitude  passenger_count  \\\n",
       "0        40.732177         -73.974663         40.758932                1   \n",
       "1        40.760752         -73.974265         40.788281                1   \n",
       "2        40.783733         -74.011345         40.644157                1   \n",
       "3        40.736177         -73.978277         40.757860                2   \n",
       "4        40.757343         -73.985373         40.760604                1   \n",
       "\n",
       "         pickup_easternTime  year  dayofweek  month  hour  minute  \\\n",
       "0 2010-03-22 06:01:00-04:00  2010          0      3     6       1   \n",
       "1 2011-02-18 08:19:49-05:00  2011          4      2     8      19   \n",
       "2 2015-05-10 18:41:10-04:00  2015          6      5    18      41   \n",
       "3 2013-08-24 13:07:00-04:00  2013          5      8    13       7   \n",
       "4 2014-02-22 13:41:34-05:00  2014          5      2    13      41   \n",
       "\n",
       "   travelDistance                       dropoff_latlogPair  dropoff_manhattan  \\\n",
       "0        2.531568                  (40.758932, -73.974663)           1.677529   \n",
       "1        1.900388                  (40.788281, -73.974265)           0.391984   \n",
       "2        9.768813  (40.64415740966797, -74.01134490966798)           9.816321   \n",
       "3        1.692954                   (40.75786, -73.978277)           1.780765   \n",
       "4        0.345349                  (40.760604, -73.985373)           1.721163   \n",
       "\n",
       "   pickup_manhattan  dropoff_jfk  pickup_jfk  \\\n",
       "0          4.001102    13.131602   13.591385   \n",
       "1          1.545682    14.454707   13.149987   \n",
       "2          0.474557    12.261040   14.463951   \n",
       "3          3.440468    13.236301   13.065521   \n",
       "4          2.042000    13.647352   13.725124   \n",
       "\n",
       "                          pickup_latlogPair  \n",
       "0           (40.732177, -74.00766999999999)  \n",
       "1  (40.760752000000004, -73.97321099999999)  \n",
       "2   (40.78373336791992, -73.98020935058595)  \n",
       "3          (40.736177000000005, -73.993372)  \n",
       "4           (40.757343, -73.99036600000001)  "
      ]
     },
     "execution_count": 49,
     "metadata": {},
     "output_type": "execute_result"
    }
   ],
   "source": [
    "df_clean.head()"
   ]
  },
  {
   "cell_type": "markdown",
   "metadata": {},
   "source": [
    "# Part2. (1) Compute the Pearson correlation between Euclidean distance of the ride and the taxi fare"
   ]
  },
  {
   "cell_type": "code",
   "execution_count": 52,
   "metadata": {},
   "outputs": [
    {
     "data": {
      "text/plain": [
       "0.7758648174572774"
      ]
     },
     "execution_count": 52,
     "metadata": {},
     "output_type": "execute_result"
    }
   ],
   "source": [
    "df_clean['travelDistance'].corr(df_clean['fare_amount'])"
   ]
  },
  {
   "cell_type": "markdown",
   "metadata": {},
   "source": [
    "# Part2.(2)Compute the Pearson correlation between time of day and distance traveled"
   ]
  },
  {
   "cell_type": "code",
   "execution_count": 54,
   "metadata": {},
   "outputs": [],
   "source": [
    "timeofday=df_clean['hour']+df_clean['minute']/60\n",
    "df_clean.insert(14,'timeofday',timeofday)\n"
   ]
  },
  {
   "cell_type": "code",
   "execution_count": 55,
   "metadata": {},
   "outputs": [
    {
     "data": {
      "text/html": [
       "<div>\n",
       "<style>\n",
       "    .dataframe thead tr:only-child th {\n",
       "        text-align: right;\n",
       "    }\n",
       "\n",
       "    .dataframe thead th {\n",
       "        text-align: left;\n",
       "    }\n",
       "\n",
       "    .dataframe tbody tr th {\n",
       "        vertical-align: top;\n",
       "    }\n",
       "</style>\n",
       "<table border=\"1\" class=\"dataframe\">\n",
       "  <thead>\n",
       "    <tr style=\"text-align: right;\">\n",
       "      <th></th>\n",
       "      <th>key</th>\n",
       "      <th>fare_amount</th>\n",
       "      <th>pickup_longitude</th>\n",
       "      <th>pickup_latitude</th>\n",
       "      <th>dropoff_longitude</th>\n",
       "      <th>dropoff_latitude</th>\n",
       "      <th>passenger_count</th>\n",
       "      <th>pickup_easternTime</th>\n",
       "      <th>year</th>\n",
       "      <th>dayofweek</th>\n",
       "      <th>...</th>\n",
       "      <th>hour</th>\n",
       "      <th>minute</th>\n",
       "      <th>travelDistance</th>\n",
       "      <th>timeofday</th>\n",
       "      <th>dropoff_latlogPair</th>\n",
       "      <th>dropoff_manhattan</th>\n",
       "      <th>pickup_manhattan</th>\n",
       "      <th>dropoff_jfk</th>\n",
       "      <th>pickup_jfk</th>\n",
       "      <th>pickup_latlogPair</th>\n",
       "    </tr>\n",
       "  </thead>\n",
       "  <tbody>\n",
       "    <tr>\n",
       "      <th>0</th>\n",
       "      <td>2010-03-22 10:01:00.00000076</td>\n",
       "      <td>11.3</td>\n",
       "      <td>-74.007670</td>\n",
       "      <td>40.732177</td>\n",
       "      <td>-73.974663</td>\n",
       "      <td>40.758932</td>\n",
       "      <td>1</td>\n",
       "      <td>2010-03-22 06:01:00-04:00</td>\n",
       "      <td>2010</td>\n",
       "      <td>0</td>\n",
       "      <td>...</td>\n",
       "      <td>6</td>\n",
       "      <td>1</td>\n",
       "      <td>2.531568</td>\n",
       "      <td>6.016667</td>\n",
       "      <td>(40.758932, -73.974663)</td>\n",
       "      <td>1.677529</td>\n",
       "      <td>4.001102</td>\n",
       "      <td>13.131602</td>\n",
       "      <td>13.591385</td>\n",
       "      <td>(40.732177, -74.00766999999999)</td>\n",
       "    </tr>\n",
       "    <tr>\n",
       "      <th>1</th>\n",
       "      <td>2011-02-18 13:19:49.0000003</td>\n",
       "      <td>9.3</td>\n",
       "      <td>-73.973211</td>\n",
       "      <td>40.760752</td>\n",
       "      <td>-73.974265</td>\n",
       "      <td>40.788281</td>\n",
       "      <td>1</td>\n",
       "      <td>2011-02-18 08:19:49-05:00</td>\n",
       "      <td>2011</td>\n",
       "      <td>4</td>\n",
       "      <td>...</td>\n",
       "      <td>8</td>\n",
       "      <td>19</td>\n",
       "      <td>1.900388</td>\n",
       "      <td>8.316667</td>\n",
       "      <td>(40.788281, -73.974265)</td>\n",
       "      <td>0.391984</td>\n",
       "      <td>1.545682</td>\n",
       "      <td>14.454707</td>\n",
       "      <td>13.149987</td>\n",
       "      <td>(40.760752000000004, -73.97321099999999)</td>\n",
       "    </tr>\n",
       "    <tr>\n",
       "      <th>2</th>\n",
       "      <td>2015-05-10 22:41:10.0000001</td>\n",
       "      <td>43.5</td>\n",
       "      <td>-73.980209</td>\n",
       "      <td>40.783733</td>\n",
       "      <td>-74.011345</td>\n",
       "      <td>40.644157</td>\n",
       "      <td>1</td>\n",
       "      <td>2015-05-10 18:41:10-04:00</td>\n",
       "      <td>2015</td>\n",
       "      <td>6</td>\n",
       "      <td>...</td>\n",
       "      <td>18</td>\n",
       "      <td>41</td>\n",
       "      <td>9.768813</td>\n",
       "      <td>18.683333</td>\n",
       "      <td>(40.64415740966797, -74.01134490966798)</td>\n",
       "      <td>9.816321</td>\n",
       "      <td>0.474557</td>\n",
       "      <td>12.261040</td>\n",
       "      <td>14.463951</td>\n",
       "      <td>(40.78373336791992, -73.98020935058595)</td>\n",
       "    </tr>\n",
       "    <tr>\n",
       "      <th>3</th>\n",
       "      <td>2013-08-24 17:07:00.00000090</td>\n",
       "      <td>9.0</td>\n",
       "      <td>-73.993372</td>\n",
       "      <td>40.736177</td>\n",
       "      <td>-73.978277</td>\n",
       "      <td>40.757860</td>\n",
       "      <td>2</td>\n",
       "      <td>2013-08-24 13:07:00-04:00</td>\n",
       "      <td>2013</td>\n",
       "      <td>5</td>\n",
       "      <td>...</td>\n",
       "      <td>13</td>\n",
       "      <td>7</td>\n",
       "      <td>1.692954</td>\n",
       "      <td>13.116667</td>\n",
       "      <td>(40.75786, -73.978277)</td>\n",
       "      <td>1.780765</td>\n",
       "      <td>3.440468</td>\n",
       "      <td>13.236301</td>\n",
       "      <td>13.065521</td>\n",
       "      <td>(40.736177000000005, -73.993372)</td>\n",
       "    </tr>\n",
       "    <tr>\n",
       "      <th>4</th>\n",
       "      <td>2014-02-22 18:41:34.0000001</td>\n",
       "      <td>4.0</td>\n",
       "      <td>-73.990366</td>\n",
       "      <td>40.757343</td>\n",
       "      <td>-73.985373</td>\n",
       "      <td>40.760604</td>\n",
       "      <td>1</td>\n",
       "      <td>2014-02-22 13:41:34-05:00</td>\n",
       "      <td>2014</td>\n",
       "      <td>5</td>\n",
       "      <td>...</td>\n",
       "      <td>13</td>\n",
       "      <td>41</td>\n",
       "      <td>0.345349</td>\n",
       "      <td>13.683333</td>\n",
       "      <td>(40.760604, -73.985373)</td>\n",
       "      <td>1.721163</td>\n",
       "      <td>2.042000</td>\n",
       "      <td>13.647352</td>\n",
       "      <td>13.725124</td>\n",
       "      <td>(40.757343, -73.99036600000001)</td>\n",
       "    </tr>\n",
       "  </tbody>\n",
       "</table>\n",
       "<p>5 rows × 21 columns</p>\n",
       "</div>"
      ],
      "text/plain": [
       "                            key  fare_amount  pickup_longitude  \\\n",
       "0  2010-03-22 10:01:00.00000076         11.3        -74.007670   \n",
       "1   2011-02-18 13:19:49.0000003          9.3        -73.973211   \n",
       "2   2015-05-10 22:41:10.0000001         43.5        -73.980209   \n",
       "3  2013-08-24 17:07:00.00000090          9.0        -73.993372   \n",
       "4   2014-02-22 18:41:34.0000001          4.0        -73.990366   \n",
       "\n",
       "   pickup_latitude  dropoff_longitude  dropoff_latitude  passenger_count  \\\n",
       "0        40.732177         -73.974663         40.758932                1   \n",
       "1        40.760752         -73.974265         40.788281                1   \n",
       "2        40.783733         -74.011345         40.644157                1   \n",
       "3        40.736177         -73.978277         40.757860                2   \n",
       "4        40.757343         -73.985373         40.760604                1   \n",
       "\n",
       "         pickup_easternTime  year  dayofweek  \\\n",
       "0 2010-03-22 06:01:00-04:00  2010          0   \n",
       "1 2011-02-18 08:19:49-05:00  2011          4   \n",
       "2 2015-05-10 18:41:10-04:00  2015          6   \n",
       "3 2013-08-24 13:07:00-04:00  2013          5   \n",
       "4 2014-02-22 13:41:34-05:00  2014          5   \n",
       "\n",
       "                     ...                     hour  minute  travelDistance  \\\n",
       "0                    ...                        6       1        2.531568   \n",
       "1                    ...                        8      19        1.900388   \n",
       "2                    ...                       18      41        9.768813   \n",
       "3                    ...                       13       7        1.692954   \n",
       "4                    ...                       13      41        0.345349   \n",
       "\n",
       "   timeofday                       dropoff_latlogPair dropoff_manhattan  \\\n",
       "0   6.016667                  (40.758932, -73.974663)          1.677529   \n",
       "1   8.316667                  (40.788281, -73.974265)          0.391984   \n",
       "2  18.683333  (40.64415740966797, -74.01134490966798)          9.816321   \n",
       "3  13.116667                   (40.75786, -73.978277)          1.780765   \n",
       "4  13.683333                  (40.760604, -73.985373)          1.721163   \n",
       "\n",
       "   pickup_manhattan  dropoff_jfk  pickup_jfk  \\\n",
       "0          4.001102    13.131602   13.591385   \n",
       "1          1.545682    14.454707   13.149987   \n",
       "2          0.474557    12.261040   14.463951   \n",
       "3          3.440468    13.236301   13.065521   \n",
       "4          2.042000    13.647352   13.725124   \n",
       "\n",
       "                          pickup_latlogPair  \n",
       "0           (40.732177, -74.00766999999999)  \n",
       "1  (40.760752000000004, -73.97321099999999)  \n",
       "2   (40.78373336791992, -73.98020935058595)  \n",
       "3          (40.736177000000005, -73.993372)  \n",
       "4           (40.757343, -73.99036600000001)  \n",
       "\n",
       "[5 rows x 21 columns]"
      ]
     },
     "execution_count": 55,
     "metadata": {},
     "output_type": "execute_result"
    }
   ],
   "source": [
    "df_clean.head()"
   ]
  },
  {
   "cell_type": "code",
   "execution_count": 56,
   "metadata": {},
   "outputs": [
    {
     "data": {
      "text/plain": [
       "0.02958938370691787"
      ]
     },
     "execution_count": 56,
     "metadata": {},
     "output_type": "execute_result"
    }
   ],
   "source": [
    "df_clean['timeofday'].corr(df_clean['travelDistance'])"
   ]
  },
  {
   "cell_type": "markdown",
   "metadata": {},
   "source": [
    "# Part2. (3)compute the Pearson correlation between time of day and the taxi fare"
   ]
  },
  {
   "cell_type": "code",
   "execution_count": 57,
   "metadata": {},
   "outputs": [
    {
     "data": {
      "text/plain": [
       "-0.005077963043336033"
      ]
     },
     "execution_count": 57,
     "metadata": {},
     "output_type": "execute_result"
    }
   ],
   "source": [
    "df_clean['timeofday'].corr(df_clean['fare_amount'])"
   ]
  },
  {
   "cell_type": "markdown",
   "metadata": {},
   "source": [
    "# Part3.(1) scatter plot of dist and fare_amout"
   ]
  },
  {
   "cell_type": "code",
   "execution_count": 58,
   "metadata": {},
   "outputs": [
    {
     "data": {
      "image/png": "[encoded data removed]",
      "text/plain": [
       "<matplotlib.figure.Figure at 0x2902b317358>"
      ]
     },
     "metadata": {},
     "output_type": "display_data"
    }
   ],
   "source": [
    "plot3_1=df_clean.plot(kind='scatter',x='travelDistance',y='fare_amount')"
   ]
  },
  {
   "cell_type": "markdown",
   "metadata": {},
   "source": [
    "# Part3.(2) scatter plot of timeofday and distance"
   ]
  },
  {
   "cell_type": "code",
   "execution_count": 60,
   "metadata": {},
   "outputs": [
    {
     "data": {
      "image/png": "[encoded data removed]",
      "text/plain": [
       "<matplotlib.figure.Figure at 0x2901f2049e8>"
      ]
     },
     "metadata": {},
     "output_type": "display_data"
    }
   ],
   "source": [
    "plot3_2=df_clean.plot(kind='scatter',x='timeofday', y='travelDistance')"
   ]
  },
  {
   "cell_type": "markdown",
   "metadata": {},
   "source": [
    "# Part3.(3) scatter plot of timeofday and fare_amount"
   ]
  },
  {
   "cell_type": "code",
   "execution_count": 61,
   "metadata": {},
   "outputs": [
    {
     "data": {
      "image/png": "[encoded data removed]",
      "text/plain": [
       "<matplotlib.figure.Figure at 0x2902399e470>"
      ]
     },
     "metadata": {},
     "output_type": "display_data"
    }
   ],
   "source": [
    "plot3_3=df_clean.plot(kind='scatter',x='timeofday', y='fare_amount')"
   ]
  },
  {
   "cell_type": "markdown",
   "metadata": {},
   "source": [
    "# Part4: Create an exciting plot of your own using the dataset that you think reveals something very interesting. "
   ]
  },
  {
   "cell_type": "code",
   "execution_count": 104,
   "metadata": {},
   "outputs": [],
   "source": [
    "df_clean2=df_clean_ondistance"
   ]
  },
  {
   "cell_type": "code",
   "execution_count": 106,
   "metadata": {},
   "outputs": [
    {
     "data": {
      "text/plain": [
       "(533365, 21)"
      ]
     },
     "execution_count": 106,
     "metadata": {},
     "output_type": "execute_result"
    }
   ],
   "source": [
    "df_clean2.shape"
   ]
  },
  {
   "cell_type": "code",
   "execution_count": 119,
   "metadata": {},
   "outputs": [
    {
     "data": {
      "text/html": [
       "<div>\n",
       "<style>\n",
       "    .dataframe thead tr:only-child th {\n",
       "        text-align: right;\n",
       "    }\n",
       "\n",
       "    .dataframe thead th {\n",
       "        text-align: left;\n",
       "    }\n",
       "\n",
       "    .dataframe tbody tr th {\n",
       "        vertical-align: top;\n",
       "    }\n",
       "</style>\n",
       "<table border=\"1\" class=\"dataframe\">\n",
       "  <thead>\n",
       "    <tr style=\"text-align: right;\">\n",
       "      <th></th>\n",
       "      <th>fare_amount</th>\n",
       "      <th>pickup_longitude</th>\n",
       "      <th>pickup_latitude</th>\n",
       "      <th>dropoff_longitude</th>\n",
       "      <th>dropoff_latitude</th>\n",
       "      <th>passenger_count</th>\n",
       "      <th>year</th>\n",
       "      <th>dayofweek</th>\n",
       "      <th>month</th>\n",
       "      <th>hour</th>\n",
       "      <th>minute</th>\n",
       "      <th>timeofday</th>\n",
       "      <th>dropoff_manhattan</th>\n",
       "      <th>pickup_manhattan</th>\n",
       "      <th>dropoff_jfk</th>\n",
       "      <th>pickup_jfk</th>\n",
       "      <th>travelDistance</th>\n",
       "    </tr>\n",
       "  </thead>\n",
       "  <tbody>\n",
       "    <tr>\n",
       "      <th>count</th>\n",
       "      <td>533365.000000</td>\n",
       "      <td>533365.000000</td>\n",
       "      <td>533365.000000</td>\n",
       "      <td>533365.000000</td>\n",
       "      <td>533365.000000</td>\n",
       "      <td>533365.000000</td>\n",
       "      <td>533365.000000</td>\n",
       "      <td>533365.000000</td>\n",
       "      <td>533365.000000</td>\n",
       "      <td>533365.000000</td>\n",
       "      <td>533365.000000</td>\n",
       "      <td>533365.000000</td>\n",
       "      <td>533365.000000</td>\n",
       "      <td>533365.000000</td>\n",
       "      <td>533365.000000</td>\n",
       "      <td>533365.000000</td>\n",
       "      <td>533365.000000</td>\n",
       "    </tr>\n",
       "    <tr>\n",
       "      <th>mean</th>\n",
       "      <td>11.340005</td>\n",
       "      <td>-73.975551</td>\n",
       "      <td>40.750991</td>\n",
       "      <td>-73.974746</td>\n",
       "      <td>40.751320</td>\n",
       "      <td>1.695197</td>\n",
       "      <td>2011.741177</td>\n",
       "      <td>2.984693</td>\n",
       "      <td>6.274397</td>\n",
       "      <td>11.818721</td>\n",
       "      <td>29.567321</td>\n",
       "      <td>12.311509</td>\n",
       "      <td>2.861900</td>\n",
       "      <td>2.756478</td>\n",
       "      <td>13.013945</td>\n",
       "      <td>12.980964</td>\n",
       "      <td>3.365330</td>\n",
       "    </tr>\n",
       "    <tr>\n",
       "      <th>std</th>\n",
       "      <td>9.602944</td>\n",
       "      <td>0.035813</td>\n",
       "      <td>0.027681</td>\n",
       "      <td>0.034912</td>\n",
       "      <td>0.031251</td>\n",
       "      <td>1.310509</td>\n",
       "      <td>1.865306</td>\n",
       "      <td>1.903902</td>\n",
       "      <td>3.437877</td>\n",
       "      <td>5.838068</td>\n",
       "      <td>17.311377</td>\n",
       "      <td>5.832832</td>\n",
       "      <td>2.158345</td>\n",
       "      <td>2.131193</td>\n",
       "      <td>1.715586</td>\n",
       "      <td>1.871466</td>\n",
       "      <td>3.740915</td>\n",
       "    </tr>\n",
       "    <tr>\n",
       "      <th>min</th>\n",
       "      <td>2.510000</td>\n",
       "      <td>-74.744080</td>\n",
       "      <td>40.221474</td>\n",
       "      <td>-74.753843</td>\n",
       "      <td>40.223950</td>\n",
       "      <td>1.000000</td>\n",
       "      <td>2008.000000</td>\n",
       "      <td>0.000000</td>\n",
       "      <td>1.000000</td>\n",
       "      <td>0.000000</td>\n",
       "      <td>0.000000</td>\n",
       "      <td>0.000000</td>\n",
       "      <td>0.001224</td>\n",
       "      <td>0.002475</td>\n",
       "      <td>0.059078</td>\n",
       "      <td>0.176275</td>\n",
       "      <td>0.000084</td>\n",
       "    </tr>\n",
       "    <tr>\n",
       "      <th>25%</th>\n",
       "      <td>6.000000</td>\n",
       "      <td>-73.992292</td>\n",
       "      <td>40.736610</td>\n",
       "      <td>-73.991607</td>\n",
       "      <td>40.735467</td>\n",
       "      <td>1.000000</td>\n",
       "      <td>2010.000000</td>\n",
       "      <td>1.000000</td>\n",
       "      <td>3.000000</td>\n",
       "      <td>7.000000</td>\n",
       "      <td>15.000000</td>\n",
       "      <td>7.466667</td>\n",
       "      <td>1.430887</td>\n",
       "      <td>1.405354</td>\n",
       "      <td>12.777814</td>\n",
       "      <td>12.801857</td>\n",
       "      <td>1.284794</td>\n",
       "    </tr>\n",
       "    <tr>\n",
       "      <th>50%</th>\n",
       "      <td>8.500000</td>\n",
       "      <td>-73.982113</td>\n",
       "      <td>40.753405</td>\n",
       "      <td>-73.980683</td>\n",
       "      <td>40.753805</td>\n",
       "      <td>1.000000</td>\n",
       "      <td>2012.000000</td>\n",
       "      <td>3.000000</td>\n",
       "      <td>6.000000</td>\n",
       "      <td>12.000000</td>\n",
       "      <td>30.000000</td>\n",
       "      <td>12.700000</td>\n",
       "      <td>2.367614</td>\n",
       "      <td>2.323935</td>\n",
       "      <td>13.182662</td>\n",
       "      <td>13.186903</td>\n",
       "      <td>2.182190</td>\n",
       "    </tr>\n",
       "    <tr>\n",
       "      <th>75%</th>\n",
       "      <td>12.500000</td>\n",
       "      <td>-73.968483</td>\n",
       "      <td>40.767569</td>\n",
       "      <td>-73.965650</td>\n",
       "      <td>40.768407</td>\n",
       "      <td>2.000000</td>\n",
       "      <td>2013.000000</td>\n",
       "      <td>5.000000</td>\n",
       "      <td>9.000000</td>\n",
       "      <td>17.000000</td>\n",
       "      <td>45.000000</td>\n",
       "      <td>17.050000</td>\n",
       "      <td>3.750883</td>\n",
       "      <td>3.616748</td>\n",
       "      <td>13.631683</td>\n",
       "      <td>13.616985</td>\n",
       "      <td>3.945258</td>\n",
       "    </tr>\n",
       "    <tr>\n",
       "      <th>max</th>\n",
       "      <td>450.000000</td>\n",
       "      <td>-72.788840</td>\n",
       "      <td>41.366138</td>\n",
       "      <td>-72.693773</td>\n",
       "      <td>41.389220</td>\n",
       "      <td>6.000000</td>\n",
       "      <td>2015.000000</td>\n",
       "      <td>6.000000</td>\n",
       "      <td>12.000000</td>\n",
       "      <td>23.000000</td>\n",
       "      <td>59.000000</td>\n",
       "      <td>23.983333</td>\n",
       "      <td>70.474560</td>\n",
       "      <td>66.083873</td>\n",
       "      <td>65.436019</td>\n",
       "      <td>63.918662</td>\n",
       "      <td>115.258993</td>\n",
       "    </tr>\n",
       "  </tbody>\n",
       "</table>\n",
       "</div>"
      ],
      "text/plain": [
       "         fare_amount  pickup_longitude  pickup_latitude  dropoff_longitude  \\\n",
       "count  533365.000000     533365.000000    533365.000000      533365.000000   \n",
       "mean       11.340005        -73.975551        40.750991         -73.974746   \n",
       "std         9.602944          0.035813         0.027681           0.034912   \n",
       "min         2.510000        -74.744080        40.221474         -74.753843   \n",
       "25%         6.000000        -73.992292        40.736610         -73.991607   \n",
       "50%         8.500000        -73.982113        40.753405         -73.980683   \n",
       "75%        12.500000        -73.968483        40.767569         -73.965650   \n",
       "max       450.000000        -72.788840        41.366138         -72.693773   \n",
       "\n",
       "       dropoff_latitude  passenger_count           year      dayofweek  \\\n",
       "count     533365.000000    533365.000000  533365.000000  533365.000000   \n",
       "mean          40.751320         1.695197    2011.741177       2.984693   \n",
       "std            0.031251         1.310509       1.865306       1.903902   \n",
       "min           40.223950         1.000000    2008.000000       0.000000   \n",
       "25%           40.735467         1.000000    2010.000000       1.000000   \n",
       "50%           40.753805         1.000000    2012.000000       3.000000   \n",
       "75%           40.768407         2.000000    2013.000000       5.000000   \n",
       "max           41.389220         6.000000    2015.000000       6.000000   \n",
       "\n",
       "               month           hour         minute      timeofday  \\\n",
       "count  533365.000000  533365.000000  533365.000000  533365.000000   \n",
       "mean        6.274397      11.818721      29.567321      12.311509   \n",
       "std         3.437877       5.838068      17.311377       5.832832   \n",
       "min         1.000000       0.000000       0.000000       0.000000   \n",
       "25%         3.000000       7.000000      15.000000       7.466667   \n",
       "50%         6.000000      12.000000      30.000000      12.700000   \n",
       "75%         9.000000      17.000000      45.000000      17.050000   \n",
       "max        12.000000      23.000000      59.000000      23.983333   \n",
       "\n",
       "       dropoff_manhattan  pickup_manhattan    dropoff_jfk     pickup_jfk  \\\n",
       "count      533365.000000     533365.000000  533365.000000  533365.000000   \n",
       "mean            2.861900          2.756478      13.013945      12.980964   \n",
       "std             2.158345          2.131193       1.715586       1.871466   \n",
       "min             0.001224          0.002475       0.059078       0.176275   \n",
       "25%             1.430887          1.405354      12.777814      12.801857   \n",
       "50%             2.367614          2.323935      13.182662      13.186903   \n",
       "75%             3.750883          3.616748      13.631683      13.616985   \n",
       "max            70.474560         66.083873      65.436019      63.918662   \n",
       "\n",
       "       travelDistance  \n",
       "count   533365.000000  \n",
       "mean         3.365330  \n",
       "std          3.740915  \n",
       "min          0.000084  \n",
       "25%          1.284794  \n",
       "50%          2.182190  \n",
       "75%          3.945258  \n",
       "max        115.258993  "
      ]
     },
     "execution_count": 119,
     "metadata": {},
     "output_type": "execute_result"
    }
   ],
   "source": [
    "df_clean2.describe()"
   ]
  },
  {
   "cell_type": "code",
   "execution_count": 141,
   "metadata": {},
   "outputs": [],
   "source": [
    "WithinManhattan=df_clean2.loc[ (df_clean2['pickup_manhattan']<=2) & (df_clean2['dropoff_manhattan']<=2) ]"
   ]
  },
  {
   "cell_type": "code",
   "execution_count": 142,
   "metadata": {},
   "outputs": [
    {
     "data": {
      "text/plain": [
       "(135205, 21)"
      ]
     },
     "execution_count": 142,
     "metadata": {},
     "output_type": "execute_result"
    }
   ],
   "source": [
    "WithinManhattan.shape"
   ]
  },
  {
   "cell_type": "code",
   "execution_count": 143,
   "metadata": {},
   "outputs": [],
   "source": [
    "OutManhattan_one_direction=df_clean2.loc[ (df_clean2['pickup_manhattan']>2) | (df_clean2['dropoff_manhattan']>2) ]"
   ]
  },
  {
   "cell_type": "code",
   "execution_count": 144,
   "metadata": {},
   "outputs": [
    {
     "data": {
      "text/plain": [
       "(398160, 21)"
      ]
     },
     "execution_count": 144,
     "metadata": {},
     "output_type": "execute_result"
    }
   ],
   "source": [
    "OutManhattan_one_direction.shape"
   ]
  },
  {
   "cell_type": "code",
   "execution_count": 145,
   "metadata": {},
   "outputs": [
    {
     "data": {
      "text/plain": [
       "(224509, 21)"
      ]
     },
     "execution_count": 145,
     "metadata": {},
     "output_type": "execute_result"
    }
   ],
   "source": [
    "OutManhattan=df_clean2.loc[ (df_clean2['pickup_manhattan']>2) & (df_clean2['dropoff_manhattan']>2) ]\n",
    "OutManhattan.shape\n"
   ]
  },
  {
   "cell_type": "code",
   "execution_count": 155,
   "metadata": {},
   "outputs": [
    {
     "data": {
      "text/plain": [
       "(192512, 21)"
      ]
     },
     "execution_count": 155,
     "metadata": {},
     "output_type": "execute_result"
    }
   ],
   "source": [
    "OutManhattan_short=OutManhattan.loc[OutManhattan['travelDistance']<=6]\n",
    "OutManhattan_short.shape"
   ]
  },
  {
   "cell_type": "code",
   "execution_count": 166,
   "metadata": {},
   "outputs": [
    {
     "data": {
      "image/png": "[encoded data removed]",
      "text/plain": [
       "<matplotlib.figure.Figure at 0x1f9018a3c18>"
      ]
     },
     "metadata": {},
     "output_type": "display_data"
    }
   ],
   "source": [
    "x1=WithinManhattan['travelDistance']\n",
    "y1=WithinManhattan['fare_amount']\n",
    "\n",
    "#plt.subplot(121)\n",
    "plt.scatter(x1, y1,  marker=\">\")\n",
    "\n",
    "#plt.subplot(122)\n",
    "\n",
    "\n",
    "plt.yticks(np.arange(0, 20, 5))\n",
    "\n",
    "plt.show()\n"
   ]
  },
  {
   "cell_type": "code",
   "execution_count": 168,
   "metadata": {},
   "outputs": [
    {
     "data": {
      "image/png": "[encoded data removed]",
      "text/plain": [
       "<matplotlib.figure.Figure at 0x1f901702748>"
      ]
     },
     "metadata": {},
     "output_type": "display_data"
    }
   ],
   "source": [
    "x2=OutManhattan_short['travelDistance']\n",
    "y2=OutManhattan_short['fare_amount']\n",
    "plt.scatter(x2, y2,  marker='o')\n",
    "plt.yticks(np.arange(0, 20, 5))\n",
    "\n",
    "plt.show()"
   ]
  },
  {
   "cell_type": "code",
   "execution_count": 158,
   "metadata": {},
   "outputs": [
    {
     "data": {
      "image/png": "[encoded data removed]",
      "text/plain": [
       "<matplotlib.figure.Figure at 0x1f901885eb8>"
      ]
     },
     "metadata": {},
     "output_type": "display_data"
    }
   ],
   "source": [
    "np.random.seed(19680801)\n",
    "\n",
    "\n",
    "x = np.random.rand(10)\n",
    "y = np.random.rand(10)\n",
    "z = np.sqrt(x**2 + y**2)\n",
    "\n",
    "plt.subplot(121)\n",
    "plt.scatter(x, y, s=80, c=z, marker=\">\")\n",
    "\n",
    "plt.subplot(122)\n",
    "plt.scatter(x, y, s=80, c=z, marker=(5, 0))\n",
    "\n",
    "\n",
    "\n",
    "plt.show()"
   ]
  },
  {
   "cell_type": "code",
   "execution_count": null,
   "metadata": {},
   "outputs": [],
   "source": []
  }
 ],
 "metadata": {
  "anaconda-cloud": {},
  "kernelspec": {
   "display_name": "Python [Root]",
   "language": "python",
   "name": "Python [Root]"
  },
  "language_info": {
   "codemirror_mode": {
    "name": "ipython",
    "version": 3
   },
   "file_extension": ".py",
   "mimetype": "text/x-python",
   "name": "python",
   "nbconvert_exporter": "python",
   "pygments_lexer": "ipython3",
   "version": "3.5.4"
  }
 },
 "nbformat": 4,
 "nbformat_minor": 2
}
