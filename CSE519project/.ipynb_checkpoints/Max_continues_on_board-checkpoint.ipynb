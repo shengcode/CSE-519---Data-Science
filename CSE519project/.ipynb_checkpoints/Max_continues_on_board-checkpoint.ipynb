{
 "cells": [
  {
   "cell_type": "code",
   "execution_count": 35,
   "metadata": {},
   "outputs": [],
   "source": [
    "import pandas as pd\n",
    "import numpy as np\n",
    "import csv\n",
    "import glob\n",
    "import matplotlib.pyplot as plt\n",
    "import seaborn as sns"
   ]
  },
  {
   "cell_type": "code",
   "execution_count": 36,
   "metadata": {},
   "outputs": [],
   "source": [
    "ALL_SONG_PATH=\"D:/CSE519/Project/billboard_w_new_features_v7.csv\""
   ]
  },
  {
   "cell_type": "code",
   "execution_count": 37,
   "metadata": {},
   "outputs": [],
   "source": [
    "allSong= pd.read_csv(ALL_SONG_PATH, encoding='latin-1')"
   ]
  },
  {
   "cell_type": "code",
   "execution_count": 38,
   "metadata": {},
   "outputs": [
    {
     "data": {
      "text/html": [
       "<div>\n",
       "<style scoped>\n",
       "    .dataframe tbody tr th:only-of-type {\n",
       "        vertical-align: middle;\n",
       "    }\n",
       "\n",
       "    .dataframe tbody tr th {\n",
       "        vertical-align: top;\n",
       "    }\n",
       "\n",
       "    .dataframe thead th {\n",
       "        text-align: right;\n",
       "    }\n",
       "</style>\n",
       "<table border=\"1\" class=\"dataframe\">\n",
       "  <thead>\n",
       "    <tr style=\"text-align: right;\">\n",
       "      <th></th>\n",
       "      <th>url</th>\n",
       "      <th>weekid</th>\n",
       "      <th>week_position</th>\n",
       "      <th>song</th>\n",
       "      <th>performer</th>\n",
       "      <th>songid</th>\n",
       "      <th>instance</th>\n",
       "      <th>previous_week_position</th>\n",
       "      <th>peak_position</th>\n",
       "      <th>weeks_on_chart</th>\n",
       "      <th>year</th>\n",
       "      <th>week</th>\n",
       "      <th>jump_time</th>\n",
       "      <th>max_jump_duration</th>\n",
       "      <th>strict_rule</th>\n",
       "      <th>lenient_rule</th>\n",
       "      <th>all_time_greatest_artist</th>\n",
       "    </tr>\n",
       "  </thead>\n",
       "  <tbody>\n",
       "    <tr>\n",
       "      <th>0</th>\n",
       "      <td>http://www.billboard.com/charts/hot-100/1990-0...</td>\n",
       "      <td>1990-05-05</td>\n",
       "      <td>84</td>\n",
       "      <td>\"B\" Girls</td>\n",
       "      <td>Young And Restless</td>\n",
       "      <td>\"B\" GirlsYoung And Restless</td>\n",
       "      <td>1</td>\n",
       "      <td>NaN</td>\n",
       "      <td>54</td>\n",
       "      <td>15</td>\n",
       "      <td>1990</td>\n",
       "      <td>18</td>\n",
       "      <td>0</td>\n",
       "      <td>0</td>\n",
       "      <td>10</td>\n",
       "      <td>0</td>\n",
       "      <td>0</td>\n",
       "    </tr>\n",
       "    <tr>\n",
       "      <th>1</th>\n",
       "      <td>http://www.billboard.com/charts/hot-100/1990-0...</td>\n",
       "      <td>1990-05-12</td>\n",
       "      <td>78</td>\n",
       "      <td>\"B\" Girls</td>\n",
       "      <td>Young And Restless</td>\n",
       "      <td>\"B\" GirlsYoung And Restless</td>\n",
       "      <td>1</td>\n",
       "      <td>84.0</td>\n",
       "      <td>54</td>\n",
       "      <td>15</td>\n",
       "      <td>1990</td>\n",
       "      <td>19</td>\n",
       "      <td>0</td>\n",
       "      <td>0</td>\n",
       "      <td>10</td>\n",
       "      <td>0</td>\n",
       "      <td>0</td>\n",
       "    </tr>\n",
       "  </tbody>\n",
       "</table>\n",
       "</div>"
      ],
      "text/plain": [
       "                                                 url      weekid  \\\n",
       "0  http://www.billboard.com/charts/hot-100/1990-0...  1990-05-05   \n",
       "1  http://www.billboard.com/charts/hot-100/1990-0...  1990-05-12   \n",
       "\n",
       "   week_position       song           performer                       songid  \\\n",
       "0             84  \"B\" Girls  Young And Restless  \"B\" GirlsYoung And Restless   \n",
       "1             78  \"B\" Girls  Young And Restless  \"B\" GirlsYoung And Restless   \n",
       "\n",
       "   instance  previous_week_position  peak_position  weeks_on_chart  year  \\\n",
       "0         1                     NaN             54              15  1990   \n",
       "1         1                    84.0             54              15  1990   \n",
       "\n",
       "   week  jump_time  max_jump_duration  strict_rule  lenient_rule  \\\n",
       "0    18          0                  0           10             0   \n",
       "1    19          0                  0           10             0   \n",
       "\n",
       "   all_time_greatest_artist  \n",
       "0                         0  \n",
       "1                         0  "
      ]
     },
     "execution_count": 38,
     "metadata": {},
     "output_type": "execute_result"
    }
   ],
   "source": [
    "allSong.head(2)"
   ]
  },
  {
   "cell_type": "code",
   "execution_count": 39,
   "metadata": {},
   "outputs": [],
   "source": [
    "allSong['dateTime']=pd.DatetimeIndex(allSong['weekid'])\n",
    "datetime=pd.DatetimeIndex(allSong['dateTime'])"
   ]
  },
  {
   "cell_type": "code",
   "execution_count": 40,
   "metadata": {},
   "outputs": [
    {
     "name": "stdout",
     "output_type": "stream",
     "text": [
      "<class 'str'>\n"
     ]
    }
   ],
   "source": [
    "print(type(allSong['weekid'][0]))"
   ]
  },
  {
   "cell_type": "code",
   "execution_count": 41,
   "metadata": {},
   "outputs": [
    {
     "data": {
      "text/plain": [
       "'\"B\" GirlsYoung And Restless'"
      ]
     },
     "execution_count": 41,
     "metadata": {},
     "output_type": "execute_result"
    }
   ],
   "source": [
    "a=allSong.iloc[0]['songid']\n",
    "a"
   ]
  },
  {
   "cell_type": "code",
   "execution_count": 42,
   "metadata": {},
   "outputs": [],
   "source": [
    "def generateNewSongInforOf(df):\n",
    "    df_group=df.groupby(['songid'])\n",
    "    song_info=[]\n",
    "    for index,group in df_group:\n",
    "        weeks_from_previous=[0]\n",
    "        group.sort_values(by=['dateTime'],ascending=True) # sort by datatime \n",
    "        songid=group['songid'].tolist()\n",
    "        songtime=group['dateTime'].tolist()\n",
    "        song_continue=0\n",
    "        for i in range(1,len(songtime)):\n",
    "            timegap=(songtime[i]-songtime[i-1]).days/7\n",
    "            while(timegap==1):\n",
    "                song_continue=song_continue+1        \n",
    "        song_info.append((songid[0],song_continue))\n",
    "    song_df = pd.DataFrame(song_info,columns=['songid','song_continue_week'])\n",
    "    return song_df"
   ]
  },
  {
   "cell_type": "code",
   "execution_count": null,
   "metadata": {},
   "outputs": [],
   "source": [
    "song_df=generateNewSongInforOf(allSong)  "
   ]
  },
  {
   "cell_type": "code",
   "execution_count": null,
   "metadata": {},
   "outputs": [],
   "source": []
  }
 ],
 "metadata": {
  "kernelspec": {
   "display_name": "Python 3",
   "language": "python",
   "name": "python3"
  },
  "language_info": {
   "codemirror_mode": {
    "name": "ipython",
    "version": 3
   },
   "file_extension": ".py",
   "mimetype": "text/x-python",
   "name": "python",
   "nbconvert_exporter": "python",
   "pygments_lexer": "ipython3",
   "version": "3.6.6"
  }
 },
 "nbformat": 4,
 "nbformat_minor": 2
}
